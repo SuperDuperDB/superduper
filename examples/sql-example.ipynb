{
 "cells": [
  {
   "cell_type": "markdown",
   "id": "f0e29fef",
   "metadata": {},
   "source": [
    "# End-2-end example using SQL databases\n",
    "\n",
    "SuperDuperDB allows users to connect to a MongoDB database, or any one of a range of SQL databases, i.e. from this selection:\n",
    "\n",
    "- MongoDB\n",
    "- PostgreSQL\n",
    "- SQLite\n",
    "- DuckDB\n",
    "- BigQuery\n",
    "- ClickHouse\n",
    "- DataFusion\n",
    "- Druid\n",
    "- Impala\n",
    "- MSSQL\n",
    "- MySQL\n",
    "- Oracle\n",
    "- pandas\n",
    "- Polars\n",
    "- PySpark\n",
    "- Snowflake\n",
    "- Trino\n",
    "\n",
    "In this example we show case how to implement multimodal vector-search with DuckDB.\n",
    "This is a simple extension of multimodal vector-search with MongoDB, which is \n",
    "just slightly easier to set-up (see [here](https://docs.superduperdb.com/docs/use_cases/items/multimodal_image_search_clip)).\n",
    "Everything we do here applies equally to any of the above supported SQL databases, as well as to tabular data formats on disk, such as `pandas`."
   ]
  },
  {
   "cell_type": "markdown",
   "id": "ff1db9c6",
   "metadata": {},
   "source": [
    "## Prerequisites\n",
    "\n",
    "Before working on this use-case, make sure that you've installed the software requirements:"
   ]
  },
  {
   "cell_type": "code",
   "execution_count": 1,
   "id": "38d752ab",
   "metadata": {
    "ExecuteTime": {
     "end_time": "2023-11-15T23:02:45.893237711Z",
     "start_time": "2023-11-15T23:02:40.824501861Z"
    }
   },
   "outputs": [
    {
     "name": "stdout",
     "output_type": "stream",
     "text": [
      "Requirement already satisfied: superduperdb in /home/fnikol/Workspace/projects/superduper/superduperdb (0.0.16)\r\n",
      "Requirement already satisfied: boto3>=1.16 in /home/fnikol/.pyenv/versions/3.11.5/envs/notebook-env/lib/python3.11/site-packages (from superduperdb) (1.28.82)\r\n",
      "Requirement already satisfied: dask[distributed]>=2022.6.0 in /home/fnikol/.pyenv/versions/3.11.5/envs/notebook-env/lib/python3.11/site-packages (from superduperdb) (2023.10.1)\r\n",
      "Requirement already satisfied: dill>=0.3.6 in /home/fnikol/.pyenv/versions/3.11.5/envs/notebook-env/lib/python3.11/site-packages (from superduperdb) (0.3.7)\r\n",
      "Requirement already satisfied: fil>=1.1.0 in /home/fnikol/.pyenv/versions/3.11.5/envs/notebook-env/lib/python3.11/site-packages (from superduperdb) (1.3.0)\r\n",
      "Requirement already satisfied: loguru>=0.7.2 in /home/fnikol/.pyenv/versions/3.11.5/envs/notebook-env/lib/python3.11/site-packages (from superduperdb) (0.7.2)\r\n",
      "Requirement already satisfied: loki-logger-handler>=0.1.1 in /home/fnikol/.pyenv/versions/3.11.5/envs/notebook-env/lib/python3.11/site-packages (from superduperdb) (0.1.1)\r\n",
      "Requirement already satisfied: networkx>=2.8.8 in /home/fnikol/.pyenv/versions/3.11.5/envs/notebook-env/lib/python3.11/site-packages (from superduperdb) (3.2.1)\r\n",
      "Requirement already satisfied: requests>=2.22 in /home/fnikol/.pyenv/versions/3.11.5/envs/notebook-env/lib/python3.11/site-packages (from superduperdb) (2.31.0)\r\n",
      "Requirement already satisfied: tqdm>=4.64.1 in /home/fnikol/.pyenv/versions/3.11.5/envs/notebook-env/lib/python3.11/site-packages (from superduperdb) (4.66.1)\r\n",
      "Requirement already satisfied: typer>=0.7.0 in /home/fnikol/.pyenv/versions/3.11.5/envs/notebook-env/lib/python3.11/site-packages (from superduperdb) (0.9.0)\r\n",
      "Requirement already satisfied: pylance>=0.6.1 in /home/fnikol/.pyenv/versions/3.11.5/envs/notebook-env/lib/python3.11/site-packages (from superduperdb) (0.8.14)\r\n",
      "Requirement already satisfied: readerwriterlock>=1.0.9 in /home/fnikol/.pyenv/versions/3.11.5/envs/notebook-env/lib/python3.11/site-packages (from superduperdb) (1.0.9)\r\n",
      "Requirement already satisfied: werkzeug>=2.2.3 in /home/fnikol/.pyenv/versions/3.11.5/envs/notebook-env/lib/python3.11/site-packages (from superduperdb) (3.0.1)\r\n",
      "Requirement already satisfied: pydantic>=1 in /home/fnikol/.pyenv/versions/3.11.5/envs/notebook-env/lib/python3.11/site-packages (from superduperdb) (2.4.2)\r\n",
      "Requirement already satisfied: pymongo>=4.3.3 in /home/fnikol/.pyenv/versions/3.11.5/envs/notebook-env/lib/python3.11/site-packages (from superduperdb) (4.6.0)\r\n",
      "Requirement already satisfied: numpy>=1.24.3 in /home/fnikol/.pyenv/versions/3.11.5/envs/notebook-env/lib/python3.11/site-packages (from superduperdb) (1.26.1)\r\n",
      "Requirement already satisfied: overrides>=7 in /home/fnikol/.pyenv/versions/3.11.5/envs/notebook-env/lib/python3.11/site-packages (from superduperdb) (7.4.0)\r\n",
      "Requirement already satisfied: tenacity>=8.1.0 in /home/fnikol/.pyenv/versions/3.11.5/envs/notebook-env/lib/python3.11/site-packages (from superduperdb) (8.2.3)\r\n",
      "Requirement already satisfied: scikit-learn>=1.1.3 in /home/fnikol/.pyenv/versions/3.11.5/envs/notebook-env/lib/python3.11/site-packages (from superduperdb) (1.3.2)\r\n",
      "Requirement already satisfied: pillow>=9.4.0 in /home/fnikol/.pyenv/versions/3.11.5/envs/notebook-env/lib/python3.11/site-packages (from superduperdb) (10.1.0)\r\n",
      "Requirement already satisfied: safer>=4.8.0 in /home/fnikol/.pyenv/versions/3.11.5/envs/notebook-env/lib/python3.11/site-packages (from superduperdb) (4.10.1)\r\n",
      "Requirement already satisfied: semver>=3 in /home/fnikol/.pyenv/versions/3.11.5/envs/notebook-env/lib/python3.11/site-packages (from superduperdb) (3.0.2)\r\n",
      "Requirement already satisfied: mongomock>=4.1.2 in /home/fnikol/.pyenv/versions/3.11.5/envs/notebook-env/lib/python3.11/site-packages (from superduperdb) (4.1.2)\r\n",
      "Requirement already satisfied: ibis-framework[sqlite]>=5.1.0 in /home/fnikol/.pyenv/versions/3.11.5/envs/notebook-env/lib/python3.11/site-packages (from superduperdb) (7.0.0)\r\n",
      "Requirement already satisfied: botocore<1.32.0,>=1.31.82 in /home/fnikol/.pyenv/versions/3.11.5/envs/notebook-env/lib/python3.11/site-packages (from boto3>=1.16->superduperdb) (1.31.82)\r\n",
      "Requirement already satisfied: jmespath<2.0.0,>=0.7.1 in /home/fnikol/.pyenv/versions/3.11.5/envs/notebook-env/lib/python3.11/site-packages (from boto3>=1.16->superduperdb) (1.0.1)\r\n",
      "Requirement already satisfied: s3transfer<0.8.0,>=0.7.0 in /home/fnikol/.pyenv/versions/3.11.5/envs/notebook-env/lib/python3.11/site-packages (from boto3>=1.16->superduperdb) (0.7.0)\r\n",
      "Requirement already satisfied: click>=8.0 in /home/fnikol/.pyenv/versions/3.11.5/envs/notebook-env/lib/python3.11/site-packages (from dask[distributed]>=2022.6.0->superduperdb) (8.1.7)\r\n",
      "Requirement already satisfied: cloudpickle>=1.5.0 in /home/fnikol/.pyenv/versions/3.11.5/envs/notebook-env/lib/python3.11/site-packages (from dask[distributed]>=2022.6.0->superduperdb) (3.0.0)\r\n",
      "Requirement already satisfied: fsspec>=2021.09.0 in /home/fnikol/.pyenv/versions/3.11.5/envs/notebook-env/lib/python3.11/site-packages (from dask[distributed]>=2022.6.0->superduperdb) (2023.10.0)\r\n",
      "Requirement already satisfied: packaging>=20.0 in /home/fnikol/.pyenv/versions/3.11.5/envs/notebook-env/lib/python3.11/site-packages (from dask[distributed]>=2022.6.0->superduperdb) (23.2)\r\n",
      "Requirement already satisfied: partd>=1.2.0 in /home/fnikol/.pyenv/versions/3.11.5/envs/notebook-env/lib/python3.11/site-packages (from dask[distributed]>=2022.6.0->superduperdb) (1.4.1)\r\n",
      "Requirement already satisfied: pyyaml>=5.3.1 in /home/fnikol/.pyenv/versions/3.11.5/envs/notebook-env/lib/python3.11/site-packages (from dask[distributed]>=2022.6.0->superduperdb) (6.0.1)\r\n",
      "Requirement already satisfied: toolz>=0.10.0 in /home/fnikol/.pyenv/versions/3.11.5/envs/notebook-env/lib/python3.11/site-packages (from dask[distributed]>=2022.6.0->superduperdb) (0.12.0)\r\n",
      "Requirement already satisfied: importlib-metadata>=4.13.0 in /home/fnikol/.pyenv/versions/3.11.5/envs/notebook-env/lib/python3.11/site-packages (from dask[distributed]>=2022.6.0->superduperdb) (6.8.0)\r\n",
      "Requirement already satisfied: distributed==2023.10.1 in /home/fnikol/.pyenv/versions/3.11.5/envs/notebook-env/lib/python3.11/site-packages (from dask[distributed]>=2022.6.0->superduperdb) (2023.10.1)\r\n",
      "Requirement already satisfied: jinja2>=2.10.3 in /home/fnikol/.pyenv/versions/3.11.5/envs/notebook-env/lib/python3.11/site-packages (from distributed==2023.10.1->dask[distributed]>=2022.6.0->superduperdb) (3.1.2)\r\n",
      "Requirement already satisfied: locket>=1.0.0 in /home/fnikol/.pyenv/versions/3.11.5/envs/notebook-env/lib/python3.11/site-packages (from distributed==2023.10.1->dask[distributed]>=2022.6.0->superduperdb) (1.0.0)\r\n",
      "Requirement already satisfied: msgpack>=1.0.0 in /home/fnikol/.pyenv/versions/3.11.5/envs/notebook-env/lib/python3.11/site-packages (from distributed==2023.10.1->dask[distributed]>=2022.6.0->superduperdb) (1.0.7)\r\n",
      "Requirement already satisfied: psutil>=5.7.2 in /home/fnikol/.pyenv/versions/3.11.5/envs/notebook-env/lib/python3.11/site-packages (from distributed==2023.10.1->dask[distributed]>=2022.6.0->superduperdb) (5.9.6)\r\n",
      "Requirement already satisfied: sortedcontainers>=2.0.5 in /home/fnikol/.pyenv/versions/3.11.5/envs/notebook-env/lib/python3.11/site-packages (from distributed==2023.10.1->dask[distributed]>=2022.6.0->superduperdb) (2.4.0)\r\n",
      "Requirement already satisfied: tblib>=1.6.0 in /home/fnikol/.pyenv/versions/3.11.5/envs/notebook-env/lib/python3.11/site-packages (from distributed==2023.10.1->dask[distributed]>=2022.6.0->superduperdb) (3.0.0)\r\n",
      "Requirement already satisfied: tornado>=6.0.4 in /home/fnikol/.pyenv/versions/3.11.5/envs/notebook-env/lib/python3.11/site-packages (from distributed==2023.10.1->dask[distributed]>=2022.6.0->superduperdb) (6.3.3)\r\n",
      "Requirement already satisfied: urllib3>=1.24.3 in /home/fnikol/.pyenv/versions/3.11.5/envs/notebook-env/lib/python3.11/site-packages (from distributed==2023.10.1->dask[distributed]>=2022.6.0->superduperdb) (2.0.7)\r\n",
      "Requirement already satisfied: zict>=3.0.0 in /home/fnikol/.pyenv/versions/3.11.5/envs/notebook-env/lib/python3.11/site-packages (from distributed==2023.10.1->dask[distributed]>=2022.6.0->superduperdb) (3.0.0)\r\n",
      "Requirement already satisfied: atpublic<5,>=2.3 in /home/fnikol/.pyenv/versions/3.11.5/envs/notebook-env/lib/python3.11/site-packages (from ibis-framework[sqlite]>=5.1.0->superduperdb) (4.0)\r\n",
      "Requirement already satisfied: bidict<1,>=0.22.1 in /home/fnikol/.pyenv/versions/3.11.5/envs/notebook-env/lib/python3.11/site-packages (from ibis-framework[sqlite]>=5.1.0->superduperdb) (0.22.1)\r\n",
      "Requirement already satisfied: duckdb<1,>=0.8.1 in /home/fnikol/.pyenv/versions/3.11.5/envs/notebook-env/lib/python3.11/site-packages (from ibis-framework[sqlite]>=5.1.0->superduperdb) (0.9.1)\r\n",
      "Requirement already satisfied: duckdb-engine<1,>=0.1.8 in /home/fnikol/.pyenv/versions/3.11.5/envs/notebook-env/lib/python3.11/site-packages (from ibis-framework[sqlite]>=5.1.0->superduperdb) (0.9.2)\r\n",
      "Requirement already satisfied: filelock<4,>=3.7.0 in /home/fnikol/.pyenv/versions/3.11.5/envs/notebook-env/lib/python3.11/site-packages (from ibis-framework[sqlite]>=5.1.0->superduperdb) (3.13.1)\r\n",
      "Requirement already satisfied: multipledispatch<2,>=0.6 in /home/fnikol/.pyenv/versions/3.11.5/envs/notebook-env/lib/python3.11/site-packages (from ibis-framework[sqlite]>=5.1.0->superduperdb) (1.0.0)\r\n",
      "Requirement already satisfied: pandas<3,>=1.2.5 in /home/fnikol/.pyenv/versions/3.11.5/envs/notebook-env/lib/python3.11/site-packages (from ibis-framework[sqlite]>=5.1.0->superduperdb) (2.1.2)\r\n",
      "Requirement already satisfied: parsy<3,>=2 in /home/fnikol/.pyenv/versions/3.11.5/envs/notebook-env/lib/python3.11/site-packages (from ibis-framework[sqlite]>=5.1.0->superduperdb) (2.1)\r\n",
      "Requirement already satisfied: pins[gcs]<1,>=0.8.2 in /home/fnikol/.pyenv/versions/3.11.5/envs/notebook-env/lib/python3.11/site-packages (from ibis-framework[sqlite]>=5.1.0->superduperdb) (0.8.2)\r\n",
      "Requirement already satisfied: pyarrow<14,>=2 in /home/fnikol/.pyenv/versions/3.11.5/envs/notebook-env/lib/python3.11/site-packages (from ibis-framework[sqlite]>=5.1.0->superduperdb) (13.0.0)\r\n",
      "Requirement already satisfied: python-dateutil<3,>=2.8.2 in /home/fnikol/.pyenv/versions/3.11.5/envs/notebook-env/lib/python3.11/site-packages (from ibis-framework[sqlite]>=5.1.0->superduperdb) (2.8.2)\r\n",
      "Requirement already satisfied: pytz>=2022.7 in /home/fnikol/.pyenv/versions/3.11.5/envs/notebook-env/lib/python3.11/site-packages (from ibis-framework[sqlite]>=5.1.0->superduperdb) (2023.3.post1)\r\n",
      "Requirement already satisfied: rich<14,>=12.4.4 in /home/fnikol/.pyenv/versions/3.11.5/envs/notebook-env/lib/python3.11/site-packages (from ibis-framework[sqlite]>=5.1.0->superduperdb) (13.6.0)\r\n",
      "Requirement already satisfied: sqlalchemy<3,>=1.4 in /home/fnikol/.pyenv/versions/3.11.5/envs/notebook-env/lib/python3.11/site-packages (from ibis-framework[sqlite]>=5.1.0->superduperdb) (2.0.23)\r\n",
      "Requirement already satisfied: sqlalchemy-views<1,>=0.3.1 in /home/fnikol/.pyenv/versions/3.11.5/envs/notebook-env/lib/python3.11/site-packages (from ibis-framework[sqlite]>=5.1.0->superduperdb) (0.3.2)\r\n",
      "Requirement already satisfied: sqlglot<19,>=18.7.0 in /home/fnikol/.pyenv/versions/3.11.5/envs/notebook-env/lib/python3.11/site-packages (from ibis-framework[sqlite]>=5.1.0->superduperdb) (18.17.0)\r\n",
      "Requirement already satisfied: typing-extensions<5,>=4.3.0 in /home/fnikol/.pyenv/versions/3.11.5/envs/notebook-env/lib/python3.11/site-packages (from ibis-framework[sqlite]>=5.1.0->superduperdb) (4.8.0)\r\n",
      "Requirement already satisfied: regex>=2021.7.6 in /home/fnikol/.pyenv/versions/3.11.5/envs/notebook-env/lib/python3.11/site-packages (from ibis-framework[sqlite]>=5.1.0->superduperdb) (2023.10.3)\r\n",
      "Requirement already satisfied: sentinels in /home/fnikol/.pyenv/versions/3.11.5/envs/notebook-env/lib/python3.11/site-packages (from mongomock>=4.1.2->superduperdb) (1.0.0)\r\n",
      "Requirement already satisfied: annotated-types>=0.4.0 in /home/fnikol/.pyenv/versions/3.11.5/envs/notebook-env/lib/python3.11/site-packages (from pydantic>=1->superduperdb) (0.6.0)\r\n",
      "Requirement already satisfied: pydantic-core==2.10.1 in /home/fnikol/.pyenv/versions/3.11.5/envs/notebook-env/lib/python3.11/site-packages (from pydantic>=1->superduperdb) (2.10.1)\r\n",
      "Requirement already satisfied: dnspython<3.0.0,>=1.16.0 in /home/fnikol/.pyenv/versions/3.11.5/envs/notebook-env/lib/python3.11/site-packages (from pymongo>=4.3.3->superduperdb) (2.4.2)\r\n",
      "Requirement already satisfied: charset-normalizer<4,>=2 in /home/fnikol/.pyenv/versions/3.11.5/envs/notebook-env/lib/python3.11/site-packages (from requests>=2.22->superduperdb) (3.3.2)\r\n",
      "Requirement already satisfied: idna<4,>=2.5 in /home/fnikol/.pyenv/versions/3.11.5/envs/notebook-env/lib/python3.11/site-packages (from requests>=2.22->superduperdb) (3.4)\r\n",
      "Requirement already satisfied: certifi>=2017.4.17 in /home/fnikol/.pyenv/versions/3.11.5/envs/notebook-env/lib/python3.11/site-packages (from requests>=2.22->superduperdb) (2023.7.22)\r\n",
      "Requirement already satisfied: scipy>=1.5.0 in /home/fnikol/.pyenv/versions/3.11.5/envs/notebook-env/lib/python3.11/site-packages (from scikit-learn>=1.1.3->superduperdb) (1.11.3)\r\n",
      "Requirement already satisfied: joblib>=1.1.1 in /home/fnikol/.pyenv/versions/3.11.5/envs/notebook-env/lib/python3.11/site-packages (from scikit-learn>=1.1.3->superduperdb) (1.3.2)\r\n",
      "Requirement already satisfied: threadpoolctl>=2.0.0 in /home/fnikol/.pyenv/versions/3.11.5/envs/notebook-env/lib/python3.11/site-packages (from scikit-learn>=1.1.3->superduperdb) (3.2.0)\r\n",
      "Requirement already satisfied: MarkupSafe>=2.1.1 in /home/fnikol/.pyenv/versions/3.11.5/envs/notebook-env/lib/python3.11/site-packages (from werkzeug>=2.2.3->superduperdb) (2.1.3)\r\n",
      "Requirement already satisfied: zipp>=0.5 in /home/fnikol/.pyenv/versions/3.11.5/envs/notebook-env/lib/python3.11/site-packages (from importlib-metadata>=4.13.0->dask[distributed]>=2022.6.0->superduperdb) (3.17.0)\r\n",
      "Requirement already satisfied: tzdata>=2022.1 in /home/fnikol/.pyenv/versions/3.11.5/envs/notebook-env/lib/python3.11/site-packages (from pandas<3,>=1.2.5->ibis-framework[sqlite]>=5.1.0->superduperdb) (2023.3)\r\n",
      "Requirement already satisfied: xxhash>=1.0.0 in /home/fnikol/.pyenv/versions/3.11.5/envs/notebook-env/lib/python3.11/site-packages (from pins[gcs]<1,>=0.8.2->ibis-framework[sqlite]>=5.1.0->superduperdb) (3.4.1)\r\n",
      "Requirement already satisfied: importlib-resources>=1.3 in /home/fnikol/.pyenv/versions/3.11.5/envs/notebook-env/lib/python3.11/site-packages (from pins[gcs]<1,>=0.8.2->ibis-framework[sqlite]>=5.1.0->superduperdb) (6.1.1)\r\n",
      "Requirement already satisfied: appdirs<2.0.0 in /home/fnikol/.pyenv/versions/3.11.5/envs/notebook-env/lib/python3.11/site-packages (from pins[gcs]<1,>=0.8.2->ibis-framework[sqlite]>=5.1.0->superduperdb) (1.4.4)\r\n",
      "Requirement already satisfied: humanize>=1.0.0 in /home/fnikol/.pyenv/versions/3.11.5/envs/notebook-env/lib/python3.11/site-packages (from pins[gcs]<1,>=0.8.2->ibis-framework[sqlite]>=5.1.0->superduperdb) (4.8.0)\r\n",
      "Requirement already satisfied: gcsfs in /home/fnikol/.pyenv/versions/3.11.5/envs/notebook-env/lib/python3.11/site-packages (from pins[gcs]<1,>=0.8.2->ibis-framework[sqlite]>=5.1.0->superduperdb) (2023.10.0)\r\n",
      "Requirement already satisfied: six>=1.5 in /home/fnikol/.pyenv/versions/3.11.5/envs/notebook-env/lib/python3.11/site-packages (from python-dateutil<3,>=2.8.2->ibis-framework[sqlite]>=5.1.0->superduperdb) (1.16.0)\r\n",
      "Requirement already satisfied: markdown-it-py>=2.2.0 in /home/fnikol/.pyenv/versions/3.11.5/envs/notebook-env/lib/python3.11/site-packages (from rich<14,>=12.4.4->ibis-framework[sqlite]>=5.1.0->superduperdb) (3.0.0)\r\n",
      "Requirement already satisfied: pygments<3.0.0,>=2.13.0 in /home/fnikol/.pyenv/versions/3.11.5/envs/notebook-env/lib/python3.11/site-packages (from rich<14,>=12.4.4->ibis-framework[sqlite]>=5.1.0->superduperdb) (2.16.1)\r\n",
      "Requirement already satisfied: greenlet!=0.4.17 in /home/fnikol/.pyenv/versions/3.11.5/envs/notebook-env/lib/python3.11/site-packages (from sqlalchemy<3,>=1.4->ibis-framework[sqlite]>=5.1.0->superduperdb) (3.0.1)\r\n",
      "Requirement already satisfied: mdurl~=0.1 in /home/fnikol/.pyenv/versions/3.11.5/envs/notebook-env/lib/python3.11/site-packages (from markdown-it-py>=2.2.0->rich<14,>=12.4.4->ibis-framework[sqlite]>=5.1.0->superduperdb) (0.1.2)\r\n",
      "Requirement already satisfied: aiohttp!=4.0.0a0,!=4.0.0a1 in /home/fnikol/.pyenv/versions/3.11.5/envs/notebook-env/lib/python3.11/site-packages (from gcsfs->pins[gcs]<1,>=0.8.2->ibis-framework[sqlite]>=5.1.0->superduperdb) (3.8.6)\r\n",
      "Requirement already satisfied: decorator>4.1.2 in /home/fnikol/.pyenv/versions/3.11.5/envs/notebook-env/lib/python3.11/site-packages (from gcsfs->pins[gcs]<1,>=0.8.2->ibis-framework[sqlite]>=5.1.0->superduperdb) (5.1.1)\r\n",
      "Requirement already satisfied: google-auth>=1.2 in /home/fnikol/.pyenv/versions/3.11.5/envs/notebook-env/lib/python3.11/site-packages (from gcsfs->pins[gcs]<1,>=0.8.2->ibis-framework[sqlite]>=5.1.0->superduperdb) (2.23.4)\r\n",
      "Requirement already satisfied: google-auth-oauthlib in /home/fnikol/.pyenv/versions/3.11.5/envs/notebook-env/lib/python3.11/site-packages (from gcsfs->pins[gcs]<1,>=0.8.2->ibis-framework[sqlite]>=5.1.0->superduperdb) (1.1.0)\r\n",
      "Requirement already satisfied: google-cloud-storage in /home/fnikol/.pyenv/versions/3.11.5/envs/notebook-env/lib/python3.11/site-packages (from gcsfs->pins[gcs]<1,>=0.8.2->ibis-framework[sqlite]>=5.1.0->superduperdb) (2.13.0)\r\n",
      "Requirement already satisfied: attrs>=17.3.0 in /home/fnikol/.pyenv/versions/3.11.5/envs/notebook-env/lib/python3.11/site-packages (from aiohttp!=4.0.0a0,!=4.0.0a1->gcsfs->pins[gcs]<1,>=0.8.2->ibis-framework[sqlite]>=5.1.0->superduperdb) (23.1.0)\r\n",
      "Requirement already satisfied: multidict<7.0,>=4.5 in /home/fnikol/.pyenv/versions/3.11.5/envs/notebook-env/lib/python3.11/site-packages (from aiohttp!=4.0.0a0,!=4.0.0a1->gcsfs->pins[gcs]<1,>=0.8.2->ibis-framework[sqlite]>=5.1.0->superduperdb) (6.0.4)\r\n",
      "Requirement already satisfied: async-timeout<5.0,>=4.0.0a3 in /home/fnikol/.pyenv/versions/3.11.5/envs/notebook-env/lib/python3.11/site-packages (from aiohttp!=4.0.0a0,!=4.0.0a1->gcsfs->pins[gcs]<1,>=0.8.2->ibis-framework[sqlite]>=5.1.0->superduperdb) (4.0.3)\r\n",
      "Requirement already satisfied: yarl<2.0,>=1.0 in /home/fnikol/.pyenv/versions/3.11.5/envs/notebook-env/lib/python3.11/site-packages (from aiohttp!=4.0.0a0,!=4.0.0a1->gcsfs->pins[gcs]<1,>=0.8.2->ibis-framework[sqlite]>=5.1.0->superduperdb) (1.9.2)\r\n",
      "Requirement already satisfied: frozenlist>=1.1.1 in /home/fnikol/.pyenv/versions/3.11.5/envs/notebook-env/lib/python3.11/site-packages (from aiohttp!=4.0.0a0,!=4.0.0a1->gcsfs->pins[gcs]<1,>=0.8.2->ibis-framework[sqlite]>=5.1.0->superduperdb) (1.4.0)\r\n",
      "Requirement already satisfied: aiosignal>=1.1.2 in /home/fnikol/.pyenv/versions/3.11.5/envs/notebook-env/lib/python3.11/site-packages (from aiohttp!=4.0.0a0,!=4.0.0a1->gcsfs->pins[gcs]<1,>=0.8.2->ibis-framework[sqlite]>=5.1.0->superduperdb) (1.3.1)\r\n",
      "Requirement already satisfied: cachetools<6.0,>=2.0.0 in /home/fnikol/.pyenv/versions/3.11.5/envs/notebook-env/lib/python3.11/site-packages (from google-auth>=1.2->gcsfs->pins[gcs]<1,>=0.8.2->ibis-framework[sqlite]>=5.1.0->superduperdb) (5.3.2)\r\n",
      "Requirement already satisfied: pyasn1-modules>=0.2.1 in /home/fnikol/.pyenv/versions/3.11.5/envs/notebook-env/lib/python3.11/site-packages (from google-auth>=1.2->gcsfs->pins[gcs]<1,>=0.8.2->ibis-framework[sqlite]>=5.1.0->superduperdb) (0.3.0)\r\n",
      "Requirement already satisfied: rsa<5,>=3.1.4 in /home/fnikol/.pyenv/versions/3.11.5/envs/notebook-env/lib/python3.11/site-packages (from google-auth>=1.2->gcsfs->pins[gcs]<1,>=0.8.2->ibis-framework[sqlite]>=5.1.0->superduperdb) (4.9)\r\n",
      "Requirement already satisfied: requests-oauthlib>=0.7.0 in /home/fnikol/.pyenv/versions/3.11.5/envs/notebook-env/lib/python3.11/site-packages (from google-auth-oauthlib->gcsfs->pins[gcs]<1,>=0.8.2->ibis-framework[sqlite]>=5.1.0->superduperdb) (1.3.1)\r\n",
      "Requirement already satisfied: google-api-core!=2.0.*,!=2.1.*,!=2.2.*,!=2.3.0,<3.0.0dev,>=1.31.5 in /home/fnikol/.pyenv/versions/3.11.5/envs/notebook-env/lib/python3.11/site-packages (from google-cloud-storage->gcsfs->pins[gcs]<1,>=0.8.2->ibis-framework[sqlite]>=5.1.0->superduperdb) (2.13.0)\r\n",
      "Requirement already satisfied: google-cloud-core<3.0dev,>=2.3.0 in /home/fnikol/.pyenv/versions/3.11.5/envs/notebook-env/lib/python3.11/site-packages (from google-cloud-storage->gcsfs->pins[gcs]<1,>=0.8.2->ibis-framework[sqlite]>=5.1.0->superduperdb) (2.3.3)\r\n",
      "Requirement already satisfied: google-resumable-media>=2.6.0 in /home/fnikol/.pyenv/versions/3.11.5/envs/notebook-env/lib/python3.11/site-packages (from google-cloud-storage->gcsfs->pins[gcs]<1,>=0.8.2->ibis-framework[sqlite]>=5.1.0->superduperdb) (2.6.0)\r\n",
      "Requirement already satisfied: google-crc32c<2.0dev,>=1.0 in /home/fnikol/.pyenv/versions/3.11.5/envs/notebook-env/lib/python3.11/site-packages (from google-cloud-storage->gcsfs->pins[gcs]<1,>=0.8.2->ibis-framework[sqlite]>=5.1.0->superduperdb) (1.5.0)\r\n",
      "Requirement already satisfied: googleapis-common-protos<2.0.dev0,>=1.56.2 in /home/fnikol/.pyenv/versions/3.11.5/envs/notebook-env/lib/python3.11/site-packages (from google-api-core!=2.0.*,!=2.1.*,!=2.2.*,!=2.3.0,<3.0.0dev,>=1.31.5->google-cloud-storage->gcsfs->pins[gcs]<1,>=0.8.2->ibis-framework[sqlite]>=5.1.0->superduperdb) (1.61.0)\r\n",
      "Requirement already satisfied: protobuf!=3.20.0,!=3.20.1,!=4.21.0,!=4.21.1,!=4.21.2,!=4.21.3,!=4.21.4,!=4.21.5,<5.0.0.dev0,>=3.19.5 in /home/fnikol/.pyenv/versions/3.11.5/envs/notebook-env/lib/python3.11/site-packages (from google-api-core!=2.0.*,!=2.1.*,!=2.2.*,!=2.3.0,<3.0.0dev,>=1.31.5->google-cloud-storage->gcsfs->pins[gcs]<1,>=0.8.2->ibis-framework[sqlite]>=5.1.0->superduperdb) (4.25.0)\r\n",
      "Requirement already satisfied: pyasn1<0.6.0,>=0.4.6 in /home/fnikol/.pyenv/versions/3.11.5/envs/notebook-env/lib/python3.11/site-packages (from pyasn1-modules>=0.2.1->google-auth>=1.2->gcsfs->pins[gcs]<1,>=0.8.2->ibis-framework[sqlite]>=5.1.0->superduperdb) (0.5.0)\r\n",
      "Requirement already satisfied: oauthlib>=3.0.0 in /home/fnikol/.pyenv/versions/3.11.5/envs/notebook-env/lib/python3.11/site-packages (from requests-oauthlib>=0.7.0->google-auth-oauthlib->gcsfs->pins[gcs]<1,>=0.8.2->ibis-framework[sqlite]>=5.1.0->superduperdb) (3.2.2)\r\n",
      "\r\n",
      "\u001B[1m[\u001B[0m\u001B[34;49mnotice\u001B[0m\u001B[1;39;49m]\u001B[0m\u001B[39;49m A new release of pip is available: \u001B[0m\u001B[31;49m23.2.1\u001B[0m\u001B[39;49m -> \u001B[0m\u001B[32;49m23.3.1\u001B[0m\r\n",
      "\u001B[1m[\u001B[0m\u001B[34;49mnotice\u001B[0m\u001B[1;39;49m]\u001B[0m\u001B[39;49m To update, run: \u001B[0m\u001B[32;49mpip install --upgrade pip\u001B[0m\r\n",
      "Requirement already satisfied: torch in /home/fnikol/.pyenv/versions/3.11.5/envs/notebook-env/lib/python3.11/site-packages (2.1.0)\r\n",
      "Requirement already satisfied: ipython in /home/fnikol/.pyenv/versions/3.11.5/envs/notebook-env/lib/python3.11/site-packages (8.17.2)\r\n",
      "Requirement already satisfied: openai-clip in /home/fnikol/.pyenv/versions/3.11.5/envs/notebook-env/lib/python3.11/site-packages (1.0.1)\r\n",
      "Requirement already satisfied: pandas in /home/fnikol/.pyenv/versions/3.11.5/envs/notebook-env/lib/python3.11/site-packages (2.1.2)\r\n",
      "Requirement already satisfied: filelock in /home/fnikol/.pyenv/versions/3.11.5/envs/notebook-env/lib/python3.11/site-packages (from torch) (3.13.1)\r\n",
      "Requirement already satisfied: typing-extensions in /home/fnikol/.pyenv/versions/3.11.5/envs/notebook-env/lib/python3.11/site-packages (from torch) (4.8.0)\r\n",
      "Requirement already satisfied: sympy in /home/fnikol/.pyenv/versions/3.11.5/envs/notebook-env/lib/python3.11/site-packages (from torch) (1.12)\r\n",
      "Requirement already satisfied: networkx in /home/fnikol/.pyenv/versions/3.11.5/envs/notebook-env/lib/python3.11/site-packages (from torch) (3.2.1)\r\n",
      "Requirement already satisfied: jinja2 in /home/fnikol/.pyenv/versions/3.11.5/envs/notebook-env/lib/python3.11/site-packages (from torch) (3.1.2)\r\n",
      "Requirement already satisfied: fsspec in /home/fnikol/.pyenv/versions/3.11.5/envs/notebook-env/lib/python3.11/site-packages (from torch) (2023.10.0)\r\n",
      "Requirement already satisfied: nvidia-cuda-nvrtc-cu12==12.1.105 in /home/fnikol/.pyenv/versions/3.11.5/envs/notebook-env/lib/python3.11/site-packages (from torch) (12.1.105)\r\n",
      "Requirement already satisfied: nvidia-cuda-runtime-cu12==12.1.105 in /home/fnikol/.pyenv/versions/3.11.5/envs/notebook-env/lib/python3.11/site-packages (from torch) (12.1.105)\r\n",
      "Requirement already satisfied: nvidia-cuda-cupti-cu12==12.1.105 in /home/fnikol/.pyenv/versions/3.11.5/envs/notebook-env/lib/python3.11/site-packages (from torch) (12.1.105)\r\n",
      "Requirement already satisfied: nvidia-cudnn-cu12==8.9.2.26 in /home/fnikol/.pyenv/versions/3.11.5/envs/notebook-env/lib/python3.11/site-packages (from torch) (8.9.2.26)\r\n",
      "Requirement already satisfied: nvidia-cublas-cu12==12.1.3.1 in /home/fnikol/.pyenv/versions/3.11.5/envs/notebook-env/lib/python3.11/site-packages (from torch) (12.1.3.1)\r\n",
      "Requirement already satisfied: nvidia-cufft-cu12==11.0.2.54 in /home/fnikol/.pyenv/versions/3.11.5/envs/notebook-env/lib/python3.11/site-packages (from torch) (11.0.2.54)\r\n",
      "Requirement already satisfied: nvidia-curand-cu12==10.3.2.106 in /home/fnikol/.pyenv/versions/3.11.5/envs/notebook-env/lib/python3.11/site-packages (from torch) (10.3.2.106)\r\n",
      "Requirement already satisfied: nvidia-cusolver-cu12==11.4.5.107 in /home/fnikol/.pyenv/versions/3.11.5/envs/notebook-env/lib/python3.11/site-packages (from torch) (11.4.5.107)\r\n",
      "Requirement already satisfied: nvidia-cusparse-cu12==12.1.0.106 in /home/fnikol/.pyenv/versions/3.11.5/envs/notebook-env/lib/python3.11/site-packages (from torch) (12.1.0.106)\r\n",
      "Requirement already satisfied: nvidia-nccl-cu12==2.18.1 in /home/fnikol/.pyenv/versions/3.11.5/envs/notebook-env/lib/python3.11/site-packages (from torch) (2.18.1)\r\n",
      "Requirement already satisfied: nvidia-nvtx-cu12==12.1.105 in /home/fnikol/.pyenv/versions/3.11.5/envs/notebook-env/lib/python3.11/site-packages (from torch) (12.1.105)\r\n",
      "Requirement already satisfied: triton==2.1.0 in /home/fnikol/.pyenv/versions/3.11.5/envs/notebook-env/lib/python3.11/site-packages (from torch) (2.1.0)\r\n",
      "Requirement already satisfied: nvidia-nvjitlink-cu12 in /home/fnikol/.pyenv/versions/3.11.5/envs/notebook-env/lib/python3.11/site-packages (from nvidia-cusolver-cu12==11.4.5.107->torch) (12.3.52)\r\n",
      "Requirement already satisfied: decorator in /home/fnikol/.pyenv/versions/3.11.5/envs/notebook-env/lib/python3.11/site-packages (from ipython) (5.1.1)\r\n",
      "Requirement already satisfied: jedi>=0.16 in /home/fnikol/.pyenv/versions/3.11.5/envs/notebook-env/lib/python3.11/site-packages (from ipython) (0.19.1)\r\n",
      "Requirement already satisfied: matplotlib-inline in /home/fnikol/.pyenv/versions/3.11.5/envs/notebook-env/lib/python3.11/site-packages (from ipython) (0.1.6)\r\n",
      "Requirement already satisfied: prompt-toolkit!=3.0.37,<3.1.0,>=3.0.30 in /home/fnikol/.pyenv/versions/3.11.5/envs/notebook-env/lib/python3.11/site-packages (from ipython) (3.0.39)\r\n",
      "Requirement already satisfied: pygments>=2.4.0 in /home/fnikol/.pyenv/versions/3.11.5/envs/notebook-env/lib/python3.11/site-packages (from ipython) (2.16.1)\r\n",
      "Requirement already satisfied: stack-data in /home/fnikol/.pyenv/versions/3.11.5/envs/notebook-env/lib/python3.11/site-packages (from ipython) (0.6.3)\r\n",
      "Requirement already satisfied: traitlets>=5 in /home/fnikol/.pyenv/versions/3.11.5/envs/notebook-env/lib/python3.11/site-packages (from ipython) (5.13.0)\r\n",
      "Requirement already satisfied: pexpect>4.3 in /home/fnikol/.pyenv/versions/3.11.5/envs/notebook-env/lib/python3.11/site-packages (from ipython) (4.8.0)\r\n",
      "Requirement already satisfied: ftfy in /home/fnikol/.pyenv/versions/3.11.5/envs/notebook-env/lib/python3.11/site-packages (from openai-clip) (6.1.1)\r\n",
      "Requirement already satisfied: regex in /home/fnikol/.pyenv/versions/3.11.5/envs/notebook-env/lib/python3.11/site-packages (from openai-clip) (2023.10.3)\r\n",
      "Requirement already satisfied: tqdm in /home/fnikol/.pyenv/versions/3.11.5/envs/notebook-env/lib/python3.11/site-packages (from openai-clip) (4.66.1)\r\n",
      "Requirement already satisfied: numpy<2,>=1.23.2 in /home/fnikol/.pyenv/versions/3.11.5/envs/notebook-env/lib/python3.11/site-packages (from pandas) (1.26.1)\r\n",
      "Requirement already satisfied: python-dateutil>=2.8.2 in /home/fnikol/.pyenv/versions/3.11.5/envs/notebook-env/lib/python3.11/site-packages (from pandas) (2.8.2)\r\n",
      "Requirement already satisfied: pytz>=2020.1 in /home/fnikol/.pyenv/versions/3.11.5/envs/notebook-env/lib/python3.11/site-packages (from pandas) (2023.3.post1)\r\n",
      "Requirement already satisfied: tzdata>=2022.1 in /home/fnikol/.pyenv/versions/3.11.5/envs/notebook-env/lib/python3.11/site-packages (from pandas) (2023.3)\r\n",
      "Requirement already satisfied: parso<0.9.0,>=0.8.3 in /home/fnikol/.pyenv/versions/3.11.5/envs/notebook-env/lib/python3.11/site-packages (from jedi>=0.16->ipython) (0.8.3)\r\n",
      "Requirement already satisfied: ptyprocess>=0.5 in /home/fnikol/.pyenv/versions/3.11.5/envs/notebook-env/lib/python3.11/site-packages (from pexpect>4.3->ipython) (0.7.0)\r\n",
      "Requirement already satisfied: wcwidth in /home/fnikol/.pyenv/versions/3.11.5/envs/notebook-env/lib/python3.11/site-packages (from prompt-toolkit!=3.0.37,<3.1.0,>=3.0.30->ipython) (0.2.9)\r\n",
      "Requirement already satisfied: six>=1.5 in /home/fnikol/.pyenv/versions/3.11.5/envs/notebook-env/lib/python3.11/site-packages (from python-dateutil>=2.8.2->pandas) (1.16.0)\r\n",
      "Requirement already satisfied: MarkupSafe>=2.0 in /home/fnikol/.pyenv/versions/3.11.5/envs/notebook-env/lib/python3.11/site-packages (from jinja2->torch) (2.1.3)\r\n",
      "Requirement already satisfied: executing>=1.2.0 in /home/fnikol/.pyenv/versions/3.11.5/envs/notebook-env/lib/python3.11/site-packages (from stack-data->ipython) (2.0.1)\r\n",
      "Requirement already satisfied: asttokens>=2.1.0 in /home/fnikol/.pyenv/versions/3.11.5/envs/notebook-env/lib/python3.11/site-packages (from stack-data->ipython) (2.4.1)\r\n",
      "Requirement already satisfied: pure-eval in /home/fnikol/.pyenv/versions/3.11.5/envs/notebook-env/lib/python3.11/site-packages (from stack-data->ipython) (0.2.2)\r\n",
      "Requirement already satisfied: mpmath>=0.19 in /home/fnikol/.pyenv/versions/3.11.5/envs/notebook-env/lib/python3.11/site-packages (from sympy->torch) (1.3.0)\r\n",
      "\r\n",
      "\u001B[1m[\u001B[0m\u001B[34;49mnotice\u001B[0m\u001B[1;39;49m]\u001B[0m\u001B[39;49m A new release of pip is available: \u001B[0m\u001B[31;49m23.2.1\u001B[0m\u001B[39;49m -> \u001B[0m\u001B[32;49m23.3.1\u001B[0m\r\n",
      "\u001B[1m[\u001B[0m\u001B[34;49mnotice\u001B[0m\u001B[1;39;49m]\u001B[0m\u001B[39;49m To update, run: \u001B[0m\u001B[32;49mpip install --upgrade pip\u001B[0m\r\n"
     ]
    }
   ],
   "source": [
    "!pip install superduperdb\n",
    "!pip install torch ipython openai-clip pandas"
   ]
  },
  {
   "cell_type": "markdown",
   "id": "dfde8264",
   "metadata": {},
   "source": [
    "## Connect to datastore\n",
    "\n",
    "The first step in any `superduperdb` workflow is to connect to your datastore.\n",
    "To connect to a different datastore, add a different `URI`, e.g. `postgres://...`."
   ]
  },
  {
   "cell_type": "code",
   "execution_count": 2,
   "id": "b8e7ef91-9eda-4fbd-b34f-b49b5411fc47",
   "metadata": {
    "ExecuteTime": {
     "end_time": "2023-11-15T23:02:48.892118749Z",
     "start_time": "2023-11-15T23:02:47.768272561Z"
    }
   },
   "outputs": [
    {
     "name": "stdout",
     "output_type": "stream",
     "text": [
      "\u001B[32m 2023-Nov-16 01:02:48.74\u001B[0m| \u001B[34m\u001B[1mDEBUG   \u001B[0m | \u001B[36mmoumia  \u001B[0m| \u001B[36msuperduperdb.base.build\u001B[0m:\u001B[36m49  \u001B[0m | \u001B[34m\u001B[1mParsing data connection URI:duckdb://.superduperdb/test.ddb\u001B[0m\n",
      "\u001B[32m 2023-Nov-16 01:02:48.86\u001B[0m| \u001B[1mINFO    \u001B[0m | \u001B[36mmoumia  \u001B[0m| \u001B[36msuperduperdb.base.build\u001B[0m:\u001B[36m71  \u001B[0m | \u001B[1mData Client is ready. <ibis.backends.duckdb.Backend object at 0x7f68345b6210>\u001B[0m\n",
      "\u001B[32m 2023-Nov-16 01:02:48.88\u001B[0m| \u001B[1mINFO    \u001B[0m | \u001B[36mmoumia  \u001B[0m| \u001B[36msuperduperdb.base.datalayer\u001B[0m:\u001B[36m81  \u001B[0m | \u001B[1mBuilding Data Layer\u001B[0m\n"
     ]
    }
   ],
   "source": [
    "import os\n",
    "from superduperdb import superduper\n",
    "\n",
    "os.makedirs('.superduperdb', exist_ok=True)\n",
    "db = superduper('duckdb://.superduperdb/test.ddb')"
   ]
  },
  {
   "cell_type": "markdown",
   "id": "b8794451",
   "metadata": {},
   "source": [
    "## Load dataset\n",
    "\n",
    "Once connected, add some data to the datastore:"
   ]
  },
  {
   "cell_type": "code",
   "execution_count": 4,
   "id": "b9d2b073-38b0-4d29-aa65-e568f19e7852",
   "metadata": {
    "ExecuteTime": {
     "end_time": "2023-11-15T23:05:38.270074394Z",
     "start_time": "2023-11-15T23:04:57.733221385Z"
    }
   },
   "outputs": [
    {
     "name": "stdout",
     "output_type": "stream",
     "text": [
      "  % Total    % Received % Xferd  Average Speed   Time    Time     Time  Current\r\n",
      "                                 Dload  Upload   Total   Spent    Left  Speed\r\n",
      "100 98.7M  100 98.7M    0     0  2579k      0  0:00:39  0:00:39 --:--:-- 3938k\r\n",
      "  % Total    % Received % Xferd  Average Speed   Time    Time     Time  Current\r\n",
      "                                 Dload  Upload   Total   Spent    Left  Speed\r\n",
      "100  489k  100  489k    0     0   618k      0 --:--:-- --:--:-- --:--:--  618k\r\n",
      "Archive:  coco_sample.zip\r\n"
     ]
    }
   ],
   "source": [
    "!curl -O https://superduperdb-public.s3.eu-west-1.amazonaws.com/coco_sample.zip\n",
    "!curl -O https://superduperdb-public.s3.eu-west-1.amazonaws.com/captions_tiny.json\n",
    "!unzip -f coco_sample.zip\n",
    "!mkdir -p data/coco\n",
    "#!mv images_small data/coco/images"
   ]
  },
  {
   "cell_type": "code",
   "execution_count": 5,
   "id": "ec5d36d3-7e74-4c87-92c2-ed1586330858",
   "metadata": {
    "ExecuteTime": {
     "end_time": "2023-11-15T23:05:41.304985580Z",
     "start_time": "2023-11-15T23:05:40.860039863Z"
    }
   },
   "outputs": [
    {
     "ename": "FileNotFoundError",
     "evalue": "[Errno 2] No such file or directory: 'data/coco/images/COCO_train2014_000000279941.jpg'",
     "output_type": "error",
     "traceback": [
      "\u001B[0;31m---------------------------------------------------------------------------\u001B[0m",
      "\u001B[0;31mFileNotFoundError\u001B[0m                         Traceback (most recent call last)",
      "Cell \u001B[0;32mIn[5], line 17\u001B[0m\n\u001B[1;32m     14\u001B[0m data[\u001B[38;5;124m'\u001B[39m\u001B[38;5;124mid\u001B[39m\u001B[38;5;124m'\u001B[39m] \u001B[38;5;241m=\u001B[39m pandas\u001B[38;5;241m.\u001B[39mSeries(data\u001B[38;5;241m.\u001B[39mindex)\u001B[38;5;241m.\u001B[39mapply(\u001B[38;5;28mstr\u001B[39m)\n\u001B[1;32m     15\u001B[0m images_df \u001B[38;5;241m=\u001B[39m data[[\u001B[38;5;124m'\u001B[39m\u001B[38;5;124mid\u001B[39m\u001B[38;5;124m'\u001B[39m, \u001B[38;5;124m'\u001B[39m\u001B[38;5;124mimage\u001B[39m\u001B[38;5;124m'\u001B[39m]]\n\u001B[0;32m---> 17\u001B[0m images_df[\u001B[38;5;124m'\u001B[39m\u001B[38;5;124mimage\u001B[39m\u001B[38;5;124m'\u001B[39m] \u001B[38;5;241m=\u001B[39m \u001B[43mimages_df\u001B[49m\u001B[43m[\u001B[49m\u001B[38;5;124;43m'\u001B[39;49m\u001B[38;5;124;43mimage\u001B[39;49m\u001B[38;5;124;43m'\u001B[39;49m\u001B[43m]\u001B[49m\u001B[38;5;241;43m.\u001B[39;49m\u001B[43mapply\u001B[49m\u001B[43m(\u001B[49m\u001B[43mPIL\u001B[49m\u001B[38;5;241;43m.\u001B[39;49m\u001B[43mImage\u001B[49m\u001B[38;5;241;43m.\u001B[39;49m\u001B[43mopen\u001B[49m\u001B[43m)\u001B[49m\n\u001B[1;32m     18\u001B[0m captions_df \u001B[38;5;241m=\u001B[39m data[[\u001B[38;5;124m'\u001B[39m\u001B[38;5;124mid\u001B[39m\u001B[38;5;124m'\u001B[39m, \u001B[38;5;124m'\u001B[39m\u001B[38;5;124mcaptions\u001B[39m\u001B[38;5;124m'\u001B[39m]]\u001B[38;5;241m.\u001B[39mexplode(\u001B[38;5;124m'\u001B[39m\u001B[38;5;124mcaptions\u001B[39m\u001B[38;5;124m'\u001B[39m)\n",
      "File \u001B[0;32m~/.pyenv/versions/notebook-env/lib/python3.11/site-packages/pandas/core/series.py:4760\u001B[0m, in \u001B[0;36mSeries.apply\u001B[0;34m(self, func, convert_dtype, args, by_row, **kwargs)\u001B[0m\n\u001B[1;32m   4625\u001B[0m \u001B[38;5;28;01mdef\u001B[39;00m \u001B[38;5;21mapply\u001B[39m(\n\u001B[1;32m   4626\u001B[0m     \u001B[38;5;28mself\u001B[39m,\n\u001B[1;32m   4627\u001B[0m     func: AggFuncType,\n\u001B[0;32m   (...)\u001B[0m\n\u001B[1;32m   4632\u001B[0m     \u001B[38;5;241m*\u001B[39m\u001B[38;5;241m*\u001B[39mkwargs,\n\u001B[1;32m   4633\u001B[0m ) \u001B[38;5;241m-\u001B[39m\u001B[38;5;241m>\u001B[39m DataFrame \u001B[38;5;241m|\u001B[39m Series:\n\u001B[1;32m   4634\u001B[0m \u001B[38;5;250m    \u001B[39m\u001B[38;5;124;03m\"\"\"\u001B[39;00m\n\u001B[1;32m   4635\u001B[0m \u001B[38;5;124;03m    Invoke function on values of Series.\u001B[39;00m\n\u001B[1;32m   4636\u001B[0m \n\u001B[0;32m   (...)\u001B[0m\n\u001B[1;32m   4751\u001B[0m \u001B[38;5;124;03m    dtype: float64\u001B[39;00m\n\u001B[1;32m   4752\u001B[0m \u001B[38;5;124;03m    \"\"\"\u001B[39;00m\n\u001B[1;32m   4753\u001B[0m     \u001B[38;5;28;01mreturn\u001B[39;00m \u001B[43mSeriesApply\u001B[49m\u001B[43m(\u001B[49m\n\u001B[1;32m   4754\u001B[0m \u001B[43m        \u001B[49m\u001B[38;5;28;43mself\u001B[39;49m\u001B[43m,\u001B[49m\n\u001B[1;32m   4755\u001B[0m \u001B[43m        \u001B[49m\u001B[43mfunc\u001B[49m\u001B[43m,\u001B[49m\n\u001B[1;32m   4756\u001B[0m \u001B[43m        \u001B[49m\u001B[43mconvert_dtype\u001B[49m\u001B[38;5;241;43m=\u001B[39;49m\u001B[43mconvert_dtype\u001B[49m\u001B[43m,\u001B[49m\n\u001B[1;32m   4757\u001B[0m \u001B[43m        \u001B[49m\u001B[43mby_row\u001B[49m\u001B[38;5;241;43m=\u001B[39;49m\u001B[43mby_row\u001B[49m\u001B[43m,\u001B[49m\n\u001B[1;32m   4758\u001B[0m \u001B[43m        \u001B[49m\u001B[43margs\u001B[49m\u001B[38;5;241;43m=\u001B[39;49m\u001B[43margs\u001B[49m\u001B[43m,\u001B[49m\n\u001B[1;32m   4759\u001B[0m \u001B[43m        \u001B[49m\u001B[43mkwargs\u001B[49m\u001B[38;5;241;43m=\u001B[39;49m\u001B[43mkwargs\u001B[49m\u001B[43m,\u001B[49m\n\u001B[0;32m-> 4760\u001B[0m \u001B[43m    \u001B[49m\u001B[43m)\u001B[49m\u001B[38;5;241;43m.\u001B[39;49m\u001B[43mapply\u001B[49m\u001B[43m(\u001B[49m\u001B[43m)\u001B[49m\n",
      "File \u001B[0;32m~/.pyenv/versions/notebook-env/lib/python3.11/site-packages/pandas/core/apply.py:1207\u001B[0m, in \u001B[0;36mSeriesApply.apply\u001B[0;34m(self)\u001B[0m\n\u001B[1;32m   1204\u001B[0m     \u001B[38;5;28;01mreturn\u001B[39;00m \u001B[38;5;28mself\u001B[39m\u001B[38;5;241m.\u001B[39mapply_compat()\n\u001B[1;32m   1206\u001B[0m \u001B[38;5;66;03m# self.func is Callable\u001B[39;00m\n\u001B[0;32m-> 1207\u001B[0m \u001B[38;5;28;01mreturn\u001B[39;00m \u001B[38;5;28;43mself\u001B[39;49m\u001B[38;5;241;43m.\u001B[39;49m\u001B[43mapply_standard\u001B[49m\u001B[43m(\u001B[49m\u001B[43m)\u001B[49m\n",
      "File \u001B[0;32m~/.pyenv/versions/notebook-env/lib/python3.11/site-packages/pandas/core/apply.py:1287\u001B[0m, in \u001B[0;36mSeriesApply.apply_standard\u001B[0;34m(self)\u001B[0m\n\u001B[1;32m   1281\u001B[0m \u001B[38;5;66;03m# row-wise access\u001B[39;00m\n\u001B[1;32m   1282\u001B[0m \u001B[38;5;66;03m# apply doesn't have a `na_action` keyword and for backward compat reasons\u001B[39;00m\n\u001B[1;32m   1283\u001B[0m \u001B[38;5;66;03m# we need to give `na_action=\"ignore\"` for categorical data.\u001B[39;00m\n\u001B[1;32m   1284\u001B[0m \u001B[38;5;66;03m# TODO: remove the `na_action=\"ignore\"` when that default has been changed in\u001B[39;00m\n\u001B[1;32m   1285\u001B[0m \u001B[38;5;66;03m#  Categorical (GH51645).\u001B[39;00m\n\u001B[1;32m   1286\u001B[0m action \u001B[38;5;241m=\u001B[39m \u001B[38;5;124m\"\u001B[39m\u001B[38;5;124mignore\u001B[39m\u001B[38;5;124m\"\u001B[39m \u001B[38;5;28;01mif\u001B[39;00m \u001B[38;5;28misinstance\u001B[39m(obj\u001B[38;5;241m.\u001B[39mdtype, CategoricalDtype) \u001B[38;5;28;01melse\u001B[39;00m \u001B[38;5;28;01mNone\u001B[39;00m\n\u001B[0;32m-> 1287\u001B[0m mapped \u001B[38;5;241m=\u001B[39m \u001B[43mobj\u001B[49m\u001B[38;5;241;43m.\u001B[39;49m\u001B[43m_map_values\u001B[49m\u001B[43m(\u001B[49m\n\u001B[1;32m   1288\u001B[0m \u001B[43m    \u001B[49m\u001B[43mmapper\u001B[49m\u001B[38;5;241;43m=\u001B[39;49m\u001B[43mcurried\u001B[49m\u001B[43m,\u001B[49m\u001B[43m \u001B[49m\u001B[43mna_action\u001B[49m\u001B[38;5;241;43m=\u001B[39;49m\u001B[43maction\u001B[49m\u001B[43m,\u001B[49m\u001B[43m \u001B[49m\u001B[43mconvert\u001B[49m\u001B[38;5;241;43m=\u001B[39;49m\u001B[38;5;28;43mself\u001B[39;49m\u001B[38;5;241;43m.\u001B[39;49m\u001B[43mconvert_dtype\u001B[49m\n\u001B[1;32m   1289\u001B[0m \u001B[43m\u001B[49m\u001B[43m)\u001B[49m\n\u001B[1;32m   1291\u001B[0m \u001B[38;5;28;01mif\u001B[39;00m \u001B[38;5;28mlen\u001B[39m(mapped) \u001B[38;5;129;01mand\u001B[39;00m \u001B[38;5;28misinstance\u001B[39m(mapped[\u001B[38;5;241m0\u001B[39m], ABCSeries):\n\u001B[1;32m   1292\u001B[0m     \u001B[38;5;66;03m# GH#43986 Need to do list(mapped) in order to get treated as nested\u001B[39;00m\n\u001B[1;32m   1293\u001B[0m     \u001B[38;5;66;03m#  See also GH#25959 regarding EA support\u001B[39;00m\n\u001B[1;32m   1294\u001B[0m     \u001B[38;5;28;01mreturn\u001B[39;00m obj\u001B[38;5;241m.\u001B[39m_constructor_expanddim(\u001B[38;5;28mlist\u001B[39m(mapped), index\u001B[38;5;241m=\u001B[39mobj\u001B[38;5;241m.\u001B[39mindex)\n",
      "File \u001B[0;32m~/.pyenv/versions/notebook-env/lib/python3.11/site-packages/pandas/core/base.py:921\u001B[0m, in \u001B[0;36mIndexOpsMixin._map_values\u001B[0;34m(self, mapper, na_action, convert)\u001B[0m\n\u001B[1;32m    918\u001B[0m \u001B[38;5;28;01mif\u001B[39;00m \u001B[38;5;28misinstance\u001B[39m(arr, ExtensionArray):\n\u001B[1;32m    919\u001B[0m     \u001B[38;5;28;01mreturn\u001B[39;00m arr\u001B[38;5;241m.\u001B[39mmap(mapper, na_action\u001B[38;5;241m=\u001B[39mna_action)\n\u001B[0;32m--> 921\u001B[0m \u001B[38;5;28;01mreturn\u001B[39;00m \u001B[43malgorithms\u001B[49m\u001B[38;5;241;43m.\u001B[39;49m\u001B[43mmap_array\u001B[49m\u001B[43m(\u001B[49m\u001B[43marr\u001B[49m\u001B[43m,\u001B[49m\u001B[43m \u001B[49m\u001B[43mmapper\u001B[49m\u001B[43m,\u001B[49m\u001B[43m \u001B[49m\u001B[43mna_action\u001B[49m\u001B[38;5;241;43m=\u001B[39;49m\u001B[43mna_action\u001B[49m\u001B[43m,\u001B[49m\u001B[43m \u001B[49m\u001B[43mconvert\u001B[49m\u001B[38;5;241;43m=\u001B[39;49m\u001B[43mconvert\u001B[49m\u001B[43m)\u001B[49m\n",
      "File \u001B[0;32m~/.pyenv/versions/notebook-env/lib/python3.11/site-packages/pandas/core/algorithms.py:1814\u001B[0m, in \u001B[0;36mmap_array\u001B[0;34m(arr, mapper, na_action, convert)\u001B[0m\n\u001B[1;32m   1812\u001B[0m values \u001B[38;5;241m=\u001B[39m arr\u001B[38;5;241m.\u001B[39mastype(\u001B[38;5;28mobject\u001B[39m, copy\u001B[38;5;241m=\u001B[39m\u001B[38;5;28;01mFalse\u001B[39;00m)\n\u001B[1;32m   1813\u001B[0m \u001B[38;5;28;01mif\u001B[39;00m na_action \u001B[38;5;129;01mis\u001B[39;00m \u001B[38;5;28;01mNone\u001B[39;00m:\n\u001B[0;32m-> 1814\u001B[0m     \u001B[38;5;28;01mreturn\u001B[39;00m \u001B[43mlib\u001B[49m\u001B[38;5;241;43m.\u001B[39;49m\u001B[43mmap_infer\u001B[49m\u001B[43m(\u001B[49m\u001B[43mvalues\u001B[49m\u001B[43m,\u001B[49m\u001B[43m \u001B[49m\u001B[43mmapper\u001B[49m\u001B[43m,\u001B[49m\u001B[43m \u001B[49m\u001B[43mconvert\u001B[49m\u001B[38;5;241;43m=\u001B[39;49m\u001B[43mconvert\u001B[49m\u001B[43m)\u001B[49m\n\u001B[1;32m   1815\u001B[0m \u001B[38;5;28;01melse\u001B[39;00m:\n\u001B[1;32m   1816\u001B[0m     \u001B[38;5;28;01mreturn\u001B[39;00m lib\u001B[38;5;241m.\u001B[39mmap_infer_mask(\n\u001B[1;32m   1817\u001B[0m         values, mapper, mask\u001B[38;5;241m=\u001B[39misna(values)\u001B[38;5;241m.\u001B[39mview(np\u001B[38;5;241m.\u001B[39muint8), convert\u001B[38;5;241m=\u001B[39mconvert\n\u001B[1;32m   1818\u001B[0m     )\n",
      "File \u001B[0;32mlib.pyx:2920\u001B[0m, in \u001B[0;36mpandas._libs.lib.map_infer\u001B[0;34m()\u001B[0m\n",
      "File \u001B[0;32m~/.pyenv/versions/notebook-env/lib/python3.11/site-packages/PIL/Image.py:3243\u001B[0m, in \u001B[0;36mopen\u001B[0;34m(fp, mode, formats)\u001B[0m\n\u001B[1;32m   3240\u001B[0m     filename \u001B[38;5;241m=\u001B[39m fp\n\u001B[1;32m   3242\u001B[0m \u001B[38;5;28;01mif\u001B[39;00m filename:\n\u001B[0;32m-> 3243\u001B[0m     fp \u001B[38;5;241m=\u001B[39m \u001B[43mbuiltins\u001B[49m\u001B[38;5;241;43m.\u001B[39;49m\u001B[43mopen\u001B[49m\u001B[43m(\u001B[49m\u001B[43mfilename\u001B[49m\u001B[43m,\u001B[49m\u001B[43m \u001B[49m\u001B[38;5;124;43m\"\u001B[39;49m\u001B[38;5;124;43mrb\u001B[39;49m\u001B[38;5;124;43m\"\u001B[39;49m\u001B[43m)\u001B[49m\n\u001B[1;32m   3244\u001B[0m     exclusive_fp \u001B[38;5;241m=\u001B[39m \u001B[38;5;28;01mTrue\u001B[39;00m\n\u001B[1;32m   3246\u001B[0m \u001B[38;5;28;01mtry\u001B[39;00m:\n",
      "\u001B[0;31mFileNotFoundError\u001B[0m: [Errno 2] No such file or directory: 'data/coco/images/COCO_train2014_000000279941.jpg'"
     ]
    }
   ],
   "source": [
    "import json\n",
    "import pandas\n",
    "import PIL.Image\n",
    "\n",
    "with open('captions_tiny.json') as f:\n",
    "    data = json.load(f)[:500]\n",
    "    \n",
    "data = pandas.DataFrame([\n",
    "    {\n",
    "        'image': r['image']['_content']['path'], \n",
    "         'captions': r['captions']\n",
    "    } for r in data   \n",
    "])\n",
    "data['id'] = pandas.Series(data.index).apply(str)\n",
    "images_df = data[['id', 'image']]\n",
    "\n",
    "images_df['image'] = images_df['image'].apply(PIL.Image.open)\n",
    "captions_df = data[['id', 'captions']].explode('captions')"
   ]
  },
  {
   "cell_type": "markdown",
   "id": "b43cd7d2",
   "metadata": {},
   "source": [
    "## Define schema\n",
    "\n",
    "This use-case requires a table with images, and a table with text. \n",
    "SuperDuperDB extends standard SQL functionality, by allowing developers to define\n",
    "their own data-types via the `Encoder` abstraction."
   ]
  },
  {
   "cell_type": "code",
   "execution_count": null,
   "id": "2d9483f3-78c5-47df-9fa2-4cd070282791",
   "metadata": {},
   "outputs": [],
   "source": [
    "from superduperdb.backends.ibis.query import Table\n",
    "from superduperdb.backends.ibis.field_types import dtype\n",
    "from superduperdb.ext.pillow import pil_image\n",
    "from superduperdb import Schema\n",
    "\n",
    "captions = Table(\n",
    "    'captions', \n",
    "    primary_id='id',\n",
    "    schema=Schema(\n",
    "        'captions-schema',\n",
    "        fields={'id': dtype(str), 'captions': dtype(str)},\n",
    "    )\n",
    ")\n",
    "\n",
    "images = Table(\n",
    "    'images', \n",
    "    primary_id='id',\n",
    "    schema=Schema(\n",
    "        'images-schema',\n",
    "        fields={'id': dtype(str), 'image': pil_image},\n",
    "    )\n",
    ")\n",
    "\n",
    "db.add(captions)\n",
    "db.add(images)"
   ]
  },
  {
   "cell_type": "markdown",
   "id": "115b2c14",
   "metadata": {},
   "source": [
    "## Add data to the datastore"
   ]
  },
  {
   "cell_type": "code",
   "execution_count": null,
   "id": "93cce29b-dd04-47d2-bdfc-fe3780e06ddb",
   "metadata": {},
   "outputs": [],
   "source": [
    "_ = db.execute(images.insert(images_df))\n",
    "_ = db.execute(captions.insert(captions_df))"
   ]
  },
  {
   "cell_type": "markdown",
   "id": "def10282",
   "metadata": {},
   "source": [
    "## Build SuperDuperDB `Model` instances\n",
    "\n",
    "This use-case uses the `superduperdb.ext.torch` extension. \n",
    "Both models used, output `torch` tensors, which are encoded with `tensor`:"
   ]
  },
  {
   "cell_type": "code",
   "execution_count": null,
   "id": "d87ed43d-6f90-46c1-8851-6050ae21a051",
   "metadata": {},
   "outputs": [],
   "source": [
    "import clip\n",
    "import torch\n",
    "from superduperdb.ext.torch import TorchModel, tensor\n",
    "\n",
    "# Load the CLIP model\n",
    "model, preprocess = clip.load(\"RN50\", device='cpu')\n",
    "\n",
    "# Define a tensor type\n",
    "t = tensor(torch.float, shape=(1024,))\n",
    "\n",
    "# Create a TorchModel for text encoding\n",
    "text_model = TorchModel(\n",
    "    identifier='clip_text',\n",
    "    object=model,\n",
    "    preprocess=lambda x: clip.tokenize(x)[0],\n",
    "    encoder=t,\n",
    "    forward_method='encode_text',    \n",
    ")\n",
    "\n",
    "# Create a TorchModel for visual encoding\n",
    "visual_model = TorchModel(\n",
    "    identifier='clip_image',\n",
    "    object=model.visual,    \n",
    "    preprocess=preprocess,\n",
    "    encoder=t,\n",
    ")"
   ]
  },
  {
   "cell_type": "markdown",
   "id": "89c5c236",
   "metadata": {},
   "source": [
    "## Create a Vector-Search Index\n",
    "\n",
    "Let's define a mult-modal search index on the basis of the models imported above.\n",
    "The `visual_model` is applied to the images, to make the `images` table searchable."
   ]
  },
  {
   "cell_type": "code",
   "execution_count": null,
   "id": "fb8aef2c-484f-41a9-9956-d80b9c58eaa8",
   "metadata": {},
   "outputs": [],
   "source": [
    "from superduperdb import VectorIndex, Listener\n",
    "\n",
    "db.add(\n",
    "    VectorIndex(\n",
    "        'my-index',\n",
    "        indexing_listener=Listener(\n",
    "            model=visual_model,\n",
    "            key='image',\n",
    "            select=images,\n",
    "        ),\n",
    "        compatible_listener=Listener(\n",
    "            model=text_model,\n",
    "            key='captions',\n",
    "            active=False,\n",
    "            select=None,\n",
    "        )\n",
    "    )\n",
    ")"
   ]
  },
  {
   "cell_type": "markdown",
   "id": "4d8b9e84",
   "metadata": {},
   "source": [
    "## Search Images Using Text\n",
    "\n",
    "Now we can demonstrate searching for images using text queries:"
   ]
  },
  {
   "cell_type": "code",
   "execution_count": null,
   "id": "1731a574-921a-4cba-a65c-26bff9fb9c8c",
   "metadata": {},
   "outputs": [],
   "source": [
    "from superduperdb import Document\n",
    "\n",
    "query_string = 'dog catches frisbee'\n",
    "\n",
    "res = db.execute(\n",
    "    images.like(\n",
    "        Document({'captions': query_string}), \n",
    "        vector_index='my-index', \n",
    "        n=10,\n",
    "    ).limit(10)\n",
    ")"
   ]
  },
  {
   "cell_type": "code",
   "execution_count": null,
   "id": "72522031-0af8-452a-bbd1-b27dede55154",
   "metadata": {},
   "outputs": [],
   "source": [
    "res[3]['image'].x"
   ]
  }
 ],
 "metadata": {
  "kernelspec": {
   "display_name": "Python 3 (ipykernel)",
   "language": "python",
   "name": "python3"
  },
  "language_info": {
   "codemirror_mode": {
    "name": "ipython",
    "version": 3
   },
   "file_extension": ".py",
   "mimetype": "text/x-python",
   "name": "python",
   "nbconvert_exporter": "python",
   "pygments_lexer": "ipython3",
   "version": "3.11.6"
  }
 },
 "nbformat": 4,
 "nbformat_minor": 5
}
