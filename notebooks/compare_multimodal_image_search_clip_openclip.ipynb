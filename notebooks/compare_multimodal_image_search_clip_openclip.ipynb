{
 "cells": [
  {
   "cell_type": "markdown",
   "id": "238520e0",
   "metadata": {},
   "source": [
    "# Compare two Multimodal search CLIP models"
   ]
  },
  {
   "cell_type": "code",
   "execution_count": 1,
   "id": "5ebe1497",
   "metadata": {},
   "outputs": [
    {
     "name": "stdout",
     "output_type": "stream",
     "text": [
      "Collecting git+https://github.com/openai/CLIP.git\n",
      "  Cloning https://github.com/openai/CLIP.git to /private/var/folders/5k/k58wnkmx6x1cdgy02s9v8hnr0000gn/T/pip-req-build-x9h2o9tw\n",
      "  Running command git clone --filter=blob:none --quiet https://github.com/openai/CLIP.git /private/var/folders/5k/k58wnkmx6x1cdgy02s9v8hnr0000gn/T/pip-req-build-x9h2o9tw\n",
      "  Resolved https://github.com/openai/CLIP.git to commit a1d071733d7111c9c014f024669f959182114e33\n",
      "  Preparing metadata (setup.py) ... \u001b[?25ldone\n",
      "\u001b[?25hRequirement already satisfied: ftfy in /Users/levkonstantinovskiy/Documents/GitHub/new/superduperdb-stealth/.venv/lib/python3.10/site-packages (from clip==1.0) (6.1.1)\n",
      "Requirement already satisfied: regex in /Users/levkonstantinovskiy/Documents/GitHub/new/superduperdb-stealth/.venv/lib/python3.10/site-packages (from clip==1.0) (2023.6.3)\n",
      "Requirement already satisfied: tqdm in /Users/levkonstantinovskiy/Documents/GitHub/new/superduperdb-stealth/.venv/lib/python3.10/site-packages (from clip==1.0) (4.65.0)\n",
      "Requirement already satisfied: torch in /Users/levkonstantinovskiy/Documents/GitHub/new/superduperdb-stealth/.venv/lib/python3.10/site-packages (from clip==1.0) (2.0.1)\n",
      "Requirement already satisfied: torchvision in /Users/levkonstantinovskiy/Documents/GitHub/new/superduperdb-stealth/.venv/lib/python3.10/site-packages (from clip==1.0) (0.15.2)\n",
      "Requirement already satisfied: wcwidth>=0.2.5 in /Users/levkonstantinovskiy/Documents/GitHub/new/superduperdb-stealth/.venv/lib/python3.10/site-packages (from ftfy->clip==1.0) (0.2.6)\n",
      "Requirement already satisfied: filelock in /Users/levkonstantinovskiy/Documents/GitHub/new/superduperdb-stealth/.venv/lib/python3.10/site-packages (from torch->clip==1.0) (3.12.2)\n",
      "Requirement already satisfied: typing-extensions in /Users/levkonstantinovskiy/Documents/GitHub/new/superduperdb-stealth/.venv/lib/python3.10/site-packages (from torch->clip==1.0) (4.7.1)\n",
      "Requirement already satisfied: sympy in /Users/levkonstantinovskiy/Documents/GitHub/new/superduperdb-stealth/.venv/lib/python3.10/site-packages (from torch->clip==1.0) (1.12)\n",
      "Requirement already satisfied: networkx in /Users/levkonstantinovskiy/Documents/GitHub/new/superduperdb-stealth/.venv/lib/python3.10/site-packages (from torch->clip==1.0) (3.1)\n",
      "Requirement already satisfied: jinja2 in /Users/levkonstantinovskiy/Documents/GitHub/new/superduperdb-stealth/.venv/lib/python3.10/site-packages (from torch->clip==1.0) (3.1.2)\n",
      "Requirement already satisfied: numpy in /Users/levkonstantinovskiy/Documents/GitHub/new/superduperdb-stealth/.venv/lib/python3.10/site-packages (from torchvision->clip==1.0) (1.25.1)\n",
      "Requirement already satisfied: requests in /Users/levkonstantinovskiy/Documents/GitHub/new/superduperdb-stealth/.venv/lib/python3.10/site-packages (from torchvision->clip==1.0) (2.31.0)\n",
      "Requirement already satisfied: pillow!=8.3.*,>=5.3.0 in /Users/levkonstantinovskiy/Documents/GitHub/new/superduperdb-stealth/.venv/lib/python3.10/site-packages (from torchvision->clip==1.0) (10.0.0)\n",
      "Requirement already satisfied: MarkupSafe>=2.0 in /Users/levkonstantinovskiy/Documents/GitHub/new/superduperdb-stealth/.venv/lib/python3.10/site-packages (from jinja2->torch->clip==1.0) (2.1.3)\n",
      "Requirement already satisfied: charset-normalizer<4,>=2 in /Users/levkonstantinovskiy/Documents/GitHub/new/superduperdb-stealth/.venv/lib/python3.10/site-packages (from requests->torchvision->clip==1.0) (3.2.0)\n",
      "Requirement already satisfied: idna<4,>=2.5 in /Users/levkonstantinovskiy/Documents/GitHub/new/superduperdb-stealth/.venv/lib/python3.10/site-packages (from requests->torchvision->clip==1.0) (3.4)\n",
      "Requirement already satisfied: urllib3<3,>=1.21.1 in /Users/levkonstantinovskiy/Documents/GitHub/new/superduperdb-stealth/.venv/lib/python3.10/site-packages (from requests->torchvision->clip==1.0) (1.26.16)\n",
      "Requirement already satisfied: certifi>=2017.4.17 in /Users/levkonstantinovskiy/Documents/GitHub/new/superduperdb-stealth/.venv/lib/python3.10/site-packages (from requests->torchvision->clip==1.0) (2023.7.22)\n",
      "Requirement already satisfied: mpmath>=0.19 in /Users/levkonstantinovskiy/Documents/GitHub/new/superduperdb-stealth/.venv/lib/python3.10/site-packages (from sympy->torch->clip==1.0) (1.3.0)\n",
      "Requirement already satisfied: datasets in /Users/levkonstantinovskiy/Documents/GitHub/new/superduperdb-stealth/.venv/lib/python3.10/site-packages (2.14.0)\n",
      "Requirement already satisfied: numpy>=1.17 in /Users/levkonstantinovskiy/Documents/GitHub/new/superduperdb-stealth/.venv/lib/python3.10/site-packages (from datasets) (1.25.1)\n",
      "Requirement already satisfied: pyarrow>=8.0.0 in /Users/levkonstantinovskiy/Documents/GitHub/new/superduperdb-stealth/.venv/lib/python3.10/site-packages (from datasets) (12.0.1)\n",
      "Requirement already satisfied: dill<0.3.8,>=0.3.0 in /Users/levkonstantinovskiy/Documents/GitHub/new/superduperdb-stealth/.venv/lib/python3.10/site-packages (from datasets) (0.3.7)\n",
      "Requirement already satisfied: pandas in /Users/levkonstantinovskiy/Documents/GitHub/new/superduperdb-stealth/.venv/lib/python3.10/site-packages (from datasets) (2.0.3)\n",
      "Requirement already satisfied: requests>=2.19.0 in /Users/levkonstantinovskiy/Documents/GitHub/new/superduperdb-stealth/.venv/lib/python3.10/site-packages (from datasets) (2.31.0)\n",
      "Requirement already satisfied: tqdm>=4.62.1 in /Users/levkonstantinovskiy/Documents/GitHub/new/superduperdb-stealth/.venv/lib/python3.10/site-packages (from datasets) (4.65.0)\n",
      "Requirement already satisfied: xxhash in /Users/levkonstantinovskiy/Documents/GitHub/new/superduperdb-stealth/.venv/lib/python3.10/site-packages (from datasets) (3.2.0)\n",
      "Requirement already satisfied: multiprocess in /Users/levkonstantinovskiy/Documents/GitHub/new/superduperdb-stealth/.venv/lib/python3.10/site-packages (from datasets) (0.70.15)\n",
      "Requirement already satisfied: fsspec[http]>=2021.11.1 in /Users/levkonstantinovskiy/Documents/GitHub/new/superduperdb-stealth/.venv/lib/python3.10/site-packages (from datasets) (2023.6.0)\n",
      "Requirement already satisfied: aiohttp in /Users/levkonstantinovskiy/Documents/GitHub/new/superduperdb-stealth/.venv/lib/python3.10/site-packages (from datasets) (3.8.5)\n",
      "Requirement already satisfied: huggingface-hub<1.0.0,>=0.14.0 in /Users/levkonstantinovskiy/Documents/GitHub/new/superduperdb-stealth/.venv/lib/python3.10/site-packages (from datasets) (0.16.4)\n",
      "Requirement already satisfied: packaging in /Users/levkonstantinovskiy/Documents/GitHub/new/superduperdb-stealth/.venv/lib/python3.10/site-packages (from datasets) (23.1)\n",
      "Requirement already satisfied: pyyaml>=5.1 in /Users/levkonstantinovskiy/Documents/GitHub/new/superduperdb-stealth/.venv/lib/python3.10/site-packages (from datasets) (6.0.1)\n",
      "Requirement already satisfied: attrs>=17.3.0 in /Users/levkonstantinovskiy/Documents/GitHub/new/superduperdb-stealth/.venv/lib/python3.10/site-packages (from aiohttp->datasets) (23.1.0)\n",
      "Requirement already satisfied: charset-normalizer<4.0,>=2.0 in /Users/levkonstantinovskiy/Documents/GitHub/new/superduperdb-stealth/.venv/lib/python3.10/site-packages (from aiohttp->datasets) (3.2.0)\n",
      "Requirement already satisfied: multidict<7.0,>=4.5 in /Users/levkonstantinovskiy/Documents/GitHub/new/superduperdb-stealth/.venv/lib/python3.10/site-packages (from aiohttp->datasets) (6.0.4)\n",
      "Requirement already satisfied: async-timeout<5.0,>=4.0.0a3 in /Users/levkonstantinovskiy/Documents/GitHub/new/superduperdb-stealth/.venv/lib/python3.10/site-packages (from aiohttp->datasets) (4.0.2)\n",
      "Requirement already satisfied: yarl<2.0,>=1.0 in /Users/levkonstantinovskiy/Documents/GitHub/new/superduperdb-stealth/.venv/lib/python3.10/site-packages (from aiohttp->datasets) (1.9.2)\n",
      "Requirement already satisfied: frozenlist>=1.1.1 in /Users/levkonstantinovskiy/Documents/GitHub/new/superduperdb-stealth/.venv/lib/python3.10/site-packages (from aiohttp->datasets) (1.4.0)\n",
      "Requirement already satisfied: aiosignal>=1.1.2 in /Users/levkonstantinovskiy/Documents/GitHub/new/superduperdb-stealth/.venv/lib/python3.10/site-packages (from aiohttp->datasets) (1.3.1)\n",
      "Requirement already satisfied: filelock in /Users/levkonstantinovskiy/Documents/GitHub/new/superduperdb-stealth/.venv/lib/python3.10/site-packages (from huggingface-hub<1.0.0,>=0.14.0->datasets) (3.12.2)\n",
      "Requirement already satisfied: typing-extensions>=3.7.4.3 in /Users/levkonstantinovskiy/Documents/GitHub/new/superduperdb-stealth/.venv/lib/python3.10/site-packages (from huggingface-hub<1.0.0,>=0.14.0->datasets) (4.7.1)\n",
      "Requirement already satisfied: idna<4,>=2.5 in /Users/levkonstantinovskiy/Documents/GitHub/new/superduperdb-stealth/.venv/lib/python3.10/site-packages (from requests>=2.19.0->datasets) (3.4)\n",
      "Requirement already satisfied: urllib3<3,>=1.21.1 in /Users/levkonstantinovskiy/Documents/GitHub/new/superduperdb-stealth/.venv/lib/python3.10/site-packages (from requests>=2.19.0->datasets) (1.26.16)\n",
      "Requirement already satisfied: certifi>=2017.4.17 in /Users/levkonstantinovskiy/Documents/GitHub/new/superduperdb-stealth/.venv/lib/python3.10/site-packages (from requests>=2.19.0->datasets) (2023.7.22)\n",
      "Requirement already satisfied: python-dateutil>=2.8.2 in /Users/levkonstantinovskiy/Documents/GitHub/new/superduperdb-stealth/.venv/lib/python3.10/site-packages (from pandas->datasets) (2.8.2)\n",
      "Requirement already satisfied: pytz>=2020.1 in /Users/levkonstantinovskiy/Documents/GitHub/new/superduperdb-stealth/.venv/lib/python3.10/site-packages (from pandas->datasets) (2023.3)\n",
      "Requirement already satisfied: tzdata>=2022.1 in /Users/levkonstantinovskiy/Documents/GitHub/new/superduperdb-stealth/.venv/lib/python3.10/site-packages (from pandas->datasets) (2023.3)\n",
      "Requirement already satisfied: six>=1.5 in /Users/levkonstantinovskiy/Documents/GitHub/new/superduperdb-stealth/.venv/lib/python3.10/site-packages (from python-dateutil>=2.8.2->pandas->datasets) (1.16.0)\n",
      "Requirement already satisfied: clip in /Users/levkonstantinovskiy/Documents/GitHub/new/superduperdb-stealth/.venv/lib/python3.10/site-packages (1.0)\n",
      "\u001b[31mERROR: Could not find a version that satisfies the requirement open_clip (from versions: none)\u001b[0m\u001b[31m\n",
      "\u001b[0m\u001b[31mERROR: No matching distribution found for open_clip\u001b[0m\u001b[31m\n",
      "\u001b[0m"
     ]
    }
   ],
   "source": [
    "!pip install git+https://github.com/openai/CLIP.git\n",
    "!pip install datasets\n",
    "!pip install clip open_clip"
   ]
  },
  {
   "cell_type": "code",
   "execution_count": 2,
   "id": "82f746a3",
   "metadata": {},
   "outputs": [],
   "source": [
    "openai_model_name = \"ViT-B/32\"\n",
    "open_clip_model_name = 'ViT-B-32'\n",
    "open_clip_pretrained='laion2b_s34b_b79k'\n",
    "\n"
   ]
  },
  {
   "cell_type": "code",
   "execution_count": 3,
   "id": "2b5ef986",
   "metadata": {},
   "outputs": [
    {
     "name": "stderr",
     "output_type": "stream",
     "text": [
      "INFO:numexpr.utils:Note: NumExpr detected 10 cores but \"NUMEXPR_MAX_THREADS\" not set, so enforcing safe limit of 8.\n",
      "INFO:numexpr.utils:NumExpr defaulting to 8 threads.\n"
     ]
    }
   ],
   "source": [
    "import clip\n",
    "import pymongo\n",
    "from superduperdb.misc.superduper import superduper\n",
    "from superduperdb.models.torch.wrapper import TorchModel\n",
    "from superduperdb.datalayer.mongodb.query import Collection\n",
    "from superduperdb.core import Document as D\n",
    "from superduperdb.encoders.pillow.image import pil_image as i\n",
    "from IPython.display import display\n",
    "\n",
    "pymongo.MongoClient().drop_database('documents')\n",
    "pymongo.MongoClient().drop_database('_filesystem:documents')\n",
    "\n",
    "db = pymongo.MongoClient().documents\n",
    "db = superduper(db)\n",
    "\n",
    "collection = Collection(name='tiny-imagenet')"
   ]
  },
  {
   "cell_type": "code",
   "execution_count": 4,
   "id": "aaa0a06a",
   "metadata": {},
   "outputs": [
    {
     "name": "stderr",
     "output_type": "stream",
     "text": [
      "/Users/levkonstantinovskiy/Documents/GitHub/new/superduperdb-stealth/.venv/lib/python3.10/site-packages/tqdm/auto.py:21: TqdmWarning: IProgress not found. Please update jupyter and ipywidgets. See https://ipywidgets.readthedocs.io/en/stable/user_install.html\n",
      "  from .autonotebook import tqdm as notebook_tqdm\n"
     ]
    }
   ],
   "source": [
    "from superduperdb.core.document import Document as D\n",
    "from superduperdb.encoders.pillow.image import pil_image as i\n",
    "from datasets import load_dataset\n",
    "import random\n",
    "\n",
    "dataset = load_dataset(\"zh-plus/tiny-imagenet\")['valid']\n",
    "dataset = [D({'image': i(r['image'])}) for r in dataset]\n",
    "dataset = random.sample(dataset, 1000)\n"
   ]
  },
  {
   "cell_type": "code",
   "execution_count": 5,
   "id": "c32a91a5",
   "metadata": {
    "scrolled": false
   },
   "outputs": [
    {
     "name": "stderr",
     "output_type": "stream",
     "text": [
      "INFO:root:found 0 uris\n"
     ]
    },
    {
     "data": {
      "text/plain": [
       "(<pymongo.results.InsertManyResult at 0x17e0e5390>,\n",
       " TaskWorkflow(database=<superduperdb.datalayer.base.datalayer.Datalayer object at 0x17c1387f0>, G=<networkx.classes.digraph.DiGraph object at 0x17e0e5a80>))"
      ]
     },
     "execution_count": 5,
     "metadata": {},
     "output_type": "execute_result"
    }
   ],
   "source": [
    "db.execute(collection.insert_many(dataset, encoders=(i,)))"
   ]
  },
  {
   "cell_type": "markdown",
   "id": "10d37264",
   "metadata": {},
   "source": [
    "We can verify that the images are correctly stored:"
   ]
  },
  {
   "cell_type": "code",
   "execution_count": 6,
   "id": "7282a0fe",
   "metadata": {},
   "outputs": [
    {
     "data": {
      "image/jpeg": "[encoded data removed]",
      "image/png": "[encoded data removed]",
      "text/plain": [
       "<PIL.PngImagePlugin.PngImageFile image mode=RGB size=64x64>"
      ]
     },
     "execution_count": 6,
     "metadata": {},
     "output_type": "execute_result"
    }
   ],
   "source": [
    "x = db.execute(collection.find_one())['image'].x\n",
    "x"
   ]
  },
  {
   "cell_type": "code",
   "execution_count": 7,
   "id": "2ac82f76",
   "metadata": {},
   "outputs": [],
   "source": [
    "from superduperdb.core.vector_index import VectorIndex\n",
    "from superduperdb.core.watcher import Watcher\n",
    "from superduperdb.encoders.torch.tensor import tensor\n",
    "import torch\n",
    "\n",
    "def add_clip_index(index_name, model_identifier, model, preprocess, text_tokenizer,):\n",
    "    t = tensor(torch.float, shape=(512,))\n",
    "\n",
    "    text_model = TorchModel(\n",
    "        identifier=model_identifier+\"_text\",\n",
    "        object=model,\n",
    "        preprocess=text_tokenizer,\n",
    "        forward_method='encode_text',\n",
    "        encoder=t\n",
    "    )\n",
    "    print(len(text_model.predict('this is a test', one=True)))\n",
    "    visual_model = TorchModel(\n",
    "        identifier=model_identifier+\"_image\",\n",
    "        preprocess=preprocess,\n",
    "        object=model.visual,\n",
    "        encoder=t,\n",
    "    )\n",
    "    x = db.execute(collection.find_one())['image'].x\n",
    "    print(len(visual_model.predict(x, one=True)))\n",
    "\n",
    "\n",
    "    db.add(\n",
    "        VectorIndex(\n",
    "            index_name,\n",
    "            indexing_watcher=Watcher(\n",
    "                model=visual_model,\n",
    "                key='image',\n",
    "                select=collection.find(),\n",
    "            ),\n",
    "            compatible_watcher=Watcher(\n",
    "                model=text_model,\n",
    "                key='text',\n",
    "                active=False,\n",
    "            )\n",
    "        )\n",
    "    )"
   ]
  },
  {
   "cell_type": "code",
   "execution_count": 8,
   "id": "916792d3",
   "metadata": {},
   "outputs": [
    {
     "name": "stdout",
     "output_type": "stream",
     "text": [
      "512\n",
      "512\n"
     ]
    },
    {
     "name": "stderr",
     "output_type": "stream",
     "text": [
      "WARNING:root:model/openai_clip_model_image/0 already exists - doing nothing\n",
      "WARNING:root:model/openai_clip_model_image/0 already exists - doing nothing\n",
      "WARNING:root:model/openai_clip_model_image/0 already exists - doing nothing\n"
     ]
    },
    {
     "name": "stdout",
     "output_type": "stream",
     "text": [
      "Computing chunk 0/0\n"
     ]
    },
    {
     "name": "stderr",
     "output_type": "stream",
     "text": [
      "100%|██████████| 1000/1000 [00:35<00:00, 28.28it/s]\n",
      "WARNING:root:encoder/torch.float32[512]/0 already exists - doing nothing\n",
      "INFO:root:loading hashes: 'openai_clip_index'\n",
      "/Users/levkonstantinovskiy/Documents/GitHub/new/superduperdb-stealth/superduperdb/encoders/torch/tensor.py:25: UserWarning: The given NumPy array is not writable, and PyTorch does not support non-writable tensors. This means writing to this tensor will result in undefined behavior. You may want to copy the array to protect its data or make it writable before converting it to a tensor. This type of warning will be suppressed for the rest of this program. (Triggered internally at /Users/runner/work/pytorch/pytorch/pytorch/torch/csrc/utils/tensor_numpy.cpp:212.)\n",
      "  return torch.from_numpy(array)\n"
     ]
    }
   ],
   "source": [
    "\n",
    "openai_model, openai_preprocess = clip.load(openai_model_name, device='cpu')\n",
    "openai_tokenizer = lambda x: clip.tokenize(x)[0]\n",
    "add_clip_index(\"openai_clip_index\", \"openai_clip_model\", openai_model, openai_preprocess, openai_tokenizer,)\n"
   ]
  },
  {
   "cell_type": "code",
   "execution_count": 9,
   "id": "87350419",
   "metadata": {},
   "outputs": [
    {
     "name": "stderr",
     "output_type": "stream",
     "text": [
      "INFO:torch.distributed.nn.jit.instantiator:Created a temporary directory at /var/folders/5k/k58wnkmx6x1cdgy02s9v8hnr0000gn/T/tmpwzxpz683\n",
      "INFO:torch.distributed.nn.jit.instantiator:Writing /var/folders/5k/k58wnkmx6x1cdgy02s9v8hnr0000gn/T/tmpwzxpz683/_remote_module_non_scriptable.py\n",
      "INFO:root:Loaded ViT-B-32 model config.\n",
      "INFO:root:Loading pretrained ViT-B-32 weights (laion2b_s34b_b79k).\n"
     ]
    },
    {
     "name": "stdout",
     "output_type": "stream",
     "text": [
      "512\n",
      "512\n"
     ]
    },
    {
     "name": "stderr",
     "output_type": "stream",
     "text": [
      "WARNING:root:model/open_clip_clip_model_image/0 already exists - doing nothing\n",
      "WARNING:root:model/open_clip_clip_model_image/0 already exists - doing nothing\n",
      "WARNING:root:model/open_clip_clip_model_image/0 already exists - doing nothing\n"
     ]
    },
    {
     "name": "stdout",
     "output_type": "stream",
     "text": [
      "Computing chunk 0/0\n"
     ]
    },
    {
     "name": "stderr",
     "output_type": "stream",
     "text": [
      "100%|██████████| 1000/1000 [00:38<00:00, 25.95it/s]\n",
      "WARNING:root:encoder/torch.float32[512]/1 already exists - doing nothing\n",
      "INFO:root:loading hashes: 'open_clip_clip_index'\n"
     ]
    }
   ],
   "source": [
    "\n",
    "import open_clip\n",
    "open_clip_model, _, open_clip_preprocess = open_clip.create_model_and_transforms(open_clip_model_name, pretrained=open_clip_pretrained, device='cpu' )\n",
    "\n",
    "open_clip_tokenizer = lambda x: open_clip.get_tokenizer(open_clip_model_name)(x)[0] \n",
    "add_clip_index(\"open_clip_clip_index\", \"open_clip_clip_model\", open_clip_model, open_clip_preprocess, open_clip_tokenizer,)\n"
   ]
  },
  {
   "cell_type": "code",
   "execution_count": 10,
   "id": "f2fcbde3",
   "metadata": {},
   "outputs": [],
   "source": [
    "!pip install --quiet gradio "
   ]
  },
  {
   "cell_type": "code",
   "execution_count": 11,
   "id": "191f698d",
   "metadata": {},
   "outputs": [
    {
     "name": "stderr",
     "output_type": "stream",
     "text": [
      "INFO:root:loading hashes: 'openai_clip_index'\n"
     ]
    },
    {
     "ename": "NameError",
     "evalue": "name 'out' is not defined",
     "output_type": "error",
     "traceback": [
      "\u001b[0;31m---------------------------------------------------------------------------\u001b[0m",
      "\u001b[0;31mNameError\u001b[0m                                 Traceback (most recent call last)",
      "Cell \u001b[0;32mIn[11], line 16\u001b[0m\n\u001b[1;32m     11\u001b[0m collection \u001b[39m=\u001b[39m Collection(name\u001b[39m=\u001b[39m\u001b[39m'\u001b[39m\u001b[39mtiny-imagenet\u001b[39m\u001b[39m'\u001b[39m)\n\u001b[1;32m     13\u001b[0m cursor \u001b[39m=\u001b[39m db\u001b[39m.\u001b[39mexecute(\n\u001b[1;32m     14\u001b[0m     collection\u001b[39m.\u001b[39mlike(D({\u001b[39m'\u001b[39m\u001b[39mtext\u001b[39m\u001b[39m'\u001b[39m: \u001b[39m'\u001b[39m\u001b[39mmushroom\u001b[39m\u001b[39m'\u001b[39m}), vector_index\u001b[39m=\u001b[39m\u001b[39m'\u001b[39m\u001b[39mopenai_clip_index\u001b[39m\u001b[39m'\u001b[39m, n\u001b[39m=\u001b[39m\u001b[39m10\u001b[39m)\u001b[39m.\u001b[39mfind({})\n\u001b[1;32m     15\u001b[0m )\n\u001b[0;32m---> 16\u001b[0m [(row[\u001b[39m'\u001b[39m\u001b[39mimage\u001b[39m\u001b[39m'\u001b[39m]\u001b[39m.\u001b[39mx) \u001b[39mfor\u001b[39;00m row \u001b[39min\u001b[39;00m out]\n\u001b[1;32m     18\u001b[0m \u001b[39mdef\u001b[39;00m \u001b[39m_extract\u001b[39m(out):\n\u001b[1;32m     19\u001b[0m     \u001b[39mreturn\u001b[39;00m [(row[\u001b[39m'\u001b[39m\u001b[39mimage\u001b[39m\u001b[39m'\u001b[39m]\u001b[39m.\u001b[39mx) \u001b[39mfor\u001b[39;00m row \u001b[39min\u001b[39;00m out]\n",
      "\u001b[0;31mNameError\u001b[0m: name 'out' is not defined"
     ]
    }
   ],
   "source": [
    "\n",
    "import pymongo\n",
    "from superduperdb.misc.superduper import superduper\n",
    "from superduperdb.datalayer.mongodb.query import Collection\n",
    "from superduperdb.core.document import Document as D\n",
    "import clip \n",
    "import open_clip\n",
    "\n",
    "db = pymongo.MongoClient().documents\n",
    "db = superduper(db)\n",
    "\n",
    "collection = Collection(name='tiny-imagenet')\n",
    "\n",
    "cursor = db.execute(\n",
    "    collection.like(D({'text': 'mushroom'}), vector_index='openai_clip_index', n=10).find({})\n",
    ")\n",
    "[(row['image'].x) for row in out]\n",
    "\n",
    "def _extract(out):\n",
    "    return [(row['image'].x) for row in out]\n",
    "_extract(out)"
   ]
  },
  {
   "cell_type": "code",
   "execution_count": null,
   "id": "b0faa637",
   "metadata": {},
   "outputs": [],
   "source": [
    "\n",
    "def find_image_vectors(query):\n",
    "    code = (\n",
    "    f\"\"\"\n",
    "    import pymongo\n",
    "    from superduperdb.misc.superduper import superduper\n",
    "    from superduperdb.datalayer.mongodb.query import Collection\n",
    "    from superduperdb.core.document import Document as D\n",
    "    import clip \n",
    "\n",
    "    db = pymongo.MongoClient().documents\n",
    "    db = superduper(db)\n",
    "\n",
    "    collection = Collection(name='tiny-imagenet')\n",
    "\n",
    "    openai_cursor = db.execute(collection.like(D({{'text': '{query}'}}), vector_index='{'openai_clip_index'}', n=20).find({{}})\n",
    "    open_clip_cursor = db.execute(collection.like(D({{'text': '{query}'}}), vector_index='{'open_clip_clip_index'}', n=20).find({{}})\n",
    "\n",
    "    \"\"\"\n",
    " )\n",
    "    return (_extract(db.execute(collection.like(D({'text': query}), vector_index='openai_clip_index', n=20).find({}))), _extract(db.execute(collection.like(D({'text': query}), vector_index='open_clip_clip_index', n=20).find({}))), code)\n",
    "\n",
    "\n"
   ]
  },
  {
   "cell_type": "code",
   "execution_count": null,
   "id": "d889d3be",
   "metadata": {},
   "outputs": [],
   "source": [
    "from superduperdb.core.document import Document as D\n",
    "from superduperdb.encoders.pillow.image import pil_image as i\n",
    "from datasets import load_dataset\n",
    "import random\n",
    "import pymongo\n",
    "from superduperdb import superduper\n",
    "from superduperdb.datalayer.mongodb.query import Collection\n",
    "import clip\n",
    "\n",
    "\n",
    "db = pymongo.MongoClient().documents\n",
    "db = superduper(db)\n",
    "\n",
    "collection = Collection(name='tiny-imagenet')"
   ]
  },
  {
   "cell_type": "code",
   "execution_count": null,
   "id": "9e3a7685",
   "metadata": {},
   "outputs": [
    {
     "name": "stderr",
     "output_type": "stream",
     "text": [
      "/var/folders/5k/k58wnkmx6x1cdgy02s9v8hnr0000gn/T/ipykernel_18414/3144161703.py:15: GradioDeprecationWarning: The `style` method is deprecated. Please set these arguments in the constructor instead.\n",
      "  openai_gallery = gr.Gallery(\n",
      "/var/folders/5k/k58wnkmx6x1cdgy02s9v8hnr0000gn/T/ipykernel_18414/3144161703.py:18: GradioDeprecationWarning: The `style` method is deprecated. Please set these arguments in the constructor instead.\n",
      "  open_clip_gallery = gr.Gallery(\n"
     ]
    },
    {
     "name": "stdout",
     "output_type": "stream",
     "text": [
      "Running on local URL:  http://127.0.0.1:7875\n",
      "\n",
      "To create a public link, set `share=True` in `launch()`.\n"
     ]
    },
    {
     "data": {
      "text/html": [
       "<div><iframe src=\"http://127.0.0.1:7875/\" width=\"100%\" height=\"500\" allow=\"autoplay; camera; microphone; clipboard-read; clipboard-write;\" frameborder=\"0\" allowfullscreen></iframe></div>"
      ],
      "text/plain": [
       "<IPython.core.display.HTML object>"
      ]
     },
     "metadata": {},
     "output_type": "display_data"
    },
    {
     "data": {
      "text/plain": []
     },
     "execution_count": 64,
     "metadata": {},
     "output_type": "execute_result"
    }
   ],
   "source": [
    "import gradio as gr\n",
    "\n",
    "\n",
    "with gr.Blocks() as demo:\n",
    "    with gr.Row():\n",
    "        with gr.Tab(\"Multi-modal search: compare two models\"):\n",
    "            vector_query = gr.Textbox(value=\"mushroom\", show_label=False)\n",
    "            b2 = gr.Button(\"Submit\")\n",
    "    with gr.Row():\n",
    "        code = gr.Code(label=\"Code\", language=\"python\")\n",
    "    with gr.Row():\n",
    "        gr.Label(\"Similar images from CLIP\", show_label=False)\n",
    "    with gr.Row():\n",
    "        \n",
    "        openai_gallery = gr.Gallery(\n",
    "                label=\"Trained on OpenAI dataset\", show_label=True, elem_id=\"gallery\"\n",
    "            ).style(columns=[6], rows=[3], object_fit=\"contain\", height=\"auto\")\n",
    "        open_clip_gallery = gr.Gallery(\n",
    "                label=\"Trained on open source LAION-2B\", show_label=True, elem_id=\"gallery\"\n",
    "            ).style(columns=[6], rows=[3], object_fit=\"contain\", height=\"auto\")   \n",
    "\n",
    "        \n",
    "    b2.click(find_image_vectors, inputs=vector_query, outputs=[openai_gallery, open_clip_gallery, code])\n",
    "    \n",
    "demo.launch()"
   ]
  }
 ],
 "metadata": {
  "kernelspec": {
   "display_name": "Python 3 (ipykernel)",
   "language": "python",
   "name": "python3"
  },
  "language_info": {
   "codemirror_mode": {
    "name": "ipython",
    "version": 3
   },
   "file_extension": ".py",
   "mimetype": "text/x-python",
   "name": "python",
   "nbconvert_exporter": "python",
   "pygments_lexer": "ipython3",
   "version": "3.10.8"
  }
 },
 "nbformat": 4,
 "nbformat_minor": 5
}
