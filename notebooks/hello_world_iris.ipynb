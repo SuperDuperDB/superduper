{
 "cells": [
  {
   "cell_type": "code",
   "execution_count": 1,
   "metadata": {},
   "outputs": [],
   "source": [
    "import pymongo\n",
    "from superduperdb import superduper\n"
   ]
  },
  {
   "cell_type": "code",
   "execution_count": 2,
   "metadata": {},
   "outputs": [
    {
     "ename": "NotImplementedError",
     "evalue": "Couldn't auto-identify Database(MongoClient(host=['localhost:27017'], document_class=dict, tz_aware=False, connect=True), 'documents'), please wrap explicitly using ``superduperdb.core.*``",
     "output_type": "error",
     "traceback": [
      "\u001b[0;31m---------------------------------------------------------------------------\u001b[0m",
      "\u001b[0;31mNotImplementedError\u001b[0m                       Traceback (most recent call last)",
      "Cell \u001b[0;32mIn[2], line 4\u001b[0m\n\u001b[1;32m      1\u001b[0m \u001b[39m# setup SuperDuperDB\u001b[39;00m\n\u001b[1;32m      3\u001b[0m db \u001b[39m=\u001b[39m pymongo\u001b[39m.\u001b[39mMongoClient()\u001b[39m.\u001b[39mdocuments\n\u001b[0;32m----> 4\u001b[0m db \u001b[39m=\u001b[39m superduper(db)\n",
      "File \u001b[0;32m~/Documents/GitHub/superduperdb-stealth/superduperdb/misc/superduper.py:16\u001b[0m, in \u001b[0;36mDuckTyper.run\u001b[0;34m(cls, item, **kwargs)\u001b[0m\n\u001b[1;32m     14\u001b[0m \u001b[39mif\u001b[39;00m \u001b[39mlen\u001b[39m(dts) \u001b[39m==\u001b[39m \u001b[39m1\u001b[39m:\n\u001b[1;32m     15\u001b[0m     \u001b[39mreturn\u001b[39;00m \u001b[39mcls\u001b[39m\u001b[39m.\u001b[39mcreate(item, \u001b[39m*\u001b[39m\u001b[39m*\u001b[39mkwargs)\n\u001b[0;32m---> 16\u001b[0m \u001b[39mraise\u001b[39;00m \u001b[39mNotImplementedError\u001b[39;00m(\n\u001b[1;32m     17\u001b[0m     \u001b[39mf\u001b[39m\u001b[39m'\u001b[39m\u001b[39mCouldn\u001b[39m\u001b[39m\\'\u001b[39;00m\u001b[39mt auto-identify \u001b[39m\u001b[39m{\u001b[39;00mitem\u001b[39m}\u001b[39;00m\u001b[39m, please wrap explicitly using \u001b[39m\u001b[39m'\u001b[39m\n\u001b[1;32m     18\u001b[0m     \u001b[39m'\u001b[39m\u001b[39m``superduperdb.core.*``\u001b[39m\u001b[39m'\u001b[39m\n\u001b[1;32m     19\u001b[0m )\n",
      "\u001b[0;31mNotImplementedError\u001b[0m: Couldn't auto-identify Database(MongoClient(host=['localhost:27017'], document_class=dict, tz_aware=False, connect=True), 'documents'), please wrap explicitly using ``superduperdb.core.*``"
     ]
    }
   ],
   "source": [
    "# setup SuperDuperDB\n",
    "\n",
    "db = pymongo.MongoClient().documents\n",
    "db = superduper(db)\n",
    "\n"
   ]
  },
  {
   "cell_type": "markdown",
   "metadata": {},
   "source": []
  },
  {
   "cell_type": "code",
   "execution_count": 3,
   "metadata": {},
   "outputs": [],
   "source": [
    "from sklearn.datasets import load_iris\n",
    "from superduperdb.core.document import Document\n",
    "from superduperdb.datalayer.mongodb.query import Collection\n",
    "\n",
    "X, y = load_iris(return_X_y=True)\n",
    "\n"
   ]
  },
  {
   "cell_type": "code",
   "execution_count": 4,
   "metadata": {},
   "outputs": [
    {
     "name": "stderr",
     "output_type": "stream",
     "text": [
      "INFO:root:found 0 uris\n"
     ]
    },
    {
     "data": {
      "text/plain": [
       "(<pymongo.results.InsertManyResult at 0x2b1f898d0>,\n",
       " TaskWorkflow(database=<superduperdb.datalayer.base.datalayer.Datalayer object at 0x1687cf510>, G=<networkx.classes.digraph.DiGraph object at 0x168808250>))"
      ]
     },
     "execution_count": 4,
     "metadata": {},
     "output_type": "execute_result"
    }
   ],
   "source": [
    "from sklearn.datasets import load_iris\n",
    "from superduperdb.core.document import Document\n",
    "from superduperdb.datalayer.mongodb.query import Collection\n",
    "from superduperdb.encoders.numpy.array import array\n",
    "\n",
    "\n",
    "# Load the [iris dataset](https://scikit-learn.org/stable/datasets/toy_dataset.html#iris-plants-dataset)\n",
    "X, y = load_iris(return_X_y=True)\n",
    "encoder = array(dtype='float64', shape=(4,))\n",
    "\n",
    "# Create a MongoDB document for each row in the dataset\n",
    "collection = Collection(name='iris')\n",
    "data = [Document({'x': encoder(X_value), 'y':int(y_value) }) for (X_value, y_value) in zip(X,y)]\n",
    "\n",
    "db.execute(\n",
    "    collection.insert_many(data, encoders=[encoder])\n",
    ")\n"
   ]
  },
  {
   "cell_type": "code",
   "execution_count": 5,
   "metadata": {},
   "outputs": [
    {
     "data": {
      "text/plain": [
       "Document({'_id': ObjectId('64bea463e6c6317e8fddb959'), 'x': Encodable(x=array([5.1, 3.5, 1.4, 0.2]), encoder=Encoder(identifier='numpy.float64[4]', decoder=<Artifact artifact=<superduperdb.encoders.numpy.array.DecodeArray object at 0x2b1fbb7d0> serializer=dill>, encoder=<Artifact artifact=<superduperdb.encoders.numpy.array.EncodeArray object at 0x2b1fbac50> serializer=dill>, shape=[4], version=5)), 'y': 0, '_fold': 'train'})"
      ]
     },
     "execution_count": 5,
     "metadata": {},
     "output_type": "execute_result"
    }
   ],
   "source": [
    "r = db.execute(collection.find_one())\n",
    "r"
   ]
  },
  {
   "cell_type": "code",
   "execution_count": 6,
   "metadata": {},
   "outputs": [
    {
     "ename": "ServerSelectionTimeoutError",
     "evalue": "localhost:27018: [Errno 61] Connection refused, Timeout: 30s, Topology Description: <TopologyDescription id: 64beae7a061c4236c9dbedcf, topology_type: Unknown, servers: [<ServerDescription ('localhost', 27018) server_type: Unknown, rtt: None, error=AutoReconnect('localhost:27018: [Errno 61] Connection refused')>]>",
     "output_type": "error",
     "traceback": [
      "\u001b[0;31m---------------------------------------------------------------------------\u001b[0m",
      "\u001b[0;31mServerSelectionTimeoutError\u001b[0m               Traceback (most recent call last)",
      "Cell \u001b[0;32mIn[6], line 6\u001b[0m\n\u001b[1;32m      1\u001b[0m \u001b[39mfrom\u001b[39;00m \u001b[39msklearn\u001b[39;00m\u001b[39m.\u001b[39;00m\u001b[39mlinear_model\u001b[39;00m \u001b[39mimport\u001b[39;00m LogisticRegression\n\u001b[1;32m      3\u001b[0m superduper_clf \u001b[39m=\u001b[39m superduper(LogisticRegression())\n\u001b[0;32m----> 6\u001b[0m superduper_clf\u001b[39m.\u001b[39;49mfit(\n\u001b[1;32m      7\u001b[0m     X\u001b[39m=\u001b[39;49m\u001b[39m'\u001b[39;49m\u001b[39mx\u001b[39;49m\u001b[39m'\u001b[39;49m,\n\u001b[1;32m      8\u001b[0m     y\u001b[39m=\u001b[39;49m\u001b[39m'\u001b[39;49m\u001b[39my\u001b[39;49m\u001b[39m'\u001b[39;49m,\n\u001b[1;32m      9\u001b[0m     db\u001b[39m=\u001b[39;49mdb,\n\u001b[1;32m     10\u001b[0m     select\u001b[39m=\u001b[39;49mCollection(name\u001b[39m=\u001b[39;49m\u001b[39m'\u001b[39;49m\u001b[39miris\u001b[39;49m\u001b[39m'\u001b[39;49m)\u001b[39m.\u001b[39;49mfind(),\n\u001b[1;32m     11\u001b[0m )\n",
      "File \u001b[0;32m~/Documents/GitHub/superduperdb-stealth/superduperdb/core/model.py:300\u001b[0m, in \u001b[0;36mModel.fit\u001b[0;34m(self, X, y, db, select, distributed, dependencies, configuration, validation_sets, metrics, data_prefetch, **kwargs)\u001b[0m\n\u001b[1;32m    293\u001b[0m     \u001b[39mreturn\u001b[39;00m \u001b[39mself\u001b[39m\u001b[39m.\u001b[39mcreate_fit_job(\n\u001b[1;32m    294\u001b[0m         X,\n\u001b[1;32m    295\u001b[0m         select\u001b[39m=\u001b[39mselect,\n\u001b[1;32m    296\u001b[0m         y\u001b[39m=\u001b[39my,\n\u001b[1;32m    297\u001b[0m         \u001b[39m*\u001b[39m\u001b[39m*\u001b[39mkwargs,\n\u001b[1;32m    298\u001b[0m     )(db\u001b[39m=\u001b[39mdb, distributed\u001b[39m=\u001b[39m\u001b[39mTrue\u001b[39;00m, dependencies\u001b[39m=\u001b[39mdependencies)\n\u001b[1;32m    299\u001b[0m \u001b[39melse\u001b[39;00m:\n\u001b[0;32m--> 300\u001b[0m     \u001b[39mreturn\u001b[39;00m \u001b[39mself\u001b[39;49m\u001b[39m.\u001b[39;49m_fit(\n\u001b[1;32m    301\u001b[0m         X,\n\u001b[1;32m    302\u001b[0m         y\u001b[39m=\u001b[39;49my,\n\u001b[1;32m    303\u001b[0m         db\u001b[39m=\u001b[39;49mdb,\n\u001b[1;32m    304\u001b[0m         validation_sets\u001b[39m=\u001b[39;49mvalidation_sets,\n\u001b[1;32m    305\u001b[0m         metrics\u001b[39m=\u001b[39;49mmetrics,\n\u001b[1;32m    306\u001b[0m         configuration\u001b[39m=\u001b[39;49mconfiguration,\n\u001b[1;32m    307\u001b[0m         select\u001b[39m=\u001b[39;49mselect,\n\u001b[1;32m    308\u001b[0m         data_prefetch\u001b[39m=\u001b[39;49mdata_prefetch,\n\u001b[1;32m    309\u001b[0m         \u001b[39m*\u001b[39;49m\u001b[39m*\u001b[39;49mkwargs,\n\u001b[1;32m    310\u001b[0m     )\n",
      "File \u001b[0;32m~/Documents/GitHub/superduperdb-stealth/superduperdb/models/sklearn/wrapper.py:99\u001b[0m, in \u001b[0;36mEstimator._fit\u001b[0;34m(self, X, y, select, db, configuration, validation_sets, metrics, data_prefetch)\u001b[0m\n\u001b[1;32m     97\u001b[0m             y_preprocess \u001b[39m=\u001b[39m y_preprocess\u001b[39m.\u001b[39martifact\n\u001b[1;32m     98\u001b[0m     \u001b[39m# ruff: noqa: E501\u001b[39;00m\n\u001b[0;32m---> 99\u001b[0m     X, y \u001b[39m=\u001b[39m get_data_from_query(\n\u001b[1;32m    100\u001b[0m         select\u001b[39m=\u001b[39;49mselect, X\u001b[39m=\u001b[39;49mX, y\u001b[39m=\u001b[39;49my, y_preprocess\u001b[39m=\u001b[39;49my_preprocess  \u001b[39m# type: ignore[arg-type]\u001b[39;49;00m\n\u001b[1;32m    101\u001b[0m     )\n\u001b[1;32m    102\u001b[0m \u001b[39mif\u001b[39;00m \u001b[39mself\u001b[39m\u001b[39m.\u001b[39mtraining_configuration \u001b[39mis\u001b[39;00m \u001b[39mnot\u001b[39;00m \u001b[39mNone\u001b[39;00m:\n\u001b[1;32m    103\u001b[0m     \u001b[39mreturn\u001b[39;00m \u001b[39mself\u001b[39m\u001b[39m.\u001b[39mestimator\u001b[39m.\u001b[39mfit(\n\u001b[1;32m    104\u001b[0m         X\u001b[39m=\u001b[39mX,\n\u001b[1;32m    105\u001b[0m         y\u001b[39m=\u001b[39my,\n\u001b[1;32m    106\u001b[0m         \u001b[39m*\u001b[39m\u001b[39m*\u001b[39m\u001b[39mself\u001b[39m\u001b[39m.\u001b[39mtraining_configuration\u001b[39m.\u001b[39mget(\u001b[39m'\u001b[39m\u001b[39mfit_params\u001b[39m\u001b[39m'\u001b[39m, {}),\n\u001b[1;32m    107\u001b[0m     )\n",
      "File \u001b[0;32m~/Documents/GitHub/superduperdb-stealth/superduperdb/models/sklearn/wrapper.py:22\u001b[0m, in \u001b[0;36mget_data_from_query\u001b[0;34m(select, X, y, y_preprocess)\u001b[0m\n\u001b[1;32m     16\u001b[0m \u001b[39mdef\u001b[39;00m \u001b[39mget_data_from_query\u001b[39m(\n\u001b[1;32m     17\u001b[0m     select: Select,\n\u001b[1;32m     18\u001b[0m     X: \u001b[39mstr\u001b[39m,\n\u001b[1;32m     19\u001b[0m     y: t\u001b[39m.\u001b[39mOptional[\u001b[39mstr\u001b[39m] \u001b[39m=\u001b[39m \u001b[39mNone\u001b[39;00m,\n\u001b[1;32m     20\u001b[0m     y_preprocess: t\u001b[39m.\u001b[39mOptional[t\u001b[39m.\u001b[39mCallable] \u001b[39m=\u001b[39m \u001b[39mNone\u001b[39;00m,\n\u001b[1;32m     21\u001b[0m ):\n\u001b[0;32m---> 22\u001b[0m     data \u001b[39m=\u001b[39m QueryDataset(\n\u001b[1;32m     23\u001b[0m         select\u001b[39m=\u001b[39;49mselect,\n\u001b[1;32m     24\u001b[0m         keys\u001b[39m=\u001b[39;49m[X] \u001b[39mif\u001b[39;49;00m y \u001b[39mis\u001b[39;49;00m \u001b[39mNone\u001b[39;49;00m \u001b[39melse\u001b[39;49;00m [X, y],\n\u001b[1;32m     25\u001b[0m     )\n\u001b[1;32m     26\u001b[0m     documents \u001b[39m=\u001b[39m []\n\u001b[1;32m     27\u001b[0m     \u001b[39mfor\u001b[39;00m i \u001b[39min\u001b[39;00m tqdm(\u001b[39mrange\u001b[39m(\u001b[39mlen\u001b[39m(data))):\n",
      "File \u001b[0;32m~/Documents/GitHub/superduperdb-stealth/superduperdb/datalayer/query_dataset.py:34\u001b[0m, in \u001b[0;36mQueryDataset.__init__\u001b[0;34m(self, select, keys, fold, suppress, transform, features, database, **kwargs)\u001b[0m\n\u001b[1;32m     31\u001b[0m \u001b[39mself\u001b[39m\u001b[39m.\u001b[39mkeys \u001b[39m=\u001b[39m keys\n\u001b[1;32m     33\u001b[0m \u001b[39mself\u001b[39m\u001b[39m.\u001b[39mtransform \u001b[39m=\u001b[39m transform \u001b[39mif\u001b[39;00m transform \u001b[39melse\u001b[39;00m \u001b[39mlambda\u001b[39;00m x: x\n\u001b[0;32m---> 34\u001b[0m \u001b[39mself\u001b[39m\u001b[39m.\u001b[39m_documents \u001b[39m=\u001b[39m \u001b[39mlist\u001b[39;49m(\u001b[39mself\u001b[39;49m\u001b[39m.\u001b[39;49mdatabase\u001b[39m.\u001b[39;49mexecute(select))\n\u001b[1;32m     35\u001b[0m \u001b[39mself\u001b[39m\u001b[39m.\u001b[39mselect \u001b[39m=\u001b[39m select\u001b[39m.\u001b[39madd_fold(fold)\n\u001b[1;32m     36\u001b[0m \u001b[39mself\u001b[39m\u001b[39m.\u001b[39msuppress \u001b[39m=\u001b[39m suppress\n",
      "File \u001b[0;32m~/Documents/GitHub/superduperdb-stealth/superduperdb/datalayer/base/cursor.py:64\u001b[0m, in \u001b[0;36mSuperDuperCursor.__next__\u001b[0;34m(self)\u001b[0m\n\u001b[1;32m     62\u001b[0m     \u001b[39mself\u001b[39m\u001b[39m.\u001b[39m_it \u001b[39m+\u001b[39m\u001b[39m=\u001b[39m \u001b[39m1\u001b[39m\n\u001b[1;32m     63\u001b[0m \u001b[39melse\u001b[39;00m:\n\u001b[0;32m---> 64\u001b[0m     r \u001b[39m=\u001b[39m \u001b[39mself\u001b[39;49m\u001b[39m.\u001b[39;49mraw_cursor\u001b[39m.\u001b[39;49mnext()\n\u001b[1;32m     65\u001b[0m \u001b[39mif\u001b[39;00m \u001b[39mself\u001b[39m\u001b[39m.\u001b[39mscores \u001b[39mis\u001b[39;00m \u001b[39mnot\u001b[39;00m \u001b[39mNone\u001b[39;00m:\n\u001b[1;32m     66\u001b[0m     r[\u001b[39m'\u001b[39m\u001b[39m_score\u001b[39m\u001b[39m'\u001b[39m] \u001b[39m=\u001b[39m \u001b[39mself\u001b[39m\u001b[39m.\u001b[39mscores[\u001b[39mstr\u001b[39m(r[\u001b[39mself\u001b[39m\u001b[39m.\u001b[39mid_field])]\n",
      "File \u001b[0;32m~/Documents/GitHub/superduperdb-stealth/venv/lib/python3.11/site-packages/pymongo/cursor.py:1251\u001b[0m, in \u001b[0;36mCursor.next\u001b[0;34m(self)\u001b[0m\n\u001b[1;32m   1249\u001b[0m \u001b[39mif\u001b[39;00m \u001b[39mself\u001b[39m\u001b[39m.\u001b[39m__empty:\n\u001b[1;32m   1250\u001b[0m     \u001b[39mraise\u001b[39;00m \u001b[39mStopIteration\u001b[39;00m\n\u001b[0;32m-> 1251\u001b[0m \u001b[39mif\u001b[39;00m \u001b[39mlen\u001b[39m(\u001b[39mself\u001b[39m\u001b[39m.\u001b[39m__data) \u001b[39mor\u001b[39;00m \u001b[39mself\u001b[39;49m\u001b[39m.\u001b[39;49m_refresh():\n\u001b[1;32m   1252\u001b[0m     \u001b[39mreturn\u001b[39;00m \u001b[39mself\u001b[39m\u001b[39m.\u001b[39m__data\u001b[39m.\u001b[39mpopleft()\n\u001b[1;32m   1253\u001b[0m \u001b[39melse\u001b[39;00m:\n",
      "File \u001b[0;32m~/Documents/GitHub/superduperdb-stealth/venv/lib/python3.11/site-packages/pymongo/cursor.py:1142\u001b[0m, in \u001b[0;36mCursor._refresh\u001b[0;34m(self)\u001b[0m\n\u001b[1;32m   1139\u001b[0m     \u001b[39mreturn\u001b[39;00m \u001b[39mlen\u001b[39m(\u001b[39mself\u001b[39m\u001b[39m.\u001b[39m__data)\n\u001b[1;32m   1141\u001b[0m \u001b[39mif\u001b[39;00m \u001b[39mnot\u001b[39;00m \u001b[39mself\u001b[39m\u001b[39m.\u001b[39m__session:\n\u001b[0;32m-> 1142\u001b[0m     \u001b[39mself\u001b[39m\u001b[39m.\u001b[39m__session \u001b[39m=\u001b[39m \u001b[39mself\u001b[39;49m\u001b[39m.\u001b[39;49m__collection\u001b[39m.\u001b[39;49mdatabase\u001b[39m.\u001b[39;49mclient\u001b[39m.\u001b[39;49m_ensure_session()\n\u001b[1;32m   1144\u001b[0m \u001b[39mif\u001b[39;00m \u001b[39mself\u001b[39m\u001b[39m.\u001b[39m__id \u001b[39mis\u001b[39;00m \u001b[39mNone\u001b[39;00m:  \u001b[39m# Query\u001b[39;00m\n\u001b[1;32m   1145\u001b[0m     \u001b[39mif\u001b[39;00m (\u001b[39mself\u001b[39m\u001b[39m.\u001b[39m__min \u001b[39mor\u001b[39;00m \u001b[39mself\u001b[39m\u001b[39m.\u001b[39m__max) \u001b[39mand\u001b[39;00m \u001b[39mnot\u001b[39;00m \u001b[39mself\u001b[39m\u001b[39m.\u001b[39m__hint:\n",
      "File \u001b[0;32m~/Documents/GitHub/superduperdb-stealth/venv/lib/python3.11/site-packages/pymongo/mongo_client.py:1758\u001b[0m, in \u001b[0;36mMongoClient._ensure_session\u001b[0;34m(self, session)\u001b[0m\n\u001b[1;32m   1753\u001b[0m     \u001b[39mreturn\u001b[39;00m session\n\u001b[1;32m   1755\u001b[0m \u001b[39mtry\u001b[39;00m:\n\u001b[1;32m   1756\u001b[0m     \u001b[39m# Don't make implicit sessions causally consistent. Applications\u001b[39;00m\n\u001b[1;32m   1757\u001b[0m     \u001b[39m# should always opt-in.\u001b[39;00m\n\u001b[0;32m-> 1758\u001b[0m     \u001b[39mreturn\u001b[39;00m \u001b[39mself\u001b[39;49m\u001b[39m.\u001b[39;49m__start_session(\u001b[39mTrue\u001b[39;49;00m, causal_consistency\u001b[39m=\u001b[39;49m\u001b[39mFalse\u001b[39;49;00m)\n\u001b[1;32m   1759\u001b[0m \u001b[39mexcept\u001b[39;00m (ConfigurationError, InvalidOperation):\n\u001b[1;32m   1760\u001b[0m     \u001b[39m# Sessions not supported.\u001b[39;00m\n\u001b[1;32m   1761\u001b[0m     \u001b[39mreturn\u001b[39;00m \u001b[39mNone\u001b[39;00m\n",
      "File \u001b[0;32m~/Documents/GitHub/superduperdb-stealth/venv/lib/python3.11/site-packages/pymongo/mongo_client.py:1703\u001b[0m, in \u001b[0;36mMongoClient.__start_session\u001b[0;34m(self, implicit, **kwargs)\u001b[0m\n\u001b[1;32m   1700\u001b[0m \u001b[39mdef\u001b[39;00m \u001b[39m__start_session\u001b[39m(\u001b[39mself\u001b[39m, implicit, \u001b[39m*\u001b[39m\u001b[39m*\u001b[39mkwargs):\n\u001b[1;32m   1701\u001b[0m     \u001b[39m# Raises ConfigurationError if sessions are not supported.\u001b[39;00m\n\u001b[1;32m   1702\u001b[0m     \u001b[39mif\u001b[39;00m implicit:\n\u001b[0;32m-> 1703\u001b[0m         \u001b[39mself\u001b[39;49m\u001b[39m.\u001b[39;49m_topology\u001b[39m.\u001b[39;49m_check_implicit_session_support()\n\u001b[1;32m   1704\u001b[0m         server_session \u001b[39m=\u001b[39m _EmptyServerSession()\n\u001b[1;32m   1705\u001b[0m     \u001b[39melse\u001b[39;00m:\n",
      "File \u001b[0;32m~/Documents/GitHub/superduperdb-stealth/venv/lib/python3.11/site-packages/pymongo/topology.py:538\u001b[0m, in \u001b[0;36mTopology._check_implicit_session_support\u001b[0;34m(self)\u001b[0m\n\u001b[1;32m    536\u001b[0m \u001b[39mdef\u001b[39;00m \u001b[39m_check_implicit_session_support\u001b[39m(\u001b[39mself\u001b[39m):\n\u001b[1;32m    537\u001b[0m     \u001b[39mwith\u001b[39;00m \u001b[39mself\u001b[39m\u001b[39m.\u001b[39m_lock:\n\u001b[0;32m--> 538\u001b[0m         \u001b[39mself\u001b[39;49m\u001b[39m.\u001b[39;49m_check_session_support()\n",
      "File \u001b[0;32m~/Documents/GitHub/superduperdb-stealth/venv/lib/python3.11/site-packages/pymongo/topology.py:554\u001b[0m, in \u001b[0;36mTopology._check_session_support\u001b[0;34m(self)\u001b[0m\n\u001b[1;32m    550\u001b[0m         \u001b[39mself\u001b[39m\u001b[39m.\u001b[39m_select_servers_loop(\n\u001b[1;32m    551\u001b[0m             any_server_selector, \u001b[39mself\u001b[39m\u001b[39m.\u001b[39mget_server_selection_timeout(), \u001b[39mNone\u001b[39;00m\n\u001b[1;32m    552\u001b[0m         )\n\u001b[1;32m    553\u001b[0m \u001b[39melif\u001b[39;00m \u001b[39mnot\u001b[39;00m \u001b[39mself\u001b[39m\u001b[39m.\u001b[39m_description\u001b[39m.\u001b[39mreadable_servers:\n\u001b[0;32m--> 554\u001b[0m     \u001b[39mself\u001b[39;49m\u001b[39m.\u001b[39;49m_select_servers_loop(\n\u001b[1;32m    555\u001b[0m         readable_server_selector, \u001b[39mself\u001b[39;49m\u001b[39m.\u001b[39;49mget_server_selection_timeout(), \u001b[39mNone\u001b[39;49;00m\n\u001b[1;32m    556\u001b[0m     )\n\u001b[1;32m    558\u001b[0m session_timeout \u001b[39m=\u001b[39m \u001b[39mself\u001b[39m\u001b[39m.\u001b[39m_description\u001b[39m.\u001b[39mlogical_session_timeout_minutes\n\u001b[1;32m    559\u001b[0m \u001b[39mif\u001b[39;00m session_timeout \u001b[39mis\u001b[39;00m \u001b[39mNone\u001b[39;00m:\n",
      "File \u001b[0;32m~/Documents/GitHub/superduperdb-stealth/venv/lib/python3.11/site-packages/pymongo/topology.py:238\u001b[0m, in \u001b[0;36mTopology._select_servers_loop\u001b[0;34m(self, selector, timeout, address)\u001b[0m\n\u001b[1;32m    235\u001b[0m \u001b[39mwhile\u001b[39;00m \u001b[39mnot\u001b[39;00m server_descriptions:\n\u001b[1;32m    236\u001b[0m     \u001b[39m# No suitable servers.\u001b[39;00m\n\u001b[1;32m    237\u001b[0m     \u001b[39mif\u001b[39;00m timeout \u001b[39m==\u001b[39m \u001b[39m0\u001b[39m \u001b[39mor\u001b[39;00m now \u001b[39m>\u001b[39m end_time:\n\u001b[0;32m--> 238\u001b[0m         \u001b[39mraise\u001b[39;00m ServerSelectionTimeoutError(\n\u001b[1;32m    239\u001b[0m             \u001b[39mf\u001b[39m\u001b[39m\"\u001b[39m\u001b[39m{\u001b[39;00m\u001b[39mself\u001b[39m\u001b[39m.\u001b[39m_error_message(selector)\u001b[39m}\u001b[39;00m\u001b[39m, Timeout: \u001b[39m\u001b[39m{\u001b[39;00mtimeout\u001b[39m}\u001b[39;00m\u001b[39ms, Topology Description: \u001b[39m\u001b[39m{\u001b[39;00m\u001b[39mself\u001b[39m\u001b[39m.\u001b[39mdescription\u001b[39m!r}\u001b[39;00m\u001b[39m\"\u001b[39m\n\u001b[1;32m    240\u001b[0m         )\n\u001b[1;32m    242\u001b[0m     \u001b[39mself\u001b[39m\u001b[39m.\u001b[39m_ensure_opened()\n\u001b[1;32m    243\u001b[0m     \u001b[39mself\u001b[39m\u001b[39m.\u001b[39m_request_check_all()\n",
      "\u001b[0;31mServerSelectionTimeoutError\u001b[0m: localhost:27018: [Errno 61] Connection refused, Timeout: 30s, Topology Description: <TopologyDescription id: 64beae7a061c4236c9dbedcf, topology_type: Unknown, servers: [<ServerDescription ('localhost', 27018) server_type: Unknown, rtt: None, error=AutoReconnect('localhost:27018: [Errno 61] Connection refused')>]>"
     ]
    }
   ],
   "source": [
    "from sklearn.linear_model import LogisticRegression\n",
    "\n",
    "superduper_clf = superduper(LogisticRegression())\n",
    "\n",
    "\n",
    "superduper_clf.fit(\n",
    "    X='x',\n",
    "    y='y',\n",
    "    db=db,\n",
    "    select=Collection(name='iris').find(),\n",
    ")\n",
    "\n"
   ]
  },
  {
   "cell_type": "code",
   "execution_count": 8,
   "metadata": {},
   "outputs": [
    {
     "ename": "ServerSelectionTimeoutError",
     "evalue": "localhost:27018: [Errno 61] Connection refused, Timeout: 30s, Topology Description: <TopologyDescription id: 64beade7c471bb957f768a1a, topology_type: Unknown, servers: [<ServerDescription ('localhost', 27018) server_type: Unknown, rtt: None, error=AutoReconnect('localhost:27018: [Errno 61] Connection refused')>]>",
     "output_type": "error",
     "traceback": [
      "\u001b[0;31m---------------------------------------------------------------------------\u001b[0m",
      "\u001b[0;31mServerSelectionTimeoutError\u001b[0m               Traceback (most recent call last)",
      "Cell \u001b[0;32mIn[8], line 7\u001b[0m\n\u001b[1;32m      2\u001b[0m \u001b[39mfrom\u001b[39;00m \u001b[39msuperduperdb\u001b[39;00m\u001b[39m.\u001b[39;00m\u001b[39mmodels\u001b[39;00m\u001b[39m.\u001b[39;00m\u001b[39msklearn\u001b[39;00m\u001b[39m.\u001b[39;00m\u001b[39mwrapper\u001b[39;00m \u001b[39mimport\u001b[39;00m Estimator\n\u001b[1;32m      4\u001b[0m superduper_clf \u001b[39m=\u001b[39m Estimator(identifier\u001b[39m=\u001b[39m\u001b[39m'\u001b[39m\u001b[39mLR\u001b[39m\u001b[39m'\u001b[39m, \u001b[39mobject\u001b[39m\u001b[39m=\u001b[39mLogisticRegression())\n\u001b[0;32m----> 7\u001b[0m superduper_clf\u001b[39m.\u001b[39;49mfit(\n\u001b[1;32m      8\u001b[0m     X\u001b[39m=\u001b[39;49m\u001b[39m'\u001b[39;49m\u001b[39mx\u001b[39;49m\u001b[39m'\u001b[39;49m,\n\u001b[1;32m      9\u001b[0m     y\u001b[39m=\u001b[39;49m\u001b[39m'\u001b[39;49m\u001b[39my\u001b[39;49m\u001b[39m'\u001b[39;49m,\n\u001b[1;32m     10\u001b[0m     db\u001b[39m=\u001b[39;49mdb,\n\u001b[1;32m     11\u001b[0m     select\u001b[39m=\u001b[39;49mCollection(name\u001b[39m=\u001b[39;49m\u001b[39m'\u001b[39;49m\u001b[39miris\u001b[39;49m\u001b[39m'\u001b[39;49m)\u001b[39m.\u001b[39;49mfind(),\n\u001b[1;32m     12\u001b[0m )\n",
      "File \u001b[0;32m~/Documents/GitHub/superduperdb-stealth/superduperdb/core/model.py:300\u001b[0m, in \u001b[0;36mModel.fit\u001b[0;34m(self, X, y, db, select, distributed, dependencies, configuration, validation_sets, metrics, data_prefetch, **kwargs)\u001b[0m\n\u001b[1;32m    293\u001b[0m     \u001b[39mreturn\u001b[39;00m \u001b[39mself\u001b[39m\u001b[39m.\u001b[39mcreate_fit_job(\n\u001b[1;32m    294\u001b[0m         X,\n\u001b[1;32m    295\u001b[0m         select\u001b[39m=\u001b[39mselect,\n\u001b[1;32m    296\u001b[0m         y\u001b[39m=\u001b[39my,\n\u001b[1;32m    297\u001b[0m         \u001b[39m*\u001b[39m\u001b[39m*\u001b[39mkwargs,\n\u001b[1;32m    298\u001b[0m     )(db\u001b[39m=\u001b[39mdb, distributed\u001b[39m=\u001b[39m\u001b[39mTrue\u001b[39;00m, dependencies\u001b[39m=\u001b[39mdependencies)\n\u001b[1;32m    299\u001b[0m \u001b[39melse\u001b[39;00m:\n\u001b[0;32m--> 300\u001b[0m     \u001b[39mreturn\u001b[39;00m \u001b[39mself\u001b[39;49m\u001b[39m.\u001b[39;49m_fit(\n\u001b[1;32m    301\u001b[0m         X,\n\u001b[1;32m    302\u001b[0m         y\u001b[39m=\u001b[39;49my,\n\u001b[1;32m    303\u001b[0m         db\u001b[39m=\u001b[39;49mdb,\n\u001b[1;32m    304\u001b[0m         validation_sets\u001b[39m=\u001b[39;49mvalidation_sets,\n\u001b[1;32m    305\u001b[0m         metrics\u001b[39m=\u001b[39;49mmetrics,\n\u001b[1;32m    306\u001b[0m         configuration\u001b[39m=\u001b[39;49mconfiguration,\n\u001b[1;32m    307\u001b[0m         select\u001b[39m=\u001b[39;49mselect,\n\u001b[1;32m    308\u001b[0m         data_prefetch\u001b[39m=\u001b[39;49mdata_prefetch,\n\u001b[1;32m    309\u001b[0m         \u001b[39m*\u001b[39;49m\u001b[39m*\u001b[39;49mkwargs,\n\u001b[1;32m    310\u001b[0m     )\n",
      "File \u001b[0;32m~/Documents/GitHub/superduperdb-stealth/superduperdb/models/sklearn/wrapper.py:99\u001b[0m, in \u001b[0;36mEstimator._fit\u001b[0;34m(self, X, y, select, db, configuration, validation_sets, metrics, data_prefetch)\u001b[0m\n\u001b[1;32m     97\u001b[0m             y_preprocess \u001b[39m=\u001b[39m y_preprocess\u001b[39m.\u001b[39martifact\n\u001b[1;32m     98\u001b[0m     \u001b[39m# ruff: noqa: E501\u001b[39;00m\n\u001b[0;32m---> 99\u001b[0m     X, y \u001b[39m=\u001b[39m get_data_from_query(\n\u001b[1;32m    100\u001b[0m         select\u001b[39m=\u001b[39;49mselect, X\u001b[39m=\u001b[39;49mX, y\u001b[39m=\u001b[39;49my, y_preprocess\u001b[39m=\u001b[39;49my_preprocess  \u001b[39m# type: ignore[arg-type]\u001b[39;49;00m\n\u001b[1;32m    101\u001b[0m     )\n\u001b[1;32m    102\u001b[0m \u001b[39mif\u001b[39;00m \u001b[39mself\u001b[39m\u001b[39m.\u001b[39mtraining_configuration \u001b[39mis\u001b[39;00m \u001b[39mnot\u001b[39;00m \u001b[39mNone\u001b[39;00m:\n\u001b[1;32m    103\u001b[0m     \u001b[39mreturn\u001b[39;00m \u001b[39mself\u001b[39m\u001b[39m.\u001b[39mestimator\u001b[39m.\u001b[39mfit(\n\u001b[1;32m    104\u001b[0m         X\u001b[39m=\u001b[39mX,\n\u001b[1;32m    105\u001b[0m         y\u001b[39m=\u001b[39my,\n\u001b[1;32m    106\u001b[0m         \u001b[39m*\u001b[39m\u001b[39m*\u001b[39m\u001b[39mself\u001b[39m\u001b[39m.\u001b[39mtraining_configuration\u001b[39m.\u001b[39mget(\u001b[39m'\u001b[39m\u001b[39mfit_params\u001b[39m\u001b[39m'\u001b[39m, {}),\n\u001b[1;32m    107\u001b[0m     )\n",
      "File \u001b[0;32m~/Documents/GitHub/superduperdb-stealth/superduperdb/models/sklearn/wrapper.py:22\u001b[0m, in \u001b[0;36mget_data_from_query\u001b[0;34m(select, X, y, y_preprocess)\u001b[0m\n\u001b[1;32m     16\u001b[0m \u001b[39mdef\u001b[39;00m \u001b[39mget_data_from_query\u001b[39m(\n\u001b[1;32m     17\u001b[0m     select: Select,\n\u001b[1;32m     18\u001b[0m     X: \u001b[39mstr\u001b[39m,\n\u001b[1;32m     19\u001b[0m     y: t\u001b[39m.\u001b[39mOptional[\u001b[39mstr\u001b[39m] \u001b[39m=\u001b[39m \u001b[39mNone\u001b[39;00m,\n\u001b[1;32m     20\u001b[0m     y_preprocess: t\u001b[39m.\u001b[39mOptional[t\u001b[39m.\u001b[39mCallable] \u001b[39m=\u001b[39m \u001b[39mNone\u001b[39;00m,\n\u001b[1;32m     21\u001b[0m ):\n\u001b[0;32m---> 22\u001b[0m     data \u001b[39m=\u001b[39m QueryDataset(\n\u001b[1;32m     23\u001b[0m         select\u001b[39m=\u001b[39;49mselect,\n\u001b[1;32m     24\u001b[0m         keys\u001b[39m=\u001b[39;49m[X] \u001b[39mif\u001b[39;49;00m y \u001b[39mis\u001b[39;49;00m \u001b[39mNone\u001b[39;49;00m \u001b[39melse\u001b[39;49;00m [X, y],\n\u001b[1;32m     25\u001b[0m     )\n\u001b[1;32m     26\u001b[0m     documents \u001b[39m=\u001b[39m []\n\u001b[1;32m     27\u001b[0m     \u001b[39mfor\u001b[39;00m i \u001b[39min\u001b[39;00m tqdm(\u001b[39mrange\u001b[39m(\u001b[39mlen\u001b[39m(data))):\n",
      "File \u001b[0;32m~/Documents/GitHub/superduperdb-stealth/superduperdb/datalayer/query_dataset.py:34\u001b[0m, in \u001b[0;36mQueryDataset.__init__\u001b[0;34m(self, select, keys, fold, suppress, transform, features, database, **kwargs)\u001b[0m\n\u001b[1;32m     31\u001b[0m \u001b[39mself\u001b[39m\u001b[39m.\u001b[39mkeys \u001b[39m=\u001b[39m keys\n\u001b[1;32m     33\u001b[0m \u001b[39mself\u001b[39m\u001b[39m.\u001b[39mtransform \u001b[39m=\u001b[39m transform \u001b[39mif\u001b[39;00m transform \u001b[39melse\u001b[39;00m \u001b[39mlambda\u001b[39;00m x: x\n\u001b[0;32m---> 34\u001b[0m \u001b[39mself\u001b[39m\u001b[39m.\u001b[39m_documents \u001b[39m=\u001b[39m \u001b[39mlist\u001b[39;49m(\u001b[39mself\u001b[39;49m\u001b[39m.\u001b[39;49mdatabase\u001b[39m.\u001b[39;49mexecute(select))\n\u001b[1;32m     35\u001b[0m \u001b[39mself\u001b[39m\u001b[39m.\u001b[39mselect \u001b[39m=\u001b[39m select\u001b[39m.\u001b[39madd_fold(fold)\n\u001b[1;32m     36\u001b[0m \u001b[39mself\u001b[39m\u001b[39m.\u001b[39msuppress \u001b[39m=\u001b[39m suppress\n",
      "File \u001b[0;32m~/Documents/GitHub/superduperdb-stealth/superduperdb/datalayer/base/cursor.py:64\u001b[0m, in \u001b[0;36mSuperDuperCursor.__next__\u001b[0;34m(self)\u001b[0m\n\u001b[1;32m     62\u001b[0m     \u001b[39mself\u001b[39m\u001b[39m.\u001b[39m_it \u001b[39m+\u001b[39m\u001b[39m=\u001b[39m \u001b[39m1\u001b[39m\n\u001b[1;32m     63\u001b[0m \u001b[39melse\u001b[39;00m:\n\u001b[0;32m---> 64\u001b[0m     r \u001b[39m=\u001b[39m \u001b[39mself\u001b[39;49m\u001b[39m.\u001b[39;49mraw_cursor\u001b[39m.\u001b[39;49mnext()\n\u001b[1;32m     65\u001b[0m \u001b[39mif\u001b[39;00m \u001b[39mself\u001b[39m\u001b[39m.\u001b[39mscores \u001b[39mis\u001b[39;00m \u001b[39mnot\u001b[39;00m \u001b[39mNone\u001b[39;00m:\n\u001b[1;32m     66\u001b[0m     r[\u001b[39m'\u001b[39m\u001b[39m_score\u001b[39m\u001b[39m'\u001b[39m] \u001b[39m=\u001b[39m \u001b[39mself\u001b[39m\u001b[39m.\u001b[39mscores[\u001b[39mstr\u001b[39m(r[\u001b[39mself\u001b[39m\u001b[39m.\u001b[39mid_field])]\n",
      "File \u001b[0;32m~/Documents/GitHub/superduperdb-stealth/venv/lib/python3.11/site-packages/pymongo/cursor.py:1251\u001b[0m, in \u001b[0;36mCursor.next\u001b[0;34m(self)\u001b[0m\n\u001b[1;32m   1249\u001b[0m \u001b[39mif\u001b[39;00m \u001b[39mself\u001b[39m\u001b[39m.\u001b[39m__empty:\n\u001b[1;32m   1250\u001b[0m     \u001b[39mraise\u001b[39;00m \u001b[39mStopIteration\u001b[39;00m\n\u001b[0;32m-> 1251\u001b[0m \u001b[39mif\u001b[39;00m \u001b[39mlen\u001b[39m(\u001b[39mself\u001b[39m\u001b[39m.\u001b[39m__data) \u001b[39mor\u001b[39;00m \u001b[39mself\u001b[39;49m\u001b[39m.\u001b[39;49m_refresh():\n\u001b[1;32m   1252\u001b[0m     \u001b[39mreturn\u001b[39;00m \u001b[39mself\u001b[39m\u001b[39m.\u001b[39m__data\u001b[39m.\u001b[39mpopleft()\n\u001b[1;32m   1253\u001b[0m \u001b[39melse\u001b[39;00m:\n",
      "File \u001b[0;32m~/Documents/GitHub/superduperdb-stealth/venv/lib/python3.11/site-packages/pymongo/cursor.py:1142\u001b[0m, in \u001b[0;36mCursor._refresh\u001b[0;34m(self)\u001b[0m\n\u001b[1;32m   1139\u001b[0m     \u001b[39mreturn\u001b[39;00m \u001b[39mlen\u001b[39m(\u001b[39mself\u001b[39m\u001b[39m.\u001b[39m__data)\n\u001b[1;32m   1141\u001b[0m \u001b[39mif\u001b[39;00m \u001b[39mnot\u001b[39;00m \u001b[39mself\u001b[39m\u001b[39m.\u001b[39m__session:\n\u001b[0;32m-> 1142\u001b[0m     \u001b[39mself\u001b[39m\u001b[39m.\u001b[39m__session \u001b[39m=\u001b[39m \u001b[39mself\u001b[39;49m\u001b[39m.\u001b[39;49m__collection\u001b[39m.\u001b[39;49mdatabase\u001b[39m.\u001b[39;49mclient\u001b[39m.\u001b[39;49m_ensure_session()\n\u001b[1;32m   1144\u001b[0m \u001b[39mif\u001b[39;00m \u001b[39mself\u001b[39m\u001b[39m.\u001b[39m__id \u001b[39mis\u001b[39;00m \u001b[39mNone\u001b[39;00m:  \u001b[39m# Query\u001b[39;00m\n\u001b[1;32m   1145\u001b[0m     \u001b[39mif\u001b[39;00m (\u001b[39mself\u001b[39m\u001b[39m.\u001b[39m__min \u001b[39mor\u001b[39;00m \u001b[39mself\u001b[39m\u001b[39m.\u001b[39m__max) \u001b[39mand\u001b[39;00m \u001b[39mnot\u001b[39;00m \u001b[39mself\u001b[39m\u001b[39m.\u001b[39m__hint:\n",
      "File \u001b[0;32m~/Documents/GitHub/superduperdb-stealth/venv/lib/python3.11/site-packages/pymongo/mongo_client.py:1758\u001b[0m, in \u001b[0;36mMongoClient._ensure_session\u001b[0;34m(self, session)\u001b[0m\n\u001b[1;32m   1753\u001b[0m     \u001b[39mreturn\u001b[39;00m session\n\u001b[1;32m   1755\u001b[0m \u001b[39mtry\u001b[39;00m:\n\u001b[1;32m   1756\u001b[0m     \u001b[39m# Don't make implicit sessions causally consistent. Applications\u001b[39;00m\n\u001b[1;32m   1757\u001b[0m     \u001b[39m# should always opt-in.\u001b[39;00m\n\u001b[0;32m-> 1758\u001b[0m     \u001b[39mreturn\u001b[39;00m \u001b[39mself\u001b[39;49m\u001b[39m.\u001b[39;49m__start_session(\u001b[39mTrue\u001b[39;49;00m, causal_consistency\u001b[39m=\u001b[39;49m\u001b[39mFalse\u001b[39;49;00m)\n\u001b[1;32m   1759\u001b[0m \u001b[39mexcept\u001b[39;00m (ConfigurationError, InvalidOperation):\n\u001b[1;32m   1760\u001b[0m     \u001b[39m# Sessions not supported.\u001b[39;00m\n\u001b[1;32m   1761\u001b[0m     \u001b[39mreturn\u001b[39;00m \u001b[39mNone\u001b[39;00m\n",
      "File \u001b[0;32m~/Documents/GitHub/superduperdb-stealth/venv/lib/python3.11/site-packages/pymongo/mongo_client.py:1703\u001b[0m, in \u001b[0;36mMongoClient.__start_session\u001b[0;34m(self, implicit, **kwargs)\u001b[0m\n\u001b[1;32m   1700\u001b[0m \u001b[39mdef\u001b[39;00m \u001b[39m__start_session\u001b[39m(\u001b[39mself\u001b[39m, implicit, \u001b[39m*\u001b[39m\u001b[39m*\u001b[39mkwargs):\n\u001b[1;32m   1701\u001b[0m     \u001b[39m# Raises ConfigurationError if sessions are not supported.\u001b[39;00m\n\u001b[1;32m   1702\u001b[0m     \u001b[39mif\u001b[39;00m implicit:\n\u001b[0;32m-> 1703\u001b[0m         \u001b[39mself\u001b[39;49m\u001b[39m.\u001b[39;49m_topology\u001b[39m.\u001b[39;49m_check_implicit_session_support()\n\u001b[1;32m   1704\u001b[0m         server_session \u001b[39m=\u001b[39m _EmptyServerSession()\n\u001b[1;32m   1705\u001b[0m     \u001b[39melse\u001b[39;00m:\n",
      "File \u001b[0;32m~/Documents/GitHub/superduperdb-stealth/venv/lib/python3.11/site-packages/pymongo/topology.py:538\u001b[0m, in \u001b[0;36mTopology._check_implicit_session_support\u001b[0;34m(self)\u001b[0m\n\u001b[1;32m    536\u001b[0m \u001b[39mdef\u001b[39;00m \u001b[39m_check_implicit_session_support\u001b[39m(\u001b[39mself\u001b[39m):\n\u001b[1;32m    537\u001b[0m     \u001b[39mwith\u001b[39;00m \u001b[39mself\u001b[39m\u001b[39m.\u001b[39m_lock:\n\u001b[0;32m--> 538\u001b[0m         \u001b[39mself\u001b[39;49m\u001b[39m.\u001b[39;49m_check_session_support()\n",
      "File \u001b[0;32m~/Documents/GitHub/superduperdb-stealth/venv/lib/python3.11/site-packages/pymongo/topology.py:554\u001b[0m, in \u001b[0;36mTopology._check_session_support\u001b[0;34m(self)\u001b[0m\n\u001b[1;32m    550\u001b[0m         \u001b[39mself\u001b[39m\u001b[39m.\u001b[39m_select_servers_loop(\n\u001b[1;32m    551\u001b[0m             any_server_selector, \u001b[39mself\u001b[39m\u001b[39m.\u001b[39mget_server_selection_timeout(), \u001b[39mNone\u001b[39;00m\n\u001b[1;32m    552\u001b[0m         )\n\u001b[1;32m    553\u001b[0m \u001b[39melif\u001b[39;00m \u001b[39mnot\u001b[39;00m \u001b[39mself\u001b[39m\u001b[39m.\u001b[39m_description\u001b[39m.\u001b[39mreadable_servers:\n\u001b[0;32m--> 554\u001b[0m     \u001b[39mself\u001b[39;49m\u001b[39m.\u001b[39;49m_select_servers_loop(\n\u001b[1;32m    555\u001b[0m         readable_server_selector, \u001b[39mself\u001b[39;49m\u001b[39m.\u001b[39;49mget_server_selection_timeout(), \u001b[39mNone\u001b[39;49;00m\n\u001b[1;32m    556\u001b[0m     )\n\u001b[1;32m    558\u001b[0m session_timeout \u001b[39m=\u001b[39m \u001b[39mself\u001b[39m\u001b[39m.\u001b[39m_description\u001b[39m.\u001b[39mlogical_session_timeout_minutes\n\u001b[1;32m    559\u001b[0m \u001b[39mif\u001b[39;00m session_timeout \u001b[39mis\u001b[39;00m \u001b[39mNone\u001b[39;00m:\n",
      "File \u001b[0;32m~/Documents/GitHub/superduperdb-stealth/venv/lib/python3.11/site-packages/pymongo/topology.py:238\u001b[0m, in \u001b[0;36mTopology._select_servers_loop\u001b[0;34m(self, selector, timeout, address)\u001b[0m\n\u001b[1;32m    235\u001b[0m \u001b[39mwhile\u001b[39;00m \u001b[39mnot\u001b[39;00m server_descriptions:\n\u001b[1;32m    236\u001b[0m     \u001b[39m# No suitable servers.\u001b[39;00m\n\u001b[1;32m    237\u001b[0m     \u001b[39mif\u001b[39;00m timeout \u001b[39m==\u001b[39m \u001b[39m0\u001b[39m \u001b[39mor\u001b[39;00m now \u001b[39m>\u001b[39m end_time:\n\u001b[0;32m--> 238\u001b[0m         \u001b[39mraise\u001b[39;00m ServerSelectionTimeoutError(\n\u001b[1;32m    239\u001b[0m             \u001b[39mf\u001b[39m\u001b[39m\"\u001b[39m\u001b[39m{\u001b[39;00m\u001b[39mself\u001b[39m\u001b[39m.\u001b[39m_error_message(selector)\u001b[39m}\u001b[39;00m\u001b[39m, Timeout: \u001b[39m\u001b[39m{\u001b[39;00mtimeout\u001b[39m}\u001b[39;00m\u001b[39ms, Topology Description: \u001b[39m\u001b[39m{\u001b[39;00m\u001b[39mself\u001b[39m\u001b[39m.\u001b[39mdescription\u001b[39m!r}\u001b[39;00m\u001b[39m\"\u001b[39m\n\u001b[1;32m    240\u001b[0m         )\n\u001b[1;32m    242\u001b[0m     \u001b[39mself\u001b[39m\u001b[39m.\u001b[39m_ensure_opened()\n\u001b[1;32m    243\u001b[0m     \u001b[39mself\u001b[39m\u001b[39m.\u001b[39m_request_check_all()\n",
      "\u001b[0;31mServerSelectionTimeoutError\u001b[0m: localhost:27018: [Errno 61] Connection refused, Timeout: 30s, Topology Description: <TopologyDescription id: 64beade7c471bb957f768a1a, topology_type: Unknown, servers: [<ServerDescription ('localhost', 27018) server_type: Unknown, rtt: None, error=AutoReconnect('localhost:27018: [Errno 61] Connection refused')>]>"
     ]
    }
   ],
   "source": [
    "from sklearn.linear_model import LogisticRegression\n",
    "from superduperdb.models.sklearn.wrapper import Estimator\n",
    "\n",
    "superduper_clf = Estimator(identifier='LR', object=LogisticRegression())\n",
    "\n",
    "\n",
    "superduper_clf.fit(\n",
    "    X='x',\n",
    "    y='y',\n",
    "    db=db,\n",
    "    select=Collection(name='iris').find(),\n",
    ")\n",
    "\n"
   ]
  },
  {
   "cell_type": "code",
   "execution_count": 14,
   "metadata": {},
   "outputs": [
    {
     "data": {
      "text/plain": [
       "0.9736842105263158"
      ]
     },
     "execution_count": 14,
     "metadata": {},
     "output_type": "execute_result"
    }
   ],
   "source": [
    "from sklearn.preprocessing import StandardScaler\n",
    "from sklearn.linear_model import LogisticRegression\n",
    "from sklearn.pipeline import make_pipeline\n",
    "from sklearn.datasets import load_iris\n",
    "from sklearn.model_selection import train_test_split\n",
    "from sklearn.metrics import accuracy_score\n",
    "# create a pipeline object\n",
    "pipe = make_pipeline(StandardScaler(),\n",
    "     LogisticRegression()\n",
    " )\n",
    "# load the iris dataset and split it into train and test sets\n",
    "X, y = load_iris(return_X_y=True)\n",
    "X_train, X_test, y_train, y_test = train_test_split(X, y, random_state=0)\n",
    "# fit the whole pipeline\n",
    "pipe.fit(X_train, y_train)\n",
    "# we can now use it like any other estimator\n",
    "accuracy_score(pipe.predict(X_test), y_test)"
   ]
  },
  {
   "cell_type": "code",
   "execution_count": null,
   "metadata": {},
   "outputs": [],
   "source": []
  }
 ],
 "metadata": {
  "kernelspec": {
   "display_name": "venv",
   "language": "python",
   "name": "python3"
  },
  "language_info": {
   "codemirror_mode": {
    "name": "ipython",
    "version": 3
   },
   "file_extension": ".py",
   "mimetype": "text/x-python",
   "name": "python",
   "nbconvert_exporter": "python",
   "pygments_lexer": "ipython3",
   "version": "3.11.3"
  },
  "orig_nbformat": 4
 },
 "nbformat": 4,
 "nbformat_minor": 2
}
