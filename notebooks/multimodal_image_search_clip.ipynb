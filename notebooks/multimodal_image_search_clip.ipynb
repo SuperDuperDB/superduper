{
 "cells": [
  {
   "cell_type": "markdown",
   "id": "238520e0",
   "metadata": {},
   "source": [
    "# Multimodal search with CLIP"
   ]
  },
  {
   "cell_type": "markdown",
   "id": "a3590f0e",
   "metadata": {},
   "source": [
    "In this notebook we show-case SuperDuperDB's functionality for searching with multiple types of data over\n",
    "the same `VectorIndex`. This comes out very naturally, due to the fact that SuperDuperDB allows\n",
    "users and developers to add arbitrary models to SuperDuperDB, and (assuming they output vectors) use\n",
    "these models at search/ inference time, to vectorize diverse queries.\n",
    "\n",
    "To this end, we'll be using the [CLIP multimodal architecture](https://openai.com/research/clip)."
   ]
  },
  {
   "cell_type": "code",
   "execution_count": 28,
   "id": "5ebe1497",
   "metadata": {},
   "outputs": [
    {
     "name": "stdout",
     "output_type": "stream",
     "text": [
      "Collecting https://github.com/openai/CLIP\n",
      "  Downloading https://github.com/openai/CLIP\n",
      "\u001b[2K     \u001b[32m\\\u001b[0m \u001b[32m267.6 kB\u001b[0m \u001b[31m2.2 MB/s\u001b[0m \u001b[33m0:00:00\u001b[0mm\n",
      "\u001b[?25h\u001b[31m  ERROR: Cannot unpack file /private/var/folders/5k/k58wnkmx6x1cdgy02s9v8hnr0000gn/T/pip-unpack-twbk50r0/CLIP (downloaded from /private/var/folders/5k/k58wnkmx6x1cdgy02s9v8hnr0000gn/T/pip-req-build-jagx0hdo, content-type: text/html; charset=utf-8); cannot detect archive format\u001b[0m\u001b[31m\n",
      "\u001b[0m\u001b[31mERROR: Cannot determine archive format of /private/var/folders/5k/k58wnkmx6x1cdgy02s9v8hnr0000gn/T/pip-req-build-jagx0hdo\u001b[0m\u001b[31m\n",
      "\u001b[0m"
     ]
    }
   ],
   "source": [
    "!pip install clip"
   ]
  },
  {
   "cell_type": "markdown",
   "id": "b2f94ae8",
   "metadata": {},
   "source": [
    "So let's start. \n",
    "\n",
    "SuperDuperDB supports MongoDB as a databackend. Correspondingly, we'll import the python MongoDB client `pymongo`\n",
    "and \"wrap\" our database to convert it to a SuperDuper `Datalayer`:"
   ]
  },
  {
   "cell_type": "code",
   "execution_count": 1,
   "id": "2b5ef986",
   "metadata": {},
   "outputs": [
    {
     "name": "stderr",
     "output_type": "stream",
     "text": [
      "INFO:numexpr.utils:Note: NumExpr detected 10 cores but \"NUMEXPR_MAX_THREADS\" not set, so enforcing safe limit of 8.\n",
      "INFO:numexpr.utils:NumExpr defaulting to 8 threads.\n"
     ]
    }
   ],
   "source": [
    "import clip\n",
    "import pymongo\n",
    "from superduperdb.misc.superduper import superduper\n",
    "from superduperdb.models.torch.wrapper import TorchModel\n",
    "from superduperdb.datalayer.mongodb.query import Collection\n",
    "from superduperdb.core.document import Document as D\n",
    "from superduperdb.encoders.pillow.image import pil_image as i\n",
    "from IPython.display import display\n",
    "\n",
    "pymongo.MongoClient().drop_database('documents')\n",
    "pymongo.MongoClient().drop_database('_filesystem:documents')\n",
    "\n",
    "db = pymongo.MongoClient().documents\n",
    "db = superduper(db)\n",
    "\n",
    "collection = Collection(name='tiny-imagenet')"
   ]
  },
  {
   "cell_type": "markdown",
   "id": "6cd6d6b0",
   "metadata": {},
   "source": [
    "In order to make this notebook easy to execute an play with, we'll use a sub-sample of the [Tiny-Imagenet\n",
    "dataset](https://paperswithcode.com/dataset/tiny-imagenet). \n",
    "\n",
    "Everything we are doing here generalizes to much larger datasets, with higher resolution images, without\n",
    "further ado. For such use-cases, however, it's advisable to use a machine with a GPU, otherwise they'll \n",
    "be some significant thumb twiddling to do."
   ]
  },
  {
   "cell_type": "markdown",
   "id": "d29386a5",
   "metadata": {},
   "source": [
    "To get the images into the database, we use the `Encoder`-`Document` framework. This allows\n",
    "us to save Python class instances as blobs in the `Datalayer`, but retrieve them as Python objects.\n",
    "This makes it far easier to integrate Python AI-models with the datalayer.\n",
    "\n",
    "To this end, SuperDuperDB contains pre-configured support for `PIL.Image` instances. It's also \n",
    "possible to create your own encoders."
   ]
  },
  {
   "cell_type": "code",
   "execution_count": 2,
   "id": "aaa0a06a",
   "metadata": {},
   "outputs": [
    {
     "name": "stderr",
     "output_type": "stream",
     "text": [
      "/Users/levkonstantinovskiy/Documents/GitHub/new/superduperdb-stealth/.venv/lib/python3.10/site-packages/tqdm/auto.py:21: TqdmWarning: IProgress not found. Please update jupyter and ipywidgets. See https://ipywidgets.readthedocs.io/en/stable/user_install.html\n",
      "  from .autonotebook import tqdm as notebook_tqdm\n"
     ]
    }
   ],
   "source": [
    "from superduperdb.encoders.pillow.image import pil_image as i\n",
    "from datasets import load_dataset\n",
    "import random\n",
    "\n",
    "dataset = load_dataset(\"zh-plus/tiny-imagenet\")['valid']\n",
    "dataset = [D({'image': i(r['image'])}) for r in dataset]\n",
    "dataset = random.sample(dataset, 1000)\n"
   ]
  },
  {
   "cell_type": "markdown",
   "id": "c9c7e282",
   "metadata": {},
   "source": [
    "The wrapped python dictionaries may be inserted directly to the `Datalayer`:"
   ]
  },
  {
   "cell_type": "code",
   "execution_count": 3,
   "id": "c32a91a5",
   "metadata": {
    "scrolled": false
   },
   "outputs": [
    {
     "name": "stderr",
     "output_type": "stream",
     "text": [
      "INFO:root:found 0 uris\n"
     ]
    },
    {
     "data": {
      "text/plain": [
       "(<pymongo.results.InsertManyResult at 0x2806f9240>,\n",
       " TaskWorkflow(database=<superduperdb.datalayer.base.datalayer.Datalayer object at 0x2801d9480>, G=<networkx.classes.digraph.DiGraph object at 0x2806f8940>))"
      ]
     },
     "execution_count": 3,
     "metadata": {},
     "output_type": "execute_result"
    }
   ],
   "source": [
    "db.execute(collection.insert_many(dataset, encoders=(i,)))"
   ]
  },
  {
   "cell_type": "markdown",
   "id": "10d37264",
   "metadata": {},
   "source": [
    "We can verify that the images are correctly stored:"
   ]
  },
  {
   "cell_type": "code",
   "execution_count": 4,
   "id": "7282a0fe",
   "metadata": {},
   "outputs": [
    {
     "data": {
      "image/jpeg": "[encoded data removed]",
      "image/png": "[encoded data removed]",
      "text/plain": [
       "<PIL.PngImagePlugin.PngImageFile image mode=RGB size=64x64>"
      ]
     },
     "execution_count": 4,
     "metadata": {},
     "output_type": "execute_result"
    }
   ],
   "source": [
    "x = db.execute(collection.find_one())['image'].x\n",
    "x"
   ]
  },
  {
   "cell_type": "markdown",
   "id": "dab27b50",
   "metadata": {},
   "source": [
    "We now can wrap the CLIP model, to ready it for multimodel search. It involves 2 components:\n",
    "\n",
    "- text-encoding\n",
    "- visual-encoding\n",
    "\n",
    "Once we have installed both parts, we will be able to search with both images and text for \n",
    "matching items:"
   ]
  },
  {
   "cell_type": "code",
   "execution_count": 5,
   "id": "916792d3",
   "metadata": {},
   "outputs": [],
   "source": [
    "from superduperdb.encoders.torch.tensor import tensor\n",
    "import torch\n",
    "\n",
    "t = tensor(torch.float, shape=(512,))\n",
    "\n",
    "model, preprocess = clip.load(\"ViT-B/32\", device='cpu')\n",
    "\n",
    "text_model = TorchModel(\n",
    "    identifier='clip_text',\n",
    "    object=model,\n",
    "    preprocess=lambda x: clip.tokenize(x)[0],\n",
    "    forward_method='encode_text',\n",
    "    encoder=t\n",
    ")"
   ]
  },
  {
   "cell_type": "markdown",
   "id": "6140d056",
   "metadata": {},
   "source": [
    "Let's verify this works:"
   ]
  },
  {
   "cell_type": "code",
   "execution_count": 6,
   "id": "5ae02683",
   "metadata": {},
   "outputs": [
    {
     "data": {
      "text/plain": [
       "tensor([ 1.5430e-01,  8.3420e-02, -8.6218e-02, -2.4812e-01, -9.0192e-02,\n",
       "        -1.7874e-01,  7.9648e-02, -1.4377e+00,  9.5242e-02,  2.9510e-01,\n",
       "         4.2067e-03,  2.5638e-01, -2.1602e-02,  1.5736e-02,  1.9318e-01,\n",
       "        -1.6119e-01,  3.6999e-01,  2.2594e-02, -5.7204e-02, -1.9817e-01,\n",
       "        -7.5303e-03, -3.2254e-01,  2.7348e-01, -3.5396e-01, -1.9037e-01,\n",
       "         1.0515e-01, -2.4183e-02,  1.0074e-01, -8.8070e-02,  2.6366e-02,\n",
       "        -2.7967e-01, -2.9460e-01,  2.1931e-02,  1.1821e-01,  8.7240e-02,\n",
       "         1.1945e-01, -6.0588e-04, -1.0101e-01, -1.0430e-01, -2.0626e-01,\n",
       "        -1.3790e-01, -3.9173e-02,  7.5542e-03,  1.3866e-01, -1.1169e-01,\n",
       "         1.1691e-01, -1.8521e-01,  2.9997e-02,  1.0280e-01,  1.1497e-01,\n",
       "        -1.0389e-01,  5.0075e-02,  3.1277e-01, -1.7357e-01,  4.6908e-02,\n",
       "        -9.6960e-02,  7.7737e-02,  4.9119e-03, -2.9044e-01, -3.6214e-02,\n",
       "         3.3161e-01,  4.0403e-02, -3.6718e-02,  3.3114e-02,  1.3841e-01,\n",
       "         1.1665e-01, -1.8533e-01,  1.4537e-01,  1.7915e-01,  6.0204e-02,\n",
       "         1.8797e-01, -4.3545e-02, -2.5758e-01,  2.5922e-01, -3.2504e-01,\n",
       "        -7.3699e-02, -1.3032e-01, -2.1270e-02, -9.7008e-02, -1.5535e-01,\n",
       "        -1.8003e-01, -2.3091e-01, -7.8064e-02,  2.2982e-01,  3.5198e-02,\n",
       "         2.6405e-01,  1.8695e-01, -2.9914e-01,  4.2317e-01, -2.0544e-03,\n",
       "         1.1283e-01, -1.5321e-02, -2.2041e+00,  3.1780e-01,  1.7714e-01,\n",
       "         1.4387e-01, -2.9229e-01,  7.1943e-02,  1.3914e-01, -2.8608e-01,\n",
       "         1.8457e-01, -1.0049e-01,  9.6526e-02,  2.8571e-01,  6.4735e-02,\n",
       "         2.3304e-02, -3.9703e-02, -7.9729e-02, -8.2036e-02,  2.5785e-02,\n",
       "         1.9965e-02,  4.4991e-01,  2.9948e-02, -1.7797e-02, -1.7955e-02,\n",
       "        -6.9631e-02,  2.1176e-01, -2.4720e-01, -2.2326e-01,  1.1205e-03,\n",
       "         1.1491e-01,  2.9441e-02, -1.3374e-01, -1.6872e-01,  1.1022e-01,\n",
       "        -1.3817e-01,  1.2030e-01,  3.4527e-01,  8.1909e-02,  2.3871e-01,\n",
       "         2.2229e-01, -1.8966e-01, -2.3539e-01,  8.6902e+00,  1.9549e-01,\n",
       "         2.1512e-01, -4.9882e-02, -1.1429e-01, -2.2483e-01,  9.4592e-02,\n",
       "        -7.6710e-02, -9.9087e-02, -6.9110e-02, -1.3233e-01, -3.2581e-01,\n",
       "         2.7050e-02, -2.4327e-01,  1.1758e-01, -1.4014e-01,  1.9817e-01,\n",
       "         8.2304e-02, -1.7757e-01, -3.3039e-02, -9.2580e-02,  2.0600e-01,\n",
       "        -1.3096e-01, -1.4063e-01,  8.7542e-02, -3.2586e-01,  1.9357e-01,\n",
       "        -2.0348e-01, -3.4610e-01, -7.7105e-02, -4.6517e-02, -2.5897e-01,\n",
       "         4.9247e-02,  2.1851e-01, -1.3462e-01,  8.5324e-02,  1.0842e-01,\n",
       "         1.2020e-01, -4.1831e-02,  9.5541e-02,  2.7892e-01, -2.4964e-01,\n",
       "         9.1717e-02, -1.4164e-01,  3.3394e-01,  1.2548e-01,  4.3229e-02,\n",
       "        -7.5975e-02,  1.6848e-01, -6.9535e-02,  1.2126e-01, -1.4141e-01,\n",
       "         1.1193e-01,  1.5343e-01, -9.1191e-03, -3.5644e-01, -4.9832e-02,\n",
       "         2.1788e-02, -2.5872e-01,  1.0919e-01,  2.7175e-03,  1.9120e-01,\n",
       "        -1.4926e-01,  3.6027e-02, -1.0323e-01, -2.1820e-01,  6.5567e-02,\n",
       "         3.0641e-02, -3.5111e-01, -1.7972e-01,  1.1709e-01, -1.1321e-01,\n",
       "        -1.9422e-01, -1.3823e-02, -1.1502e-01,  1.2422e-01,  2.2444e-02,\n",
       "         1.4535e-01,  1.8312e-01, -8.5593e-02, -2.4161e-01, -2.3021e-01,\n",
       "         9.0205e-02, -3.6267e-01, -7.6289e-02,  2.8521e-01,  6.8044e-02,\n",
       "        -1.6620e-02, -1.3670e-01, -5.1178e-02,  7.4036e-02, -9.4656e-02,\n",
       "        -2.9554e-03,  7.2100e-02, -1.3796e-02, -7.3376e-02,  1.3651e-03,\n",
       "         2.2423e-01,  2.5347e-01, -2.9496e-01,  1.7043e-02,  1.9483e-01,\n",
       "         4.0727e-02, -1.8151e-01,  6.8319e-02, -1.1627e-01,  1.3987e-01,\n",
       "        -1.2464e-01,  1.6415e-01,  1.1659e-01, -2.9262e-01, -1.3138e-01,\n",
       "         2.8386e-01,  1.3536e-02,  1.7892e-02,  1.2224e-01, -8.3474e-02,\n",
       "        -1.8547e-01,  1.3922e-01, -6.6026e-02,  1.8780e-01,  9.8016e-02,\n",
       "         2.2783e-01,  1.8879e-01, -1.1789e-01,  8.7847e-02,  9.5319e-02,\n",
       "        -1.3631e-01, -1.2319e-01, -5.0856e-02,  1.7521e-01, -8.8601e-03,\n",
       "        -2.1211e-01, -1.6603e-01, -9.1632e-02, -1.8940e-01,  1.2483e-01,\n",
       "        -3.4137e-01,  1.7253e-01, -4.0489e-03, -2.5830e-01,  3.4354e-01,\n",
       "         7.2385e-02,  6.4228e-02, -1.0345e-01,  8.1470e-02,  1.2823e-01,\n",
       "         3.0450e-01,  1.2547e-02,  9.2170e-02,  7.6265e-02,  1.9233e-01,\n",
       "         2.5052e-02,  1.6779e-01, -1.1386e-01, -1.2343e-01,  2.1583e-01,\n",
       "         5.1995e-02, -1.1094e-01, -1.3655e-01, -2.2206e-02, -4.0816e-02,\n",
       "        -1.5961e-01, -2.5930e-01, -3.9237e-02,  1.4823e-01,  1.7264e-01,\n",
       "        -1.0341e-01, -7.3078e-02,  5.3901e-03,  4.6488e-02, -5.2855e-02,\n",
       "         2.3029e-01,  1.3836e-01, -2.3104e-01,  5.1622e-02, -2.5691e-02,\n",
       "        -7.3428e-02, -2.0090e-01,  8.6826e+00, -1.3597e-02, -1.5189e-01,\n",
       "        -2.2824e-02,  1.5231e-01, -1.7320e-01, -6.9212e-02,  1.3925e-02,\n",
       "         3.7047e-01,  6.3549e-01, -1.1657e-01,  2.5321e-01, -3.9477e-01,\n",
       "         2.1688e-02,  4.9023e-02, -1.9004e-01,  1.0255e-01, -3.4117e+00,\n",
       "        -1.6341e-02,  1.7833e-01, -2.9481e-03,  2.0511e-01,  2.2708e-02,\n",
       "        -1.5878e-01,  4.0415e-01,  2.8988e-01,  1.8286e-01, -8.9413e-02,\n",
       "         1.9508e-01, -2.8454e-01, -3.6216e-01, -2.0818e-01,  1.3445e-01,\n",
       "         1.0488e-01,  1.0607e-01, -4.8979e-02,  3.1894e-01,  4.3418e-02,\n",
       "        -9.3010e-02, -1.1065e-01,  6.5195e-02,  1.7126e-01,  6.9784e-03,\n",
       "         4.1325e-01,  2.0223e-01,  1.0159e-01, -2.1637e-03,  1.3869e-01,\n",
       "        -2.3206e-01,  1.6523e-02,  4.7522e-01,  3.5994e-01, -4.1203e-01,\n",
       "        -3.4080e-02, -1.8557e-01,  2.1812e-01, -1.1671e-01, -1.9644e-01,\n",
       "         3.0313e-02,  7.6662e-02, -1.4767e-01,  3.0242e-01, -3.8838e-01,\n",
       "         1.2630e-01,  8.6338e-04, -2.1858e-01, -3.0865e-01, -8.5570e-02,\n",
       "         4.7794e-03, -1.4999e-01,  1.9752e-02,  1.9733e-01,  8.4233e-02,\n",
       "        -1.1645e-01, -1.5909e-01, -4.3136e-02, -1.8887e-03, -1.1042e-01,\n",
       "        -8.6980e-02, -2.1983e-01, -2.5740e-02,  6.9247e-02, -1.7009e-01,\n",
       "         2.6890e-01, -3.8613e-01, -2.2737e-01,  7.8148e-02, -4.8904e-02,\n",
       "        -1.5376e-01, -1.6890e-01,  9.6795e-02, -9.0670e-02, -1.9517e-02,\n",
       "         1.0524e-01,  1.8782e-01,  3.2855e-02,  1.2531e-01, -1.3895e-02,\n",
       "        -1.0850e-02,  7.8530e-02,  1.2075e-01,  1.0289e-01,  9.0531e-02,\n",
       "        -1.0503e-01, -1.5542e-02, -1.0592e-01, -5.9506e-02,  4.2483e-01,\n",
       "        -3.3485e-01, -1.1832e-01, -1.0529e-01,  1.4116e-01,  7.1300e-02,\n",
       "         2.0267e-01,  1.3006e-01, -4.7152e-02, -1.9340e-01,  9.9480e-02,\n",
       "         3.2894e-01, -1.5424e-01, -2.4012e-01, -1.7370e-01,  1.0893e-02,\n",
       "         3.6012e-03, -1.7056e-01, -4.7541e-02,  9.2827e-02, -1.1986e-01,\n",
       "         9.8332e-03,  1.3779e-02, -1.0578e-01, -1.5546e-04, -1.4863e-02,\n",
       "         8.7218e-02, -1.3129e-01, -1.6176e-01,  1.8377e-01, -3.2393e-01,\n",
       "        -6.3812e-02,  1.1426e-01, -3.7811e-01,  1.4901e-01,  1.6303e-01,\n",
       "        -8.0644e-02, -2.5430e-02,  1.3871e-01, -2.2643e-01, -9.5727e-02,\n",
       "        -3.8660e-02, -1.0742e-01, -2.5748e-01,  3.4333e-03,  1.8189e-01,\n",
       "        -4.2146e-02,  9.7471e-03,  4.0985e-02, -1.6121e-01,  1.8116e-01,\n",
       "         9.7045e-02,  1.7077e-01,  4.1108e-01, -3.9961e-01,  3.8703e-02,\n",
       "         8.6713e-02,  2.4180e-01,  1.3050e-01, -2.0577e-01,  2.3869e-01,\n",
       "         7.2552e-02, -9.9135e-01, -2.5906e-02,  3.1244e-01, -9.2438e-02,\n",
       "        -3.2326e-02,  2.2206e-01,  3.5055e-01,  2.9333e-01, -5.4146e-02,\n",
       "        -1.0362e-01,  2.1374e-02,  5.3769e-02, -1.9133e-01,  3.8761e-02,\n",
       "        -1.2608e-01,  2.3885e-01, -2.3160e-01,  3.1447e-01,  2.7911e-01,\n",
       "        -3.7621e-02, -2.3407e-01,  4.1730e-02,  5.6719e-02, -1.3127e-02,\n",
       "         1.8311e-01,  6.9706e-03,  1.2088e-01, -2.6926e-01, -4.1643e-02,\n",
       "         6.8666e-02,  3.4110e-01])"
      ]
     },
     "execution_count": 6,
     "metadata": {},
     "output_type": "execute_result"
    }
   ],
   "source": [
    "text_model.predict('this is a test', one=True)"
   ]
  },
  {
   "cell_type": "markdown",
   "id": "1cbb08cc",
   "metadata": {},
   "source": [
    "Similar procedure with the visual part, which takes `PIL.Image` instances as inputs."
   ]
  },
  {
   "cell_type": "code",
   "execution_count": 7,
   "id": "fc0f0cc2",
   "metadata": {},
   "outputs": [],
   "source": [
    "visual_model = TorchModel(\n",
    "    identifier='clip_image',\n",
    "    preprocess=preprocess,\n",
    "    object=model.visual,\n",
    "    encoder=t,\n",
    ")"
   ]
  },
  {
   "cell_type": "code",
   "execution_count": 8,
   "id": "9e3a7685",
   "metadata": {},
   "outputs": [
    {
     "data": {
      "text/plain": [
       "tensor([ 5.0432e-01, -1.5907e-01,  9.7146e-03, -4.7172e-01,  4.3478e-01,\n",
       "        -1.0347e-01,  1.3907e-01,  6.3227e-01, -4.7927e-01,  1.1399e-01,\n",
       "         5.7358e-02,  2.2731e-01,  3.2516e-01,  2.1612e-03, -1.9478e-01,\n",
       "         1.7268e-01,  1.3677e+00,  3.2640e-01, -3.5874e-01, -2.0117e-01,\n",
       "        -5.3092e-01, -2.0376e-01,  2.9068e-02,  2.5437e-02, -2.5692e-01,\n",
       "         1.6539e-02,  5.5167e-01, -3.2828e-01, -2.8651e-01,  1.6941e-01,\n",
       "         1.4726e-01, -2.1806e-02,  1.6441e-01,  1.5842e-01, -5.4851e-01,\n",
       "        -3.9851e-01, -1.6913e-01, -2.3354e-01, -7.4662e-01,  1.1205e-01,\n",
       "        -2.0345e-02, -3.5323e-01,  1.9752e-01,  2.3524e-02,  1.3068e-01,\n",
       "        -1.2470e+00,  3.4406e-01,  3.3007e-01,  2.3968e-01, -4.3294e-01,\n",
       "         6.2557e-01,  1.5064e-01,  8.4570e-02, -3.6648e-01, -1.6100e-01,\n",
       "         2.2264e-01, -4.3356e-01, -3.7708e-01,  2.1370e-01, -1.8381e-01,\n",
       "         8.5405e-01, -2.3901e-02,  3.1071e-01, -5.5707e-01, -1.5878e-01,\n",
       "        -4.0240e-01,  4.5885e-01,  2.5356e-01, -3.8355e-03,  3.5591e-02,\n",
       "        -4.3799e-02, -3.8154e-01, -3.1116e-01, -3.0879e-01, -2.4229e-01,\n",
       "        -7.1687e-02,  9.5695e-02, -1.2771e-01, -2.1504e-01, -5.0993e-01,\n",
       "        -1.5256e-01, -1.9096e-01,  2.6078e-01, -4.1567e-01,  1.9214e-01,\n",
       "         3.7243e-02, -1.8807e-01,  2.0307e-01, -8.3513e-01, -2.1469e-01,\n",
       "        -4.9698e-01,  1.1923e-02, -5.9973e+00,  6.1410e-02,  1.6123e-01,\n",
       "        -1.4780e-01, -3.5922e-01,  2.4231e-01,  2.0261e-01,  7.3573e-02,\n",
       "        -9.9302e-02, -9.9122e-01,  3.0719e-01,  3.4778e-01,  2.4542e-01,\n",
       "        -4.0214e-01, -1.7198e+00,  6.9924e-02, -2.5800e-03,  8.4387e-02,\n",
       "         2.5437e-01,  3.6854e-01, -2.8543e-01, -2.4750e-01, -8.0827e-02,\n",
       "         9.8398e-02,  8.6350e-02, -8.1905e-02,  7.7600e-02,  1.6367e-01,\n",
       "         3.8025e-02,  2.6987e-01,  1.6760e-01,  3.0506e-01,  6.7579e-02,\n",
       "         3.7993e-01, -2.7063e-02,  4.2488e-01, -1.5008e-01, -8.3484e-02,\n",
       "        -1.0050e-01, -5.2186e-01,  3.5386e-01,  8.3636e-01, -6.1825e-02,\n",
       "         1.6306e-01, -1.2775e-01, -1.2269e-02,  1.6208e-01,  6.2627e-01,\n",
       "         2.6901e-01,  1.7622e-01,  1.8207e-01, -2.3993e-01, -3.9701e-01,\n",
       "         8.2218e-02,  1.6563e-01, -3.8852e-01,  3.3907e-01,  7.8909e-02,\n",
       "         1.6870e-01, -7.0231e-01, -5.1166e-02, -2.5694e-01, -5.9182e-01,\n",
       "        -3.4992e-01, -9.5804e-02,  3.1504e-01,  2.7104e-01, -2.7712e-01,\n",
       "         1.9347e-01, -1.0374e-02,  3.5925e-01,  8.1137e-02,  2.8421e-01,\n",
       "        -2.9992e-01, -4.1293e-01, -2.9009e-01,  5.8934e-01, -1.2438e-01,\n",
       "         3.8733e-01, -3.6203e-01, -5.5316e-02, -1.5664e-01, -5.9596e-02,\n",
       "        -5.7703e-01,  1.9693e-01, -4.1044e-02,  7.8806e-01, -1.9148e-01,\n",
       "         2.5432e-01, -1.2628e-01,  3.4392e-01,  4.9289e-02, -3.3885e-01,\n",
       "         1.4285e-01,  3.9130e-01,  1.3362e-01, -5.8596e-01,  1.0338e-01,\n",
       "         1.5761e-01, -1.6190e-01, -3.6696e-01, -2.4644e-01,  5.8799e-01,\n",
       "         1.5249e-01, -9.2792e-02, -6.0488e-01,  6.8314e-02,  2.3612e-01,\n",
       "        -3.5337e-01, -3.8539e-01, -1.7958e-01,  1.7850e-01,  6.6582e-02,\n",
       "         4.8487e-01,  1.7137e-02,  2.2169e-01,  6.5828e-02, -9.7341e-02,\n",
       "         4.3926e-01,  4.1465e-02,  3.1576e-02, -2.1419e-01, -1.8017e-01,\n",
       "         7.2182e-02,  5.7737e-02, -3.9376e-01,  5.8662e-01,  6.6229e-01,\n",
       "         2.7090e-01, -2.6069e-01,  2.3534e-01,  2.0524e-01,  5.8956e-02,\n",
       "         3.7126e-01,  1.9787e-01, -1.2482e-01,  1.6402e-01,  1.1197e-01,\n",
       "         7.7756e-02, -1.2265e-01,  1.9161e-02,  4.3677e-01, -2.1392e-01,\n",
       "         3.4833e-01,  1.3760e-01, -4.5269e-01, -6.0821e-01, -1.5980e-01,\n",
       "        -3.5033e-01, -2.4187e-01, -1.4213e-01, -1.0183e-01,  2.7047e-01,\n",
       "        -4.2281e-01, -8.1806e-02,  4.2192e-01,  2.8930e-01,  2.7221e-01,\n",
       "         3.7578e-01,  1.0383e-01, -7.7749e-02, -1.3134e-01,  3.3842e-01,\n",
       "         4.8587e-01, -2.5608e-01, -3.9827e-01, -1.6977e-01, -1.9060e-01,\n",
       "         2.3645e-01,  1.4727e-01, -2.1373e-01, -5.7629e-01,  3.2273e-01,\n",
       "        -1.7327e-01, -1.8842e-01,  1.4069e-01,  8.0301e-02, -3.0428e-01,\n",
       "         6.5457e-02, -4.7255e-02, -1.8249e-01,  1.6677e-01, -1.5495e-02,\n",
       "        -1.5672e-01,  3.8031e-01, -2.9265e-02, -3.4648e-01,  2.8063e-01,\n",
       "        -4.7177e-01,  4.1590e-01, -1.8213e-01, -2.8607e-01, -1.3275e-01,\n",
       "        -3.4522e-01,  1.5499e+00,  2.8478e-01, -1.7605e-01, -9.0173e-02,\n",
       "         3.7519e-02,  6.9306e-03, -5.7857e-01,  1.3755e-01, -5.7294e-01,\n",
       "         1.8198e-01, -1.5403e-01, -3.8793e-01, -3.3730e-01,  5.2852e-01,\n",
       "        -5.1766e-02, -4.3786e-01,  1.3517e-01, -2.9349e-03, -6.3489e-01,\n",
       "        -6.7894e-01,  3.7114e-01,  2.4661e-01, -9.7823e-02, -6.8308e-02,\n",
       "         3.6753e-01, -6.1280e-02,  8.3468e-01, -1.7603e-01, -1.7427e-01,\n",
       "        -4.3050e-02,  2.0801e-01, -2.5067e-01, -2.8435e-01, -5.5592e-01,\n",
       "         1.5578e-01,  1.2994e+00,  9.2372e-02, -1.7177e-01,  2.7615e-01,\n",
       "         2.7296e-01, -1.1778e-01,  2.2877e-01,  5.0419e-02,  1.5579e-01,\n",
       "         4.8210e-01,  1.1609e-01, -4.2080e-02, -4.9418e-01, -3.3883e-01,\n",
       "        -3.5342e-01, -4.6937e-01, -2.8536e-01, -3.9358e-02, -2.2639e-01,\n",
       "         2.3731e-01,  5.1325e-01,  2.2876e-02,  6.3242e-02,  1.7831e-02,\n",
       "         3.6261e-01,  3.6161e-01,  3.2775e-01,  1.4721e-01,  1.3288e-01,\n",
       "         3.6442e-02, -3.7666e-01,  3.7576e-01, -1.5160e-01,  2.4776e-01,\n",
       "        -1.1204e-01, -3.1126e-01,  4.3399e-03,  3.0387e-01, -9.6126e-02,\n",
       "         6.2571e-01,  2.8284e-01,  1.3089e-01, -2.0763e-01, -9.4219e-01,\n",
       "        -8.8208e-02,  3.6050e-01,  1.6339e-01, -8.0024e-02, -5.6729e-02,\n",
       "        -1.0548e-01,  1.7237e-01,  2.1613e-01,  5.1901e-01,  3.1930e-01,\n",
       "        -3.5481e-01,  1.5005e-01,  2.4542e-01,  3.8185e-01,  3.1542e-01,\n",
       "         1.2322e-01, -9.4378e-02, -9.1594e-02,  2.8209e-01,  5.9117e-01,\n",
       "         3.2598e-02,  4.9047e-02,  1.6857e-01,  1.1825e-01, -2.3883e-01,\n",
       "        -1.1024e+00, -3.1440e-01,  2.8199e-01, -5.3398e-01, -5.0641e-01,\n",
       "        -8.7997e-02, -6.3226e-02, -3.4927e-01,  7.3089e-01, -1.1418e-01,\n",
       "        -3.6153e-01,  2.1881e-01,  9.2653e-01, -2.1879e-01,  1.4887e-01,\n",
       "        -2.9023e-01,  1.9780e-01,  4.9790e-01,  5.1415e-01, -2.1984e-01,\n",
       "         2.5305e-01, -7.0914e-01,  2.4189e-01,  9.4592e-01, -4.6301e-01,\n",
       "         5.2281e-01,  3.9059e-02,  2.3311e-01, -6.6433e-01, -2.0688e-01,\n",
       "         6.2225e-02,  2.9396e-01, -2.8299e-02,  1.8765e-01, -1.0737e-01,\n",
       "         4.8314e-01,  2.0589e-02, -6.1864e-01, -1.8324e+00,  2.4429e-01,\n",
       "         3.0669e-01, -1.4343e-01,  9.6287e-02, -2.8527e-02, -3.8411e-01,\n",
       "        -1.7227e-01,  1.9728e-01, -2.7421e-01,  3.8138e-02, -2.3800e-01,\n",
       "        -3.9507e-02,  6.1289e-01,  8.3717e-02,  4.3696e-01, -2.2671e-01,\n",
       "         5.0329e-01, -4.6975e-01,  3.0593e-01, -1.4843e-01, -1.6295e-01,\n",
       "         6.2861e-01, -3.6319e-01,  1.3617e-02, -4.6221e-01, -3.8179e-01,\n",
       "        -6.0818e-02,  6.9225e-02,  5.8718e-01,  1.9437e-01, -3.0190e-01,\n",
       "         1.4722e-01,  1.8452e-01,  3.2047e-01,  2.4789e-01,  3.6748e-01,\n",
       "         2.1425e-02,  9.4146e-01, -1.2780e-02, -2.5900e-02, -4.1162e-01,\n",
       "         3.9784e-02,  3.2256e-01,  5.6237e-01, -1.7447e-01, -9.1563e-02,\n",
       "        -2.9156e-01, -2.8241e-01,  1.7085e-01, -1.2850e-02, -2.2550e-01,\n",
       "        -1.1868e-01, -2.6233e-01, -1.8737e-01,  1.0335e-01,  1.2194e-01,\n",
       "         3.6542e-01,  5.1576e-01,  2.4335e-01,  9.7390e-03, -1.3793e-01,\n",
       "        -3.1178e-01, -1.5764e-02, -3.6107e-02, -1.4777e-01,  4.1802e-02,\n",
       "        -1.8676e-01,  6.8258e-02, -1.1205e-01, -8.0735e-02,  1.2357e-01,\n",
       "        -1.7112e-01, -3.3763e-01,  2.9021e-01,  1.7073e-02, -5.9950e-02,\n",
       "         4.7747e-03,  2.3218e-01,  3.7782e-01, -2.2565e-01,  6.5163e-01,\n",
       "        -2.6549e-03,  3.6467e-01])"
      ]
     },
     "execution_count": 8,
     "metadata": {},
     "output_type": "execute_result"
    }
   ],
   "source": [
    "visual_model.predict(x, one=True)"
   ]
  },
  {
   "cell_type": "markdown",
   "id": "b716bcb2",
   "metadata": {},
   "source": [
    "Now let's create the index for searching by vector. We register both models with the index simultaneously,\n",
    "but specifying that it's the `visual_model` which will be responsible for creating the vectors in the database\n",
    "(`indexing_watcher`). The `compatible_watcher` specifies how one can use an alternative model to search \n",
    "the vectors. By using models which expect different types of index, we can implement multimodal search\n",
    "without further ado."
   ]
  },
  {
   "cell_type": "code",
   "execution_count": 9,
   "id": "74f607e3",
   "metadata": {
    "scrolled": false
   },
   "outputs": [
    {
     "name": "stderr",
     "output_type": "stream",
     "text": [
      "WARNING:root:model/clip_image/0 already exists - doing nothing\n",
      "WARNING:root:model/clip_image/0 already exists - doing nothing\n",
      "WARNING:root:model/clip_image/0 already exists - doing nothing\n"
     ]
    },
    {
     "name": "stdout",
     "output_type": "stream",
     "text": [
      "Computing chunk 0/0\n"
     ]
    },
    {
     "name": "stderr",
     "output_type": "stream",
     "text": [
      "100%|██████████| 1000/1000 [00:37<00:00, 26.54it/s]\n",
      "WARNING:root:encoder/torch.float32[512]/0 already exists - doing nothing\n",
      "INFO:root:loading hashes: 'my-index'\n",
      "/Users/levkonstantinovskiy/Documents/GitHub/new/superduperdb-stealth/superduperdb/encoders/torch/tensor.py:25: UserWarning: The given NumPy array is not writable, and PyTorch does not support non-writable tensors. This means writing to this tensor will result in undefined behavior. You may want to copy the array to protect its data or make it writable before converting it to a tensor. This type of warning will be suppressed for the rest of this program. (Triggered internally at /Users/runner/work/pytorch/pytorch/pytorch/torch/csrc/utils/tensor_numpy.cpp:212.)\n",
      "  return torch.from_numpy(array)\n"
     ]
    },
    {
     "data": {
      "text/plain": [
       "[]"
      ]
     },
     "execution_count": 9,
     "metadata": {},
     "output_type": "execute_result"
    }
   ],
   "source": [
    "from superduperdb.core.vector_index import VectorIndex\n",
    "from superduperdb.core.watcher import Watcher\n",
    "\n",
    "db.add(\n",
    "    VectorIndex(\n",
    "        'my-index',\n",
    "        indexing_watcher=Watcher(\n",
    "            model=visual_model,\n",
    "            key='image',\n",
    "            select=collection.find(),\n",
    "        ),\n",
    "        compatible_watcher=Watcher(\n",
    "            model=text_model,\n",
    "            key='text',\n",
    "            active=False,\n",
    "        )\n",
    "    )\n",
    ")"
   ]
  },
  {
   "cell_type": "markdown",
   "id": "18971a6d",
   "metadata": {},
   "source": [
    "We can now demonstrate searching by text for images:"
   ]
  },
  {
   "cell_type": "code",
   "execution_count": 10,
   "id": "ab994b5e",
   "metadata": {},
   "outputs": [
    {
     "name": "stderr",
     "output_type": "stream",
     "text": [
      "INFO:root:loading hashes: 'my-index'\n"
     ]
    },
    {
     "data": {
      "image/jpeg": "[encoded data removed]",
      "image/png": "[encoded data removed]",
      "text/plain": [
       "<PIL.PngImagePlugin.PngImageFile image mode=RGB size=64x64>"
      ]
     },
     "metadata": {},
     "output_type": "display_data"
    },
    {
     "data": {
      "image/jpeg": "[encoded data removed]",
      "image/png": "[encoded data removed]",
      "text/plain": [
       "<PIL.PngImagePlugin.PngImageFile image mode=RGB size=64x64>"
      ]
     },
     "metadata": {},
     "output_type": "display_data"
    },
    {
     "data": {
      "image/jpeg": "[encoded data removed]",
      "image/png": "[encoded data removed]",
      "text/plain": [
       "<PIL.PngImagePlugin.PngImageFile image mode=RGB size=64x64>"
      ]
     },
     "metadata": {},
     "output_type": "display_data"
    }
   ],
   "source": [
    "out = db.execute(\n",
    "    collection.like(D({'text': 'mushroom'}), vector_index='my-index', n=3).find({})\n",
    ")\n",
    "for r in out:\n",
    "    display(r['image'].x)"
   ]
  },
  {
   "cell_type": "code",
   "execution_count": 35,
   "id": "d4b9424a",
   "metadata": {},
   "outputs": [],
   "source": [
    "\n",
    "def _extract(out):\n",
    "    return [(row['image'].x) for row in out]\n",
    "    \n",
    "def find_image_vectors(query):\n",
    "    code = (\n",
    "    f\"\"\"\n",
    "    import clip \n",
    "    import pymongo\n",
    "    \n",
    "    from superduperdb.misc.superduper import superduper\n",
    "    from superduperdb.datalayer.mongodb.query import Collection\n",
    "    from superduperdb.core.document import Document as D\n",
    "    \n",
    "\n",
    "    db = pymongo.MongoClient().documents\n",
    "    db = superduper(db)\n",
    "\n",
    "    collection = Collection(name='tiny-imagenet')\n",
    "\n",
    "    cursor = db.execute(collection.like(D({{'text': '{query}'}}), vector_index='{'my-index'}', n=20).find({{}})\n",
    "    \n",
    "\n",
    "    \"\"\"\n",
    " )\n",
    "    return (_extract(db.execute(collection.like(D({'text': query}), vector_index='my-index', n=20).find({}))), code)\n",
    "\n"
   ]
  },
  {
   "cell_type": "code",
   "execution_count": 36,
   "id": "8af868e6",
   "metadata": {},
   "outputs": [
    {
     "name": "stderr",
     "output_type": "stream",
     "text": [
      "/var/folders/5k/k58wnkmx6x1cdgy02s9v8hnr0000gn/T/ipykernel_22176/3651704769.py:13: GradioDeprecationWarning: The `style` method is deprecated. Please set these arguments in the constructor instead.\n",
      "  openai_gallery = gr.Gallery(\n"
     ]
    },
    {
     "name": "stdout",
     "output_type": "stream",
     "text": [
      "Running on local URL:  http://127.0.0.1:7888\n",
      "\n",
      "To create a public link, set `share=True` in `launch()`.\n"
     ]
    },
    {
     "data": {
      "text/html": [
       "<div><iframe src=\"http://127.0.0.1:7888/\" width=\"100%\" height=\"500\" allow=\"autoplay; camera; microphone; clipboard-read; clipboard-write;\" frameborder=\"0\" allowfullscreen></iframe></div>"
      ],
      "text/plain": [
       "<IPython.core.display.HTML object>"
      ]
     },
     "metadata": {},
     "output_type": "display_data"
    },
    {
     "data": {
      "text/plain": []
     },
     "execution_count": 36,
     "metadata": {},
     "output_type": "execute_result"
    }
   ],
   "source": [
    "import gradio as gr\n",
    "\n",
    "\n",
    "with gr.Blocks() as demo:\n",
    "    with gr.Row():\n",
    "        with gr.Tab(\"Multi-modal search\"):\n",
    "            vector_query = gr.Textbox(value=\"mushroom\", show_label=False)\n",
    "            b2 = gr.Button(\"Submit\")\n",
    "    with gr.Row():\n",
    "        code = gr.Code(label=\"Code\", language=\"python\")\n",
    "    with gr.Row():\n",
    "        \n",
    "        openai_gallery = gr.Gallery(\n",
    "                label=\"Similar images from CLIP\", show_label=True, elem_id=\"gallery\"\n",
    "            ).style(columns=[6], rows=[3], object_fit=\"contain\", height=\"auto\")\n",
    "\n",
    "        \n",
    "    b2.click(find_image_vectors, inputs=vector_query, outputs=[openai_gallery,  code])\n",
    "    \n",
    "demo.launch()"
   ]
  },
  {
   "cell_type": "code",
   "execution_count": null,
   "id": "6cb0d514",
   "metadata": {},
   "outputs": [],
   "source": []
  },
  {
   "cell_type": "code",
   "execution_count": null,
   "id": "ba866f0e",
   "metadata": {},
   "outputs": [],
   "source": []
  }
 ],
 "metadata": {
  "kernelspec": {
   "display_name": "Python 3 (ipykernel)",
   "language": "python",
   "name": "python3"
  },
  "language_info": {
   "codemirror_mode": {
    "name": "ipython",
    "version": 3
   },
   "file_extension": ".py",
   "mimetype": "text/x-python",
   "name": "python",
   "nbconvert_exporter": "python",
   "pygments_lexer": "ipython3",
   "version": "3.11.3"
  }
 },
 "nbformat": 4,
 "nbformat_minor": 5
}
