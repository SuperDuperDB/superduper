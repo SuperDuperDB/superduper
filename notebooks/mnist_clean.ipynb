{
 "cells": [
  {
   "cell_type": "code",
   "execution_count": 2,
   "id": "5febafeb",
   "metadata": {},
   "outputs": [],
   "source": [
    "import pymongo\n",
    "import torch\n",
    "import torchvision\n",
    "\n",
    "from superduperdb import superduper"
   ]
  },
  {
   "cell_type": "code",
   "execution_count": 3,
   "id": "cfb425e1",
   "metadata": {},
   "outputs": [],
   "source": [
    "class LeNet5(torch.nn.Module):\n",
    "    def __init__(self, num_classes):\n",
    "        super().__init__()\n",
    "        self.layer1 = torch.nn.Sequential(\n",
    "            torch.nn.Conv2d(1, 6, kernel_size=5, stride=1, padding=0),\n",
    "            torch.nn.BatchNorm2d(6),\n",
    "            torch.nn.ReLU(),\n",
    "            torch.nn.MaxPool2d(kernel_size=2, stride=2))\n",
    "        self.layer2 = torch.nn.Sequential(\n",
    "            torch.nn.Conv2d(6, 16, kernel_size=5, stride=1, padding=0),\n",
    "            torch.nn.BatchNorm2d(16),\n",
    "            torch.nn.ReLU(),\n",
    "            torch.nn.MaxPool2d(kernel_size=2, stride=2))\n",
    "        self.fc = torch.nn.Linear(400, 120)\n",
    "        self.relu = torch.nn.ReLU()\n",
    "        self.fc1 = torch.nn.Linear(120, 84)\n",
    "        self.relu1 = torch.nn.ReLU()\n",
    "        self.fc2 = torch.nn.Linear(84, num_classes)\n",
    "\n",
    "    def preprocess(self, x):\n",
    "        return torchvision.transforms.Compose([\n",
    "            torchvision.transforms.Resize((32, 32)),\n",
    "            torchvision.transforms.ToTensor(),\n",
    "            torchvision.transforms.Normalize(mean=(0.1307,), std=(0.3081,))]\n",
    "        )(x)\n",
    "\n",
    "    def forward(self, x):\n",
    "        out = self.layer1(x)\n",
    "        out = self.layer2(out)\n",
    "        out = out.reshape(out.size(0), -1)\n",
    "        out = self.fc(out)\n",
    "        out = self.relu(out)\n",
    "        out = self.fc1(out)\n",
    "        out = self.relu1(out)\n",
    "        out = self.fc2(out)\n",
    "        return out\n",
    "\n",
    "    def postprocess(self, x):\n",
    "        return int(x.topk(1)[1].item())\n",
    "    \n",
    "model = LeNet5(10)"
   ]
  },
  {
   "cell_type": "code",
   "execution_count": 4,
   "id": "56787a42",
   "metadata": {},
   "outputs": [],
   "source": [
    "db = pymongo.MongoClient().my_db"
   ]
  },
  {
   "cell_type": "code",
   "execution_count": 5,
   "id": "9ef642cc",
   "metadata": {},
   "outputs": [
    {
     "name": "stderr",
     "output_type": "stream",
     "text": [
      "INFO:faiss.loader:Loading faiss.\n",
      "INFO:faiss.loader:Successfully loaded faiss.\n"
     ]
    }
   ],
   "source": [
    "db = superduper(db)"
   ]
  },
  {
   "cell_type": "code",
   "execution_count": 6,
   "id": "3d2629d2",
   "metadata": {},
   "outputs": [
    {
     "name": "stdout",
     "output_type": "stream",
     "text": [
      "Stripping sub-components to references\n"
     ]
    },
    {
     "name": "stderr",
     "output_type": "stream",
     "text": [
      "INFO:root:Created type/pil_image/0\n",
      "INFO:root:found 0 uris\n",
      "INFO:root:found 0 uris\n"
     ]
    },
    {
     "data": {
      "text/plain": [
       "(<pymongo.results.InsertManyResult at 0x1668b4c10>,\n",
       " TaskWorkflow(database=<superduperdb.datalayer.base.database.BaseDatabase object at 0x16961b640>, G=<networkx.classes.digraph.DiGraph object at 0x1668b4580>))"
      ]
     },
     "execution_count": 6,
     "metadata": {},
     "output_type": "execute_result"
    }
   ],
   "source": [
    "from superduperdb.types.pillow.image import pil_image as i\n",
    "from superduperdb.core.documents import Document as D\n",
    "from superduperdb.queries.mongodb.queries import Collection\n",
    "\n",
    "import random\n",
    "\n",
    "mnist_data = list(torchvision.datasets.MNIST(root='./data', download=True))\n",
    "data = [D({'img': i(x[0]), 'class': x[1]}) for x in mnist_data]\n",
    "random.shuffle(data)\n",
    "\n",
    "db.execute(Collection(name='mnist').insert_many(data[:-1000], encoders=[i]))"
   ]
  },
  {
   "cell_type": "code",
   "execution_count": 19,
   "id": "36919db3",
   "metadata": {
    "scrolled": false
   },
   "outputs": [
    {
     "data": {
      "image/png": "[encoded data removed]",
      "text/plain": [
       "<PIL.PngImagePlugin.PngImageFile image mode=L size=28x28>"
      ]
     },
     "execution_count": 19,
     "metadata": {},
     "output_type": "execute_result"
    }
   ],
   "source": [
    "r = db.execute(\n",
    "    Collection(name='mnist').find_one()\n",
    ")\n",
    "\n",
    "r['img'].x"
   ]
  },
  {
   "cell_type": "code",
   "execution_count": 20,
   "id": "f8d89e0d",
   "metadata": {},
   "outputs": [
    {
     "data": {
      "text/plain": [
       "{'_id': ObjectId('649ec8aafea5ef9291213e2c'),\n",
       " 'img': {'_content': {'bytes': b\"\\x89PNG\\r\\n\\x1a\\n\\x00\\x00\\x00\\rIHDR\\x00\\x00\\x00\\x1c\\x00\\x00\\x00\\x1c\\x08\\x00\\x00\\x00\\x00Wf\\x80H\\x00\\x00\\x01'IDATx\\x9cc`\\xa05\\xe8\\xf8\\xfb7\\x10\\x87\\x14\\xab\\xd9\\xe3/\\xb5\\\\\\xd8\\xe5\\xd8\\xda\\xff\\xecs\\xc0ef\\xd9\\x9f\\x8f\\x06\\xb8\\xe4\\xf4\\x1f\\xfeY\\x8cK\\x8ee\\xfd\\x9f\\xeb\\x82X\\x84\\x19\\x18\\x18\\x18\\x188}\\x19&\\xbf\\x87\\xb8+\\x80\\x81\\x81a\\xff\\x1bd%\\xa5\\x7f\\xd6\\xf3@X\\xd6\\x7f\\xfe\\xfc\\xf9\\xf3p#\\x1f\\x92\\xe4\\xa7?\\t\\x10\\x86\\xe9\\xa7O\\xfd\\xfd+\\xff\\xfcy\\xe1\\x89\\x90\\xfc\\x0b\\x93\\xac\\xfca\\xc7\\xc0\\xc0\\xcc=\\xf5\\xcfwW\\xb8\\xe4\\xff\\xbfP\\xc9Oo!\\xf4\\xb4?\\xfb\\x18\\x18\\x18\\x98\\x18\\x18\\x18\\x18\\x18\\xfe\\xfd\\x87\\xaa\\xfar\\x11B\\x97\\xbc>\\n\\x97\\x84\\x83\\xc9\\xc6\\x0c\\x0c\\x0c\\x0c\\x0c\\xbc\\xcbX\\xb7\\xc0%\\xd73\\xc8\\t@d\\x99E\\x19\\x18\\x18\\xf8\\x16*\\xf9\\x9f\\x84k\\xd0y\\xf4g\\xab\\x1e\\x03\\x03\\x03C\\xe5\\xdf\\x0eN[\\xdb\\xb5\\x8bPb@o\\xdf\\x9fw\\x07gxz\\xce\\xfb\\xfb\\xed\\xe4\\xbb-\\x13yP-cw_\\xfe\\xe2\\xcf\\x9f?\\x7f\\xfe\\xfe\\xf9\\x93\\xc5\\xc0\\xc0\\xc0\\xe0\\x9b\\x86*/\\xed\\x93\\xa7\\xa2\\xa2y\\xf9\\xcfY/\\x06\\x86\\x90#\\x12\\x0cX\\x00\\xdf\\xd2?\\xdf\\x9f>=/\\x89M\\x8e\\x81\\x81=\\xe6\\xd6\\x9fYX\\xf5\\r<\\x00\\x00>\\x9df\\x002H\\xdf\\xa5\\x00\\x00\\x00\\x00IEND\\xaeB`\\x82\",\n",
       "   'type': 'pil_image'}},\n",
       " 'class': 6,\n",
       " '_fold': 'train'}"
      ]
     },
     "execution_count": 20,
     "metadata": {},
     "output_type": "execute_result"
    }
   ],
   "source": [
    "r.encode()"
   ]
  },
  {
   "cell_type": "code",
   "execution_count": 11,
   "id": "d47855b8",
   "metadata": {},
   "outputs": [],
   "source": [
    "model = superduper(model)"
   ]
  },
  {
   "cell_type": "code",
   "execution_count": 18,
   "id": "61e51ccb",
   "metadata": {},
   "outputs": [],
   "source": [
    "from superduperdb.models.torch import TorchTrainerConfiguration\n",
    "\n",
    "training_configuration = TorchTrainerConfiguration(\n",
    "    identifier='train_config',\n",
    "    objective=torch.nn.functional.cross_entropy,\n",
    "    max_iterations=1000,\n",
    "    loader_kwargs=dict(\n",
    "        batch_size=50,\n",
    "        num_workers=0,\n",
    "    )\n",
    ")"
   ]
  },
  {
   "cell_type": "code",
   "execution_count": null,
   "id": "f0e53249",
   "metadata": {},
   "outputs": [],
   "source": [
    "jobs = db.add(\n",
    "    Watcher(\n",
    "        model=model,\n",
    "        key='img',\n",
    "        depends_on=model.fit(\n",
    "            X='img',\n",
    "            y='class',\n",
    "            database=db,\n",
    "            select=Collection('mnist').find(),\n",
    "        )\n",
    "    )\n",
    ")"
   ]
  },
  {
   "cell_type": "code",
   "execution_count": null,
   "id": "b5fc6e24",
   "metadata": {},
   "outputs": [],
   "source": [
    "jobs[0].watch()"
   ]
  },
  {
   "cell_type": "code",
   "execution_count": null,
   "id": "76f7903f",
   "metadata": {},
   "outputs": [],
   "source": [
    "from matplotlib import pyplot as plt\n",
    "\n",
    "model = db.load('model', model.identifier)\n",
    "\n",
    "plt.plot(model.metric_values['acc'])\n",
    "plt.show()"
   ]
  },
  {
   "cell_type": "code",
   "execution_count": null,
   "id": "ce236dcd",
   "metadata": {},
   "outputs": [],
   "source": [
    "jobs[1].watch()"
   ]
  },
  {
   "cell_type": "code",
   "execution_count": null,
   "id": "c1aa56d0",
   "metadata": {},
   "outputs": [],
   "source": [
    "for r in data[-1000:]:\n",
    "    r['update'] = True\n",
    "\n",
    "db.execute(Collection('docs').insert_many(data[-1000:]))"
   ]
  },
  {
   "cell_type": "code",
   "execution_count": null,
   "id": "72d4528f",
   "metadata": {},
   "outputs": [],
   "source": [
    "db.execute(Collection('docs').find_one({'update': True}))"
   ]
  }
 ],
 "metadata": {
  "kernelspec": {
   "display_name": "Python 3 (ipykernel)",
   "language": "python",
   "name": "python3"
  },
  "language_info": {
   "codemirror_mode": {
    "name": "ipython",
    "version": 3
   },
   "file_extension": ".py",
   "mimetype": "text/x-python",
   "name": "python",
   "nbconvert_exporter": "python",
   "pygments_lexer": "ipython3",
   "version": "3.8.16"
  }
 },
 "nbformat": 4,
 "nbformat_minor": 5
}
