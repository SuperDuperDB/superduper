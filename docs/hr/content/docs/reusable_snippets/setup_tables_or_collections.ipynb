{
 "cells": [
  {
   "cell_type": "markdown",
   "metadata": {},
   "source": [
    "<!-- TABS -->\n",
    "# Setup tables or collections"
   ]
  },
  {
   "cell_type": "code",
   "execution_count": null,
   "metadata": {},
   "outputs": [],
   "source": [
    "# <tab: MongoDB>\n",
    "# Note this is an optional step for MongoDB\n",
    "# Users can also work directly with `DataType` if they want to add\n",
    "# custom data\n",
    "from superduperdb import Schema\n",
    "\n",
    "schema = None\n",
    "if isinstance(datatype, DataType):\n",
    "    schema = Schema(fields={'x': datatype})\n",
    "    db.add(schema)"
   ]
  },
  {
   "cell_type": "code",
   "execution_count": null,
   "metadata": {},
   "outputs": [],
   "source": [
    "# <tab: SQL>\n",
    "from superduperdb.backends.ibis import Table\n",
    "from superduperdb.backends.ibis.field_types import FieldType\n",
    "\n",
    "if isinstance(datatype, DataType):\n",
    "    schema = Schema(fields={'x': datatype})\n",
    "else:\n",
    "    schema = Schema(fields={'x': FieldType(datatype)})\n",
    "db.add(Table('documents', schema=schema))"
   ]
  }
 ],
 "metadata": {
  "language_info": {
   "name": "python"
  }
 },
 "nbformat": 4,
 "nbformat_minor": 2
}
