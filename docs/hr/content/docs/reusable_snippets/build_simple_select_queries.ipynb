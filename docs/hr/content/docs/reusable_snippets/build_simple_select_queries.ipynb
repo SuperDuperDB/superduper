{
 "cells": [
  {
   "cell_type": "markdown",
   "metadata": {},
   "source": [
    "<!-- TABS -->\n",
    "# Build simple select queries"
   ]
  },
  {
   "cell_type": "code",
   "execution_count": null,
   "metadata": {},
   "outputs": [],
   "source": [
    "# <tab: MongoDB>\n",
    "\n",
    "from superduperdb.backends.mongodb import Collection\n",
    "\n",
    "select = collection.find({})"
   ]
  },
  {
   "cell_type": "code",
   "execution_count": null,
   "metadata": {},
   "outputs": [],
   "source": [
    "# <tab: Ibis>\n",
    "\n",
    "select = table"
   ]
  }
 ],
 "metadata": {
  "language_info": {
   "name": "python"
  }
 },
 "nbformat": 4,
 "nbformat_minor": 2
}
