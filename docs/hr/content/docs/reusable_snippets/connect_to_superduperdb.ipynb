{
 "cells": [
  {
   "cell_type": "markdown",
   "id": "32f8484d-2e35-472a-9b24-1a30ec1d144b",
   "metadata": {},
   "source": [
    "<!-- TABS -->\n",
    "# Connect to SuperDuperDB"
   ]
  },
  {
   "cell_type": "code",
   "execution_count": null,
   "id": "61976f44-8139-41c0-a73e-569c6d16c4b1",
   "metadata": {},
   "outputs": [],
   "source": [
    "# <tab: MongoDB>\n",
    "from superduperdb import superduper\n",
    "\n",
    "db = superduper('mongodb://localhost:27017/documents')"
   ]
  },
  {
   "cell_type": "code",
   "execution_count": 4,
   "id": "e981a457",
   "metadata": {},
   "outputs": [
    {
     "name": "stdout",
     "output_type": "stream",
     "text": [
      "\u001b[32m 2024-Apr-04 15:42:21.09\u001b[0m| \u001b[1mINFO    \u001b[0m | \u001b[36mkartiks-MacBook-Air.local\u001b[0m| \u001b[36msuperduperdb.base.build\u001b[0m:\u001b[36m65  \u001b[0m | \u001b[1mData Client is ready. <ibis.backends.sqlite.Backend object at 0x16722e4d0>\u001b[0m\n",
      "\u001b[32m 2024-Apr-04 15:42:21.09\u001b[0m| \u001b[1mINFO    \u001b[0m | \u001b[36mkartiks-MacBook-Air.local\u001b[0m| \u001b[36msuperduperdb.base.build\u001b[0m:\u001b[36m38  \u001b[0m | \u001b[1mConnecting to Metadata Client with engine:  <ibis.backends.sqlite.Backend object at 0x16722e4d0>\u001b[0m\n",
      "\u001b[32m 2024-Apr-04 15:42:21.10\u001b[0m| \u001b[1mINFO    \u001b[0m | \u001b[36mkartiks-MacBook-Air.local\u001b[0m| \u001b[36msuperduperdb.base.build\u001b[0m:\u001b[36m148 \u001b[0m | \u001b[1mConnecting to compute client: None\u001b[0m\n",
      "\u001b[32m 2024-Apr-04 15:42:21.10\u001b[0m| \u001b[1mINFO    \u001b[0m | \u001b[36mkartiks-MacBook-Air.local\u001b[0m| \u001b[36msuperduperdb.base.datalayer\u001b[0m:\u001b[36m89  \u001b[0m | \u001b[1mBuilding Data Layer\u001b[0m\n"
     ]
    }
   ],
   "source": [
    "# <tab: SQLite>\n",
    "from superduperdb import superduper\n",
    "\n",
    "db = superduper('sqlite://my_db.db')"
   ]
  },
  {
   "cell_type": "code",
   "execution_count": null,
   "id": "19ecf7c0-b730-4503-9b5d-e97697b3bcee",
   "metadata": {},
   "outputs": [],
   "source": [
    "# <tab: MySQL>\n",
    "from superduperdb import superduper\n",
    "\n",
    "user = 'superduper'\n",
    "password = 'superduper'\n",
    "port = 3306\n",
    "host = 'localhost'\n",
    "database = 'test_db'\n",
    "\n",
    "db = superduper(f\"mysql://{user}:{password}@{host}:{port}/{database}\")"
   ]
  },
  {
   "cell_type": "code",
   "execution_count": null,
   "id": "df208e8c-4fd0-438f-af29-22a763a2aebd",
   "metadata": {},
   "outputs": [],
   "source": [
    "# <tab: Oracle>\n",
    "from superduperdb import superduper\n",
    "\n",
    "user = 'sa'\n",
    "password = 'Superduper#1'\n",
    "port = 1433\n",
    "host = 'localhost'\n",
    "\n",
    "db = superduper(f\"mssql://{user}:{password}@{host}:{port}\")"
   ]
  },
  {
   "cell_type": "code",
   "execution_count": null,
   "id": "d2297295",
   "metadata": {},
   "outputs": [],
   "source": [
    "# <tab: PostgreSQL>\n",
    "from superduperdb import superduper\n",
    "\n",
    "user = 'superduper'\n",
    "password = 'superduper'\n",
    "port = 5432\n",
    "host = 'localhost'\n",
    "database = 'test_db'\n",
    "\n",
    "db = superduper(f\"postgres://{user}:{password}@{host}:{port}/{database}\")"
   ]
  },
  {
   "cell_type": "code",
   "execution_count": null,
   "id": "cc6c8517",
   "metadata": {},
   "outputs": [],
   "source": [
    "# <tab: Snowflake>\n",
    "from superduperdb import superduper\n",
    "\n",
    "user = \"superduperuser\"\n",
    "password = \"superduperpassword\"\n",
    "account = \"XXXX-XXXX\"  # ORGANIZATIONID-USERID\n",
    "database = \"FREE_COMPANY_DATASET/PUBLIC\"\n",
    "\n",
    "snowflake_uri = f\"snowflake://{user}:{password}@{account}/{database}\"\n",
    "\n",
    "db = superduper(\n",
    "    snowflake_uri, \n",
    "    metadata_store='sqlite:///your_database_name.db',\n",
    ")"
   ]
  },
  {
   "cell_type": "code",
   "execution_count": null,
   "id": "05da45e3-d9e4-49ca-b9ee-db1b8bf4eb44",
   "metadata": {},
   "outputs": [],
   "source": [
    "# <tab: Clickhouse>\n",
    "from superduperdb import superduper\n",
    "\n",
    "user = 'default'\n",
    "password = ''\n",
    "port = 8123\n",
    "host = 'localhost'\n",
    "\n",
    "db = superduper(f\"clickhouse://{user}:{password}@{host}:{port}\", metadata_store=f'mongomock://meta')"
   ]
  },
  {
   "cell_type": "code",
   "execution_count": 1,
   "id": "0e89c8dd-d845-423a-9acc-97e3360d370c",
   "metadata": {},
   "outputs": [
    {
     "name": "stdout",
     "output_type": "stream",
     "text": [
      "\u001b[32m 2024-Apr-04 15:41:40.90\u001b[0m| \u001b[1mINFO    \u001b[0m | \u001b[36mkartiks-MacBook-Air.local\u001b[0m| \u001b[36msuperduperdb.base.build\u001b[0m:\u001b[36m65  \u001b[0m | \u001b[1mData Client is ready. <ibis.backends.duckdb.Backend object at 0x16722fa90>\u001b[0m\n",
      "\u001b[32m 2024-Apr-04 15:41:40.91\u001b[0m| \u001b[1mINFO    \u001b[0m | \u001b[36mkartiks-MacBook-Air.local\u001b[0m| \u001b[36msuperduperdb.base.build\u001b[0m:\u001b[36m38  \u001b[0m | \u001b[1mConnecting to Metadata Client with engine:  <ibis.backends.duckdb.Backend object at 0x16722fa90>\u001b[0m\n",
      "\u001b[32m 2024-Apr-04 15:41:40.95\u001b[0m| \u001b[1mINFO    \u001b[0m | \u001b[36mkartiks-MacBook-Air.local\u001b[0m| \u001b[36msuperduperdb.base.build\u001b[0m:\u001b[36m148 \u001b[0m | \u001b[1mConnecting to compute client: None\u001b[0m\n",
      "\u001b[32m 2024-Apr-04 15:41:40.95\u001b[0m| \u001b[1mINFO    \u001b[0m | \u001b[36mkartiks-MacBook-Air.local\u001b[0m| \u001b[36msuperduperdb.base.datalayer\u001b[0m:\u001b[36m89  \u001b[0m | \u001b[1mBuilding Data Layer\u001b[0m\n"
     ]
    }
   ],
   "source": [
    "# <tab: DuckDB>\n",
    "from superduperdb import superduper\n",
    "\n",
    "db = superduper('duckdb://mydb.duckdb')"
   ]
  },
  {
   "cell_type": "code",
   "execution_count": null,
   "id": "2de71562",
   "metadata": {},
   "outputs": [],
   "source": [
    "# <tab: Pandas>\n",
    "from superduperdb import superduper\n",
    "\n",
    "db = superduper(['my.csv'], metadata_store=f'mongomock://meta')"
   ]
  },
  {
   "cell_type": "code",
   "execution_count": null,
   "id": "cb029a5e-fedf-4f07-8a31-d220cfbfbb3d",
   "metadata": {},
   "outputs": [],
   "source": [
    "# <tab: MongoMock>\n",
    "from superduperdb import superduper\n",
    "\n",
    "db = superduper('mongomock:///test_db')"
   ]
  },
  {
   "cell_type": "code",
   "execution_count": null,
   "id": "8b41f2d7",
   "metadata": {},
   "outputs": [],
   "source": [
    "# <testing: >\n",
    "import pandas as pd\n",
    "data = [{'A': 10, 'B': 20, 'C':30}, {'x':100, 'y': 200, 'z': 300}]\n",
    "df = pd.DataFrame(data=data)\n",
    "df.to_csv('my.csv')"
   ]
  },
  {
   "cell_type": "code",
   "execution_count": 5,
   "id": "0fbdaa8b-d757-4f5d-88df-e04f886756a3",
   "metadata": {},
   "outputs": [
    {
     "name": "stdout",
     "output_type": "stream",
     "text": [
      "\u001b[32m 2024-Apr-04 15:42:23.22\u001b[0m| \u001b[1mINFO    \u001b[0m | \u001b[36mkartiks-MacBook-Air.local\u001b[0m| \u001b[36msuperduperdb.backends.local.compute\u001b[0m:\u001b[36m34  \u001b[0m | \u001b[1mSubmitting job. function:<function callable_job at 0x11ea8eac0>\u001b[0m\n",
      "\u001b[32m 2024-Apr-04 15:42:23.24\u001b[0m| \u001b[32m\u001b[1mSUCCESS \u001b[0m | \u001b[36mkartiks-MacBook-Air.local\u001b[0m| \u001b[36msuperduperdb.backends.local.compute\u001b[0m:\u001b[36m40  \u001b[0m | \u001b[32m\u001b[1mJob submitted on <superduperdb.backends.local.compute.LocalComputeBackend object at 0x167241a50>.  function:<function callable_job at 0x11ea8eac0> future:204fb89d-23ba-4e12-a87a-9cfe3a5873df\u001b[0m\n"
     ]
    },
    {
     "data": {
      "text/plain": [
       "SuperDuperIbisResult(raw_cursor=[{'id': '0', 'x': '0', 'y': 0}, {'id': '1', 'x': '2', 'y': 3}, {'id': '2', 'x': '4', 'y': 6}, {'id': '3', 'x': '6', 'y': 9}, {'id': '4', 'x': '8', 'y': 12}, {'id': '5', 'x': '10', 'y': 15}, {'id': '6', 'x': '12', 'y': 18}, {'id': '7', 'x': '14', 'y': 21}, {'id': '8', 'x': '16', 'y': 24}, {'id': '9', 'x': '18', 'y': 27}], id_field='id', db=None, scores=None, decode_function=None, _it=0)"
      ]
     },
     "execution_count": 5,
     "metadata": {},
     "output_type": "execute_result"
    }
   ],
   "source": [
    "# <testing: >\n",
    "from superduperdb.backends.ibis.query import Table\n",
    "from superduperdb.backends.ibis.field_types import dtype\n",
    "from superduperdb import Schema\n",
    "\n",
    "# Create\n",
    "table = Table(\n",
    "    'test',\n",
    "    primary_id='id',\n",
    "    schema=Schema(\n",
    "        'test-schema',\n",
    "        fields={'id': dtype(str), 'x': dtype(str), 'y': dtype(int)},\n",
    "    )\n",
    ")\n",
    "\n",
    "db.add(table)\n",
    "\n",
    "# Insert\n",
    "import pandas as pd\n",
    "data = pd.DataFrame([\n",
    "    {\n",
    "        'id': i,\n",
    "        'x': str(i*2),\n",
    "        'y': i*3\n",
    "    } for i in range(10)\n",
    "])\n",
    "\n",
    "db.execute(table.insert(data))\n",
    "\n",
    "# Select\n",
    "db.execute(table.select('id', 'x', 'y'))"
   ]
  },
  {
   "cell_type": "code",
   "execution_count": null,
   "id": "bfe067ed-eb3c-4422-a475-caa7d493babc",
   "metadata": {},
   "outputs": [],
   "source": []
  }
 ],
 "metadata": {
  "kernelspec": {
   "display_name": "Python 3 (ipykernel)",
   "language": "python",
   "name": "python3"
  },
  "language_info": {
   "codemirror_mode": {
    "name": "ipython",
    "version": 3
   },
   "file_extension": ".py",
   "mimetype": "text/x-python",
   "name": "python",
   "nbconvert_exporter": "python",
   "pygments_lexer": "ipython3",
   "version": "3.11.7"
  }
 },
 "nbformat": 4,
 "nbformat_minor": 5
}
