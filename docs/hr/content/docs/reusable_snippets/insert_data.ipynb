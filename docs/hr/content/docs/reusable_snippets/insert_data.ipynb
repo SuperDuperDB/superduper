{
 "cells": [
  {
   "cell_type": "markdown",
   "metadata": {},
   "source": [
    "<!-- TABS -->\n",
    "# Insert data\n",
    "\n",
    "In order to create data, we need to create a `Schema` for encoding our special `Datatype` column(s) in the databackend."
   ]
  },
  {
   "cell_type": "code",
   "execution_count": null,
   "metadata": {},
   "outputs": [],
   "source": [
    "N_DATA = round(len(data) - len(data) // 4)"
   ]
  },
  {
   "cell_type": "code",
   "execution_count": null,
   "metadata": {},
   "outputs": [],
   "source": [
    "# <tab: MongoDB>\n",
    "from superduperdb import Document\n",
    "\n",
    "if schema is None:\n",
    "    data = Document([{'x': datatype(x)} for x in data])    \n",
    "    db.execute(collection.insert_many(data[:N_DATA]))\n",
    "else:\n",
    "    data = Document([{'x': x} for x in data])    \n",
    "    db.execute(collection.insert_many(data[:N_DATA], schema='my_schema'))"
   ]
  },
  {
   "cell_type": "code",
   "execution_count": null,
   "metadata": {},
   "outputs": [],
   "source": [
    "# <tab: SQL>\n",
    "from superduperdb import Document\n",
    "\n",
    "db.execute(table.insert([Document({'x': x}) for x in data[:N_DATA]]))"
   ]
  },
  {
   "cell_type": "code",
   "execution_count": null,
   "metadata": {},
   "outputs": [],
   "source": [
    "sample_datapoint = data[-1]"
   ]
  }
 ],
 "metadata": {
  "language_info": {
   "name": "python"
  }
 },
 "nbformat": 4,
 "nbformat_minor": 2
}
