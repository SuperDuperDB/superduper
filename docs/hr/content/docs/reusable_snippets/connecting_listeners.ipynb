{
 "cells": [
  {
   "cell_type": "markdown",
   "id": "b71c8174-d6ed-4199-8319-97b6dc0f5b25",
   "metadata": {},
   "source": [
    "<!-- TABS -->\n",
    "# Connecting listeners"
   ]
  },
  {
   "cell_type": "code",
   "execution_count": null,
   "id": "ce9366ba-f9b6-4339-b479-04d6380d97a5",
   "metadata": {},
   "outputs": [],
   "source": [
    "# <testing: >\n",
    "from superduperdb import superduper, Document\n",
    "from superduperdb.backends.mongodb import Collection\n",
    "from superduperdb.ext.numpy import array\n",
    "import numpy as np\n",
    "\n",
    "db = superduper('mongomock://temp')\n",
    "select = Collection(\"data\").find()\n",
    "\n",
    "image_array = array(\"float64\", shape=(256, 256, 3))\n",
    "db.add(image_array)\n",
    "\n",
    "datas = []\n",
    "for i in range(10):\n",
    "    data = {\n",
    "        \"x\": f\"data_{i}\",\n",
    "    }\n",
    "    datas.append(data)\n",
    "\n",
    "db.execute(Collection(\"data\").insert_many([Document(data) for data in datas]))"
   ]
  },
  {
   "cell_type": "code",
   "execution_count": null,
   "id": "d29a8f1c-0988-469f-8feb-37e97350d0ce",
   "metadata": {},
   "outputs": [],
   "source": [
    "# <testing: >\n",
    "from superduperdb import ObjectModel\n",
    "model1 = ObjectModel(identifier=\"model1\", object=lambda x: \"model1_\" + str(x))\n",
    "model2 = ObjectModel(identifier=\"model2\", object=lambda x1, x2: {\"x1\": x1, \"x2\":x2})"
   ]
  },
  {
   "cell_type": "code",
   "execution_count": null,
   "id": "b9402cc5-7a44-4129-a152-58bd7f6320a8",
   "metadata": {},
   "outputs": [],
   "source": [
    "# <tab: One By One>\n",
    "listener1 = model1.to_listener(key=\"x\", select=select, identifier=\"l1\")\n",
    "db.add(listener1)\n",
    "listener2 = model2.to_listener(key=[\"x\", listener1.outputs], select=select, identifier=\"l2\")\n",
    "db.add(listener2)"
   ]
  },
  {
   "cell_type": "code",
   "execution_count": null,
   "id": "990e10fc-95fa-4bd5-bb2f-fb125eed4f54",
   "metadata": {},
   "outputs": [],
   "source": [
    "# <tab: Graph>\n",
    "from superduperdb.components.graph import Graph, document_node, input_node\n",
    "in_ = document_node('x')\n",
    "output1 = model1(x=in_['x'], outputs=\"l1\")\n",
    "output2 = model2(x1=output1, x2=in_[\"x\"], outputs=\"l2\")\n",
    "listener_stack = output2.to_listeners(select=select, identifier=\"listener\")\n",
    "db.add(listener_stack)"
   ]
  }
 ],
 "metadata": {
  "kernelspec": {
   "display_name": "Python 3 (ipykernel)",
   "language": "python",
   "name": "python3"
  },
  "language_info": {
   "codemirror_mode": {
    "name": "ipython",
    "version": 3
   },
   "file_extension": ".py",
   "mimetype": "text/x-python",
   "name": "python",
   "nbconvert_exporter": "python",
   "pygments_lexer": "ipython3",
   "version": "3.10.7"
  }
 },
 "nbformat": 4,
 "nbformat_minor": 5
}
