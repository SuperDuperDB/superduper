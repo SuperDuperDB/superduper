{
 "cells": [
  {
   "cell_type": "markdown",
   "metadata": {},
   "source": [
    "<!-- TABS -->\n",
    "# Perform a vector search"
   ]
  },
  {
   "cell_type": "code",
   "execution_count": null,
   "metadata": {},
   "outputs": [],
   "source": [
    "# <testing: MongoDB>\n",
    "from superduperdb import superduper, Document\n",
    "from superduperdb.backends.mongodb import Collection\n",
    "\n",
    "\n",
    "db = superduper('mongomock://temp')\n",
    "\n",
    "datas = []\n",
    "for i in range(10):\n",
    "    data = {\n",
    "        \"id\": str(i),\n",
    "        \"my_key\": str(i)\n",
    "    }\n",
    "    datas.append(data)\n",
    "\n",
    "db.execute(Collection(\"documents\").insert_many([Document(data) for data in datas]))\n",
    "select = Collection(\"documents\").find()"
   ]
  },
  {
   "cell_type": "code",
   "execution_count": null,
   "metadata": {},
   "outputs": [],
   "source": [
    "# <testing: SQL>\n",
    "from superduperdb import superduper, Document, Schema\n",
    "from superduperdb.backends.ibis import Table, dtype\n",
    "\n",
    "db = superduper('sqlite://')\n",
    "table = Table(identifier=\"documents\",\n",
    "          schema=Schema(\n",
    "              identifier=\"documents\",\n",
    "              fields={\"id\": dtype('str'), \"my_key\": dtype(\"str\")}\n",
    "          )\n",
    "         )\n",
    "db.add(table)\n",
    "\n",
    "\n",
    "datas = []\n",
    "for i in range(10):\n",
    "    data = {\n",
    "        \"id\": str(i),\n",
    "        \"my_key\": str(i)\n",
    "    }\n",
    "    datas.append(data)\n",
    "\n",
    "db.execute(table.insert([Document(data) for data in datas]))\n",
    "table = db.load('table', \"documents\").to_query()\n",
    "select = table.select(\"id\", \"my_key\")"
   ]
  },
  {
   "cell_type": "code",
   "execution_count": null,
   "metadata": {},
   "outputs": [],
   "source": [
    "# <testing: >\n",
    "from superduperdb import ObjectModel, VectorIndex, Listener\n",
    "from superduperdb.ext.numpy import array\n",
    "import numpy as np\n",
    "\n",
    "model = ObjectModel(\"test\", object=lambda x: np.random.randn(16), datatype=array(\"float64\", shape=(16, )))\n",
    "db.add(\n",
    "    VectorIndex(\n",
    "        # Use a dynamic identifier based on the model's identifier\n",
    "        identifier=\"vector_index\",\n",
    "        # Specify an indexing listener with MongoDB collection and model\n",
    "        indexing_listener=Listener(\n",
    "            select=select,  # MongoDB collection query\n",
    "            key=\"my_key\",  # Key for the documents\n",
    "            model=model,\n",
    "            predict_kwargs={\"max_chunk_size\": 16},\n",
    "            identifier=\"vector\",\n",
    "        ),\n",
    "    )\n",
    ")\n",
    "data = \"10\""
   ]
  },
  {
   "cell_type": "markdown",
   "metadata": {},
   "source": [
    "- **item** is the item which is to be encoded\n",
    "- **my_key** is the attribute concerned during vector search, which will be transformed into a vector by the corresponding model."
   ]
  },
  {
   "cell_type": "code",
   "execution_count": null,
   "metadata": {},
   "outputs": [],
   "source": [
    "from superduperdb import Document\n",
    "\n",
    "item = Document({'my_key': data})"
   ]
  },
  {
   "cell_type": "markdown",
   "metadata": {},
   "source": [
    "## Vector search"
   ]
  },
  {
   "cell_type": "markdown",
   "metadata": {},
   "source": [
    "Once we have this search target, we can execute a search as follows:"
   ]
  },
  {
   "cell_type": "code",
   "execution_count": null,
   "metadata": {},
   "outputs": [],
   "source": [
    "# <tab: MongoDB>\n",
    "from superduperdb.backends.mongodb import Collection\n",
    "\n",
    "collection = Collection('documents')\n",
    "\n",
    "select = collection.like(\n",
    "    item, \n",
    "    vector_index=\"vector_index\", \n",
    "    n=5\n",
    ").find()"
   ]
  },
  {
   "cell_type": "code",
   "execution_count": null,
   "metadata": {},
   "outputs": [],
   "source": [
    "# <tab: SQL>\n",
    "\n",
    "# Table was created earlier, before preparing vector-search\n",
    "table = db.load('table', 'documents')\n",
    "select = table.like(\n",
    "    item, \n",
    "    vector_index=\"vector_index\", \n",
    "    n=5\n",
    ").select(\"id\", \"my_key\")"
   ]
  },
  {
   "cell_type": "markdown",
   "metadata": {},
   "source": [
    "## Vector search with filters\n",
    "\n",
    "In practical applications, we might aim to search for data that meets specific filters. Therefore, we can add filters, so that SuperDuperDB will only perform vector search within the set of data that meets the filter criteria."
   ]
  },
  {
   "cell_type": "code",
   "execution_count": null,
   "metadata": {},
   "outputs": [],
   "source": [
    "# <tab: MongoDB>\n",
    "from superduperdb.backends.mongodb import Collection\n",
    "\n",
    "collection = Collection('documents')\n",
    "\n",
    "select = collection.find({\"id\": {\"$in\": [\"1\", \"2\"]}}).like(\n",
    "    item,\n",
    "    vector_index=\"vector_index\",\n",
    "    n=5\n",
    ")"
   ]
  },
  {
   "cell_type": "code",
   "execution_count": null,
   "metadata": {},
   "outputs": [],
   "source": [
    "# <tab: SQL>\n",
    "\n",
    "# Table was created earlier, before preparing vector-search\n",
    "table = db.load('table', 'documents')\n",
    "select = table.select(\"id\", \"my_key\").filter(table.id.isin((\"1\", \"2\")),).like(\n",
    "    item,\n",
    "    vector_index=\"vector_index\",\n",
    "    n=5\n",
    ")"
   ]
  },
  {
   "cell_type": "code",
   "execution_count": null,
   "metadata": {},
   "outputs": [],
   "source": [
    "# <testing: >\n",
    "results = db.execute(select)\n",
    "list(results)"
   ]
  }
 ],
 "metadata": {
  "kernelspec": {
   "display_name": "Python 3 (ipykernel)",
   "language": "python",
   "name": "python3"
  },
  "language_info": {
   "codemirror_mode": {
    "name": "ipython",
    "version": 3
   },
   "file_extension": ".py",
   "mimetype": "text/x-python",
   "name": "python",
   "nbconvert_exporter": "python",
   "pygments_lexer": "ipython3",
   "version": "3.10.7"
  }
 },
 "nbformat": 4,
 "nbformat_minor": 4
}
