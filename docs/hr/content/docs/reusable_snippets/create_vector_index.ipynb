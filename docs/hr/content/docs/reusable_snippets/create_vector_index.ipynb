{
 "cells": [
  {
   "cell_type": "markdown",
   "id": "41b8b40d-3750-4d7b-aa60-62e07b734b04",
   "metadata": {},
   "source": [
    "# Create vector-index"
   ]
  },
  {
   "cell_type": "code",
   "execution_count": null,
   "id": "ffba61c1-2ec8-4411-870a-228439ce4ba5",
   "metadata": {},
   "outputs": [],
   "source": [
    "# <tab: 1-Modality>\n",
    "from superduperdb import VectorIndex, Listener\n",
    "\n",
    "jobs, _ db.add(\n",
    "    VectorIndex(\n",
    "        'my-vector-index',\n",
    "        indexing_listener=Listener(\n",
    "            key='<my_key>',      # the `Document` key `model` should ingest to create embedding\n",
    "            select=select,       # a `Select` query telling which data to search over\n",
    "            model=model,         # a `_Predictor` how to convert data to embeddings\n",
    "        )\n",
    "    )\n",
    ")"
   ]
  },
  {
   "cell_type": "code",
   "execution_count": null,
   "id": "4cede653",
   "metadata": {},
   "outputs": [],
   "source": [
    "# <tab: 2-Modalities>\n",
    "from superduperdb import VectorIndex, Listener\n",
    "\n",
    "jobs, _ db.add(\n",
    "    VectorIndex(\n",
    "        'my-vector-index',\n",
    "        indexing_listener=Listener(\n",
    "            key='<my_key>',      # the `Document` key `model` should ingest to create embedding\n",
    "            select=select,       # a `Select` query telling which data to search over\n",
    "            model=model,         # a `_Predictor` how to convert data to embeddings\n",
    "        ),\n",
    "        compatible_listener=Listener(\n",
    "            key='<other_key>',      # the `Document` key `model` should ingest to create embedding\n",
    "            model=compatible_model,         # a `_Predictor` how to convert data to embeddings\n",
    "            active=False,\n",
    "        )\n",
    "    )\n",
    ")"
   ]
  }
 ],
 "metadata": {
  "kernelspec": {
   "display_name": "Python 3 (ipykernel)",
   "language": "python",
   "name": "python3"
  },
  "language_info": {
   "codemirror_mode": {
    "name": "ipython",
    "version": 3
   },
   "file_extension": ".py",
   "mimetype": "text/x-python",
   "name": "python",
   "nbconvert_exporter": "python",
   "pygments_lexer": "ipython3",
   "version": "3.11.7"
  }
 },
 "nbformat": 4,
 "nbformat_minor": 5
}
