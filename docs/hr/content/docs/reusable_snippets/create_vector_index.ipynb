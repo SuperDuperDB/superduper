{
 "cells": [
  {
   "cell_type": "markdown",
   "id": "41b8b40d-3750-4d7b-aa60-62e07b734b04",
   "metadata": {},
   "source": [
    "<!-- TABS -->\n",
    "# Create Vector Index"
   ]
  },
  {
   "cell_type": "code",
   "execution_count": null,
   "id": "c92aa839-464b-448e-8efa-7006603f2613",
   "metadata": {},
   "outputs": [],
   "source": [
    "# <testing: MongoDB>\n",
    "from superduperdb import superduper, Document\n",
    "from superduperdb.backends.mongodb import Collection\n",
    "\n",
    "\n",
    "db = superduper('mongomock://temp')\n",
    "\n",
    "datas = []\n",
    "for i in range(10):\n",
    "    data = {\n",
    "        \"my_key\": str(i),\n",
    "    }\n",
    "    datas.append(data)\n",
    "\n",
    "db.execute(Collection(\"documents\").insert_many([Document(data) for data in datas]))\n",
    "select = Collection(\"documents\").find()"
   ]
  },
  {
   "cell_type": "code",
   "execution_count": null,
   "id": "56d848ed-1ae8-45dc-86c3-4c96174fda7f",
   "metadata": {},
   "outputs": [],
   "source": [
    "# <testing: >\n",
    "import numpy as np\n",
    "from superduperdb.ext.numpy import array\n",
    "from superduperdb import ObjectModel\n",
    "\n",
    "model = ObjectModel(\"test\", object=lambda x: np.random.randn(16, ), datatype=array(\"float64\", shape=(16, )))"
   ]
  },
  {
   "cell_type": "markdown",
   "id": "b65599f8-86bf-4d97-b167-58290500c709",
   "metadata": {},
   "source": [
    "- `model` is a `_Predictor` which converts input data to `vector`, `array` or `tensor`.\n",
    "- `select` is a `Select` query telling which data to search over.\n",
    "- `key` is a `str`, tuple of `str` or `dict` telling the models how to consume the content of `Document` instances."
   ]
  },
  {
   "cell_type": "code",
   "execution_count": null,
   "id": "ffba61c1-2ec8-4411-870a-228439ce4ba5",
   "metadata": {},
   "outputs": [],
   "source": [
    "# <tab: VectorIndex>\n",
    "from superduperdb import VectorIndex, Listener\n",
    "\n",
    "db.add(\n",
    "    VectorIndex(\n",
    "        'my-vector-index',\n",
    "        indexing_listener=Listener(\n",
    "            key='my_key',      # the `Document` key `model` should ingest to create embedding\n",
    "            select=select,       # a `Select` query telling which data to search over\n",
    "            model=model,         # a `_Predictor` how to convert data to embeddings\n",
    "        )\n",
    "    )\n",
    ")"
   ]
  },
  {
   "cell_type": "code",
   "execution_count": null,
   "id": "7ed24d36-b0bf-42e2-bcc7-8e0038ddef93",
   "metadata": {},
   "outputs": [],
   "source": [
    "# <tab: Model.to_vector_index>\n",
    "db.add(model.to_vector_index(key='my_key', select=select, identifier=\"my-vector-index\"))"
   ]
  },
  {
   "cell_type": "code",
   "execution_count": null,
   "id": "fc0af7e5-a451-4aa1-8f5b-e910126ed43f",
   "metadata": {},
   "outputs": [],
   "source": [
    "# <testing: >\n",
    "from superduperdb.backends.mongodb import Collection\n",
    "\n",
    "collection = Collection('documents')\n",
    "\n",
    "select = collection.like(\n",
    "    Document({\"my_key\": 1}), \n",
    "    vector_index=\"my-vector-index\", \n",
    "    n=5\n",
    ").find()\n",
    "results = db.execute(select)\n",
    "list(results)"
   ]
  }
 ],
 "metadata": {
  "kernelspec": {
   "display_name": "Python 3 (ipykernel)",
   "language": "python",
   "name": "python3"
  },
  "language_info": {
   "codemirror_mode": {
    "name": "ipython",
    "version": 3
   },
   "file_extension": ".py",
   "mimetype": "text/x-python",
   "name": "python",
   "nbconvert_exporter": "python",
   "pygments_lexer": "ipython3",
   "version": "3.10.7"
  }
 },
 "nbformat": 4,
 "nbformat_minor": 5
}
