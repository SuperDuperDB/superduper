{
 "cells": [
  {
   "cell_type": "markdown",
   "metadata": {},
   "source": [
    "<!-- TABS -->\n",
    "# Insert data\n",
    "\n",
    "In order to create data, we need to create a `Schema` for encoding our special `Datatype` column(s) in the databackend."
   ]
  },
  {
   "cell_type": "code",
   "execution_count": null,
   "metadata": {},
   "outputs": [],
   "source": [
    "# <tab: MongoDB>\n",
    "from superduperdb import Document, DataType\n",
    "\n",
    "\n",
    "def do_insert(data, schema=None):\n",
    "\n",
    "    if schema is None and (datatype is None or isinstance(datatype, str)):\n",
    "        data = [\n",
    "            (\n",
    "                Document({'x': x['x'], 'y': x['y']})\n",
    "                if isinstance(x, dict) and 'x' in x and 'y' in x\n",
    "                else Document({'x': x})\n",
    "            )\n",
    "            for x in data\n",
    "        ]\n",
    "        db.execute(table_or_collection.insert_many(data))\n",
    "    elif schema is None and datatype is not None and isinstance(datatype, DataType):\n",
    "        data = [\n",
    "            (\n",
    "                Document({'x': datatype(x['x']), 'y': x['y']})\n",
    "                if isinstance(x, dict) and 'x' in x and 'y' in x\n",
    "                else Document({'x': datatype(x)})\n",
    "            )\n",
    "            for x in data\n",
    "        ]\n",
    "        db.execute(table_or_collection.insert_many(data))\n",
    "    else:\n",
    "        data = [\n",
    "            (\n",
    "                Document({'x': x['x'], 'y': x['y']})\n",
    "                if isinstance(x, dict) and 'x' in x and 'y' in x\n",
    "                else Document({'x': x})\n",
    "            )\n",
    "            for x in data\n",
    "        ]\n",
    "        db.execute(table_or_collection.insert_many(data, schema=schema))"
   ]
  },
  {
   "cell_type": "code",
   "execution_count": null,
   "metadata": {},
   "outputs": [],
   "source": [
    "# <tab: SQL>\n",
    "from superduperdb import Document\n",
    "\n",
    "\n",
    "def do_insert(data):\n",
    "    db.execute(\n",
    "        table_or_collection.insert(\n",
    "            [\n",
    "                (\n",
    "                    Document({'id': str(idx), 'x': x['x'], 'y': x['y']})\n",
    "                    if isinstance(x, dict) and 'x' in x and 'y' in x\n",
    "                    else Document({'id': str(idx), 'x': x})\n",
    "                )\n",
    "                for idx, x in enumerate(data)\n",
    "            ]\n",
    "        )\n",
    "    )"
   ]
  }
 ],
 "metadata": {
  "kernelspec": {
   "display_name": "Python 3 (ipykernel)",
   "language": "python",
   "name": "python3"
  },
  "language_info": {
   "codemirror_mode": {
    "name": "ipython",
    "version": 3
   },
   "file_extension": ".py",
   "mimetype": "text/x-python",
   "name": "python",
   "nbconvert_exporter": "python",
   "pygments_lexer": "ipython3",
   "version": "3.11.7"
  }
 },
 "nbformat": 4,
 "nbformat_minor": 4
}
