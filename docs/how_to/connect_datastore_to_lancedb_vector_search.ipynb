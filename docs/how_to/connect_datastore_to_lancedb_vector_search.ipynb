{
 "cells": [
  {
   "cell_type": "markdown",
   "id": "78ceb89d-eb6e-45db-8c90-da49e08ae5d4",
   "metadata": {},
   "source": []
  }
 ],
 "metadata": {
  "kernelspec": {
   "display_name": "",
   "name": ""
  },
  "language_info": {
   "name": ""
  }
 },
 "nbformat": 4,
 "nbformat_minor": 5
}
