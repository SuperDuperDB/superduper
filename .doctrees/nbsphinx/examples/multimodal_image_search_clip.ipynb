{
 "cells": [
  {
   "cell_type": "markdown",
   "id": "238520e0",
   "metadata": {},
   "source": [
    "# Multimodal search with CLIP"
   ]
  },
  {
   "cell_type": "code",
   "execution_count": 1,
   "id": "2b5ef986",
   "metadata": {
    "execution": {
     "iopub.execute_input": "2023-07-21T17:19:10.115122Z",
     "iopub.status.busy": "2023-07-21T17:19:10.114799Z",
     "iopub.status.idle": "2023-07-21T17:19:13.035112Z",
     "shell.execute_reply": "2023-07-21T17:19:13.034789Z"
    }
   },
   "outputs": [
    {
     "name": "stderr",
     "output_type": "stream",
     "text": [
      "INFO:numexpr.utils:NumExpr defaulting to 8 threads.\n"
     ]
    },
    {
     "ename": "ModuleNotFoundError",
     "evalue": "No module named 'superduperdb.core.documents'",
     "output_type": "error",
     "traceback": [
      "\u001b[0;31m---------------------------------------------------------------------------\u001b[0m",
      "\u001b[0;31mModuleNotFoundError\u001b[0m                       Traceback (most recent call last)",
      "Cell \u001b[0;32mIn[1], line 6\u001b[0m\n\u001b[1;32m      4\u001b[0m \u001b[38;5;28;01mfrom\u001b[39;00m \u001b[38;5;21;01msuperduperdb\u001b[39;00m\u001b[38;5;21;01m.\u001b[39;00m\u001b[38;5;21;01mmodels\u001b[39;00m\u001b[38;5;21;01m.\u001b[39;00m\u001b[38;5;21;01mtorch\u001b[39;00m\u001b[38;5;21;01m.\u001b[39;00m\u001b[38;5;21;01mwrapper\u001b[39;00m \u001b[38;5;28;01mimport\u001b[39;00m TorchModel\n\u001b[1;32m      5\u001b[0m \u001b[38;5;28;01mfrom\u001b[39;00m \u001b[38;5;21;01msuperduperdb\u001b[39;00m\u001b[38;5;21;01m.\u001b[39;00m\u001b[38;5;21;01mdatalayer\u001b[39;00m\u001b[38;5;21;01m.\u001b[39;00m\u001b[38;5;21;01mmongodb\u001b[39;00m\u001b[38;5;21;01m.\u001b[39;00m\u001b[38;5;21;01mquery\u001b[39;00m \u001b[38;5;28;01mimport\u001b[39;00m Collection\n\u001b[0;32m----> 6\u001b[0m \u001b[38;5;28;01mfrom\u001b[39;00m \u001b[38;5;21;01msuperduperdb\u001b[39;00m\u001b[38;5;21;01m.\u001b[39;00m\u001b[38;5;21;01mcore\u001b[39;00m\u001b[38;5;21;01m.\u001b[39;00m\u001b[38;5;21;01mdocuments\u001b[39;00m \u001b[38;5;28;01mimport\u001b[39;00m Document \u001b[38;5;28;01mas\u001b[39;00m D\n\u001b[1;32m      7\u001b[0m \u001b[38;5;28;01mfrom\u001b[39;00m \u001b[38;5;21;01msuperduperdb\u001b[39;00m\u001b[38;5;21;01m.\u001b[39;00m\u001b[38;5;21;01mencoders\u001b[39;00m\u001b[38;5;21;01m.\u001b[39;00m\u001b[38;5;21;01mpillow\u001b[39;00m\u001b[38;5;21;01m.\u001b[39;00m\u001b[38;5;21;01mimage\u001b[39;00m \u001b[38;5;28;01mimport\u001b[39;00m pil_image \u001b[38;5;28;01mas\u001b[39;00m i\n\u001b[1;32m      9\u001b[0m pymongo\u001b[38;5;241m.\u001b[39mMongoClient()\u001b[38;5;241m.\u001b[39mdrop_database(\u001b[38;5;124m'\u001b[39m\u001b[38;5;124mdocuments\u001b[39m\u001b[38;5;124m'\u001b[39m)\n",
      "\u001b[0;31mModuleNotFoundError\u001b[0m: No module named 'superduperdb.core.documents'"
     ]
    }
   ],
   "source": [
    "import clip\n",
    "import pymongo\n",
    "from superduperdb.misc.superduper import superduper\n",
    "from superduperdb.models.torch.wrapper import TorchModel\n",
    "from superduperdb.datalayer.mongodb.query import Collection\n",
    "from superduperdb.core.documents import Document as D\n",
    "from superduperdb.encoders.pillow.image import pil_image as i\n",
    "\n",
    "pymongo.MongoClient().drop_database('documents')\n",
    "pymongo.MongoClient().drop_database('_filesystem:documents')\n",
    "\n",
    "db = pymongo.MongoClient().documents\n",
    "db = superduper(db)\n",
    "\n",
    "collection = Collection(name='tiny-imagenet')"
   ]
  },
  {
   "cell_type": "code",
   "execution_count": 2,
   "id": "aaa0a06a",
   "metadata": {
    "execution": {
     "iopub.execute_input": "2023-07-21T17:19:13.037365Z",
     "iopub.status.busy": "2023-07-21T17:19:13.037226Z",
     "iopub.status.idle": "2023-07-21T17:19:13.049885Z",
     "shell.execute_reply": "2023-07-21T17:19:13.049516Z"
    }
   },
   "outputs": [
    {
     "ename": "ModuleNotFoundError",
     "evalue": "No module named 'superduperdb.core.documents'",
     "output_type": "error",
     "traceback": [
      "\u001b[0;31m---------------------------------------------------------------------------\u001b[0m",
      "\u001b[0;31mModuleNotFoundError\u001b[0m                       Traceback (most recent call last)",
      "Cell \u001b[0;32mIn[2], line 1\u001b[0m\n\u001b[0;32m----> 1\u001b[0m \u001b[38;5;28;01mfrom\u001b[39;00m \u001b[38;5;21;01msuperduperdb\u001b[39;00m\u001b[38;5;21;01m.\u001b[39;00m\u001b[38;5;21;01mcore\u001b[39;00m\u001b[38;5;21;01m.\u001b[39;00m\u001b[38;5;21;01mdocuments\u001b[39;00m \u001b[38;5;28;01mimport\u001b[39;00m Document \u001b[38;5;28;01mas\u001b[39;00m D\n\u001b[1;32m      2\u001b[0m \u001b[38;5;28;01mfrom\u001b[39;00m \u001b[38;5;21;01msuperduperdb\u001b[39;00m\u001b[38;5;21;01m.\u001b[39;00m\u001b[38;5;21;01mencoders\u001b[39;00m\u001b[38;5;21;01m.\u001b[39;00m\u001b[38;5;21;01mpillow\u001b[39;00m\u001b[38;5;21;01m.\u001b[39;00m\u001b[38;5;21;01mimage\u001b[39;00m \u001b[38;5;28;01mimport\u001b[39;00m pil_image \u001b[38;5;28;01mas\u001b[39;00m i\n\u001b[1;32m      3\u001b[0m \u001b[38;5;28;01mfrom\u001b[39;00m \u001b[38;5;21;01mdatasets\u001b[39;00m \u001b[38;5;28;01mimport\u001b[39;00m load_dataset\n",
      "\u001b[0;31mModuleNotFoundError\u001b[0m: No module named 'superduperdb.core.documents'"
     ]
    }
   ],
   "source": [
    "from superduperdb.core.documents import Document as D\n",
    "from superduperdb.encoders.pillow.image import pil_image as i\n",
    "from datasets import load_dataset\n",
    "import random\n",
    "\n",
    "dataset = load_dataset(\"zh-plus/tiny-imagenet\")['valid']\n",
    "dataset = [D({'image': i(r['image'])}) for r in dataset]\n",
    "dataset = random.sample(dataset, 1000)"
   ]
  },
  {
   "cell_type": "code",
   "execution_count": 3,
   "id": "c32a91a5",
   "metadata": {
    "execution": {
     "iopub.execute_input": "2023-07-21T17:19:13.051663Z",
     "iopub.status.busy": "2023-07-21T17:19:13.051537Z",
     "iopub.status.idle": "2023-07-21T17:19:13.062539Z",
     "shell.execute_reply": "2023-07-21T17:19:13.062218Z"
    },
    "scrolled": false
   },
   "outputs": [
    {
     "ename": "NameError",
     "evalue": "name 'db' is not defined",
     "output_type": "error",
     "traceback": [
      "\u001b[0;31m---------------------------------------------------------------------------\u001b[0m",
      "\u001b[0;31mNameError\u001b[0m                                 Traceback (most recent call last)",
      "Cell \u001b[0;32mIn[3], line 1\u001b[0m\n\u001b[0;32m----> 1\u001b[0m \u001b[43mdb\u001b[49m\u001b[38;5;241m.\u001b[39mexecute(collection\u001b[38;5;241m.\u001b[39minsert_many(dataset, encoders\u001b[38;5;241m=\u001b[39m(i,)))\n",
      "\u001b[0;31mNameError\u001b[0m: name 'db' is not defined"
     ]
    }
   ],
   "source": [
    "db.execute(collection.insert_many(dataset, encoders=(i,)))"
   ]
  },
  {
   "cell_type": "code",
   "execution_count": 4,
   "id": "7282a0fe",
   "metadata": {
    "execution": {
     "iopub.execute_input": "2023-07-21T17:19:13.064307Z",
     "iopub.status.busy": "2023-07-21T17:19:13.064181Z",
     "iopub.status.idle": "2023-07-21T17:19:13.074519Z",
     "shell.execute_reply": "2023-07-21T17:19:13.074188Z"
    }
   },
   "outputs": [
    {
     "ename": "NameError",
     "evalue": "name 'db' is not defined",
     "output_type": "error",
     "traceback": [
      "\u001b[0;31m---------------------------------------------------------------------------\u001b[0m",
      "\u001b[0;31mNameError\u001b[0m                                 Traceback (most recent call last)",
      "Cell \u001b[0;32mIn[4], line 1\u001b[0m\n\u001b[0;32m----> 1\u001b[0m x \u001b[38;5;241m=\u001b[39m \u001b[43mdb\u001b[49m\u001b[38;5;241m.\u001b[39mexecute(collection\u001b[38;5;241m.\u001b[39mfind_one())[\u001b[38;5;124m'\u001b[39m\u001b[38;5;124mimage\u001b[39m\u001b[38;5;124m'\u001b[39m]\u001b[38;5;241m.\u001b[39mx\n",
      "\u001b[0;31mNameError\u001b[0m: name 'db' is not defined"
     ]
    }
   ],
   "source": [
    "x = db.execute(collection.find_one())['image'].x"
   ]
  },
  {
   "cell_type": "code",
   "execution_count": 5,
   "id": "9ca6a0ff",
   "metadata": {
    "execution": {
     "iopub.execute_input": "2023-07-21T17:19:13.076328Z",
     "iopub.status.busy": "2023-07-21T17:19:13.076202Z",
     "iopub.status.idle": "2023-07-21T17:19:17.413300Z",
     "shell.execute_reply": "2023-07-21T17:19:17.412863Z"
    }
   },
   "outputs": [],
   "source": [
    "model, preprocess = clip.load(\"ViT-B/32\", device='cpu')"
   ]
  },
  {
   "cell_type": "code",
   "execution_count": 6,
   "id": "2a5bacdc",
   "metadata": {
    "execution": {
     "iopub.execute_input": "2023-07-21T17:19:17.415495Z",
     "iopub.status.busy": "2023-07-21T17:19:17.415333Z",
     "iopub.status.idle": "2023-07-21T17:19:17.421002Z",
     "shell.execute_reply": "2023-07-21T17:19:17.420682Z"
    }
   },
   "outputs": [],
   "source": [
    "from superduperdb.encoders.torch.tensor import tensor\n",
    "import torch\n",
    "\n",
    "t = tensor(torch.float, shape=(512,))"
   ]
  },
  {
   "cell_type": "code",
   "execution_count": 7,
   "id": "916792d3",
   "metadata": {
    "execution": {
     "iopub.execute_input": "2023-07-21T17:19:17.422823Z",
     "iopub.status.busy": "2023-07-21T17:19:17.422687Z",
     "iopub.status.idle": "2023-07-21T17:19:17.424879Z",
     "shell.execute_reply": "2023-07-21T17:19:17.424564Z"
    }
   },
   "outputs": [],
   "source": [
    "text_model = TorchModel(\n",
    "    identifier='clip_text',\n",
    "    object=model,\n",
    "    preprocess=lambda x: clip.tokenize(x)[0],\n",
    "    forward_method='encode_text',\n",
    "    encoder=t\n",
    ")"
   ]
  },
  {
   "cell_type": "code",
   "execution_count": 8,
   "id": "5ae02683",
   "metadata": {
    "execution": {
     "iopub.execute_input": "2023-07-21T17:19:17.426492Z",
     "iopub.status.busy": "2023-07-21T17:19:17.426370Z",
     "iopub.status.idle": "2023-07-21T17:19:17.669056Z",
     "shell.execute_reply": "2023-07-21T17:19:17.668720Z"
    }
   },
   "outputs": [
    {
     "data": {
      "text/plain": [
       "tensor([ 1.5430e-01,  8.3419e-02, -8.6218e-02, -2.4812e-01, -9.0193e-02,\n",
       "        -1.7874e-01,  7.9648e-02, -1.4377e+00,  9.5243e-02,  2.9510e-01,\n",
       "         4.2066e-03,  2.5638e-01, -2.1601e-02,  1.5735e-02,  1.9318e-01,\n",
       "        -1.6119e-01,  3.6999e-01,  2.2594e-02, -5.7204e-02, -1.9817e-01,\n",
       "        -7.5301e-03, -3.2254e-01,  2.7348e-01, -3.5396e-01, -1.9037e-01,\n",
       "         1.0515e-01, -2.4183e-02,  1.0074e-01, -8.8070e-02,  2.6366e-02,\n",
       "        -2.7968e-01, -2.9460e-01,  2.1931e-02,  1.1822e-01,  8.7239e-02,\n",
       "         1.1945e-01, -6.0540e-04, -1.0101e-01, -1.0430e-01, -2.0626e-01,\n",
       "        -1.3790e-01, -3.9173e-02,  7.5546e-03,  1.3866e-01, -1.1169e-01,\n",
       "         1.1691e-01, -1.8521e-01,  2.9997e-02,  1.0280e-01,  1.1497e-01,\n",
       "        -1.0389e-01,  5.0075e-02,  3.1277e-01, -1.7357e-01,  4.6908e-02,\n",
       "        -9.6962e-02,  7.7737e-02,  4.9121e-03, -2.9044e-01, -3.6215e-02,\n",
       "         3.3161e-01,  4.0403e-02, -3.6717e-02,  3.3114e-02,  1.3841e-01,\n",
       "         1.1665e-01, -1.8533e-01,  1.4537e-01,  1.7915e-01,  6.0204e-02,\n",
       "         1.8797e-01, -4.3545e-02, -2.5759e-01,  2.5922e-01, -3.2504e-01,\n",
       "        -7.3698e-02, -1.3032e-01, -2.1270e-02, -9.7008e-02, -1.5535e-01,\n",
       "        -1.8003e-01, -2.3091e-01, -7.8064e-02,  2.2982e-01,  3.5198e-02,\n",
       "         2.6405e-01,  1.8695e-01, -2.9914e-01,  4.2318e-01, -2.0545e-03,\n",
       "         1.1283e-01, -1.5321e-02, -2.2041e+00,  3.1780e-01,  1.7714e-01,\n",
       "         1.4387e-01, -2.9230e-01,  7.1942e-02,  1.3914e-01, -2.8608e-01,\n",
       "         1.8457e-01, -1.0049e-01,  9.6526e-02,  2.8571e-01,  6.4735e-02,\n",
       "         2.3305e-02, -3.9703e-02, -7.9729e-02, -8.2035e-02,  2.5785e-02,\n",
       "         1.9965e-02,  4.4991e-01,  2.9948e-02, -1.7797e-02, -1.7955e-02,\n",
       "        -6.9631e-02,  2.1176e-01, -2.4720e-01, -2.2326e-01,  1.1205e-03,\n",
       "         1.1491e-01,  2.9441e-02, -1.3374e-01, -1.6872e-01,  1.1021e-01,\n",
       "        -1.3817e-01,  1.2030e-01,  3.4527e-01,  8.1909e-02,  2.3871e-01,\n",
       "         2.2229e-01, -1.8966e-01, -2.3539e-01,  8.6902e+00,  1.9549e-01,\n",
       "         2.1512e-01, -4.9882e-02, -1.1429e-01, -2.2483e-01,  9.4593e-02,\n",
       "        -7.6711e-02, -9.9087e-02, -6.9110e-02, -1.3233e-01, -3.2581e-01,\n",
       "         2.7050e-02, -2.4327e-01,  1.1758e-01, -1.4014e-01,  1.9817e-01,\n",
       "         8.2303e-02, -1.7757e-01, -3.3040e-02, -9.2580e-02,  2.0600e-01,\n",
       "        -1.3096e-01, -1.4063e-01,  8.7542e-02, -3.2586e-01,  1.9357e-01,\n",
       "        -2.0348e-01, -3.4610e-01, -7.7105e-02, -4.6517e-02, -2.5897e-01,\n",
       "         4.9247e-02,  2.1851e-01, -1.3462e-01,  8.5325e-02,  1.0842e-01,\n",
       "         1.2020e-01, -4.1831e-02,  9.5542e-02,  2.7893e-01, -2.4965e-01,\n",
       "         9.1718e-02, -1.4164e-01,  3.3395e-01,  1.2548e-01,  4.3229e-02,\n",
       "        -7.5975e-02,  1.6848e-01, -6.9536e-02,  1.2126e-01, -1.4141e-01,\n",
       "         1.1193e-01,  1.5343e-01, -9.1195e-03, -3.5644e-01, -4.9832e-02,\n",
       "         2.1788e-02, -2.5872e-01,  1.0919e-01,  2.7183e-03,  1.9120e-01,\n",
       "        -1.4926e-01,  3.6027e-02, -1.0323e-01, -2.1820e-01,  6.5567e-02,\n",
       "         3.0641e-02, -3.5111e-01, -1.7972e-01,  1.1709e-01, -1.1321e-01,\n",
       "        -1.9422e-01, -1.3823e-02, -1.1502e-01,  1.2422e-01,  2.2445e-02,\n",
       "         1.4535e-01,  1.8312e-01, -8.5592e-02, -2.4161e-01, -2.3021e-01,\n",
       "         9.0205e-02, -3.6267e-01, -7.6290e-02,  2.8521e-01,  6.8043e-02,\n",
       "        -1.6620e-02, -1.3670e-01, -5.1179e-02,  7.4036e-02, -9.4656e-02,\n",
       "        -2.9560e-03,  7.2101e-02, -1.3797e-02, -7.3376e-02,  1.3650e-03,\n",
       "         2.2423e-01,  2.5347e-01, -2.9496e-01,  1.7042e-02,  1.9483e-01,\n",
       "         4.0727e-02, -1.8151e-01,  6.8319e-02, -1.1627e-01,  1.3987e-01,\n",
       "        -1.2464e-01,  1.6415e-01,  1.1659e-01, -2.9262e-01, -1.3138e-01,\n",
       "         2.8386e-01,  1.3536e-02,  1.7893e-02,  1.2224e-01, -8.3474e-02,\n",
       "        -1.8547e-01,  1.3922e-01, -6.6026e-02,  1.8780e-01,  9.8017e-02,\n",
       "         2.2783e-01,  1.8879e-01, -1.1789e-01,  8.7848e-02,  9.5320e-02,\n",
       "        -1.3631e-01, -1.2319e-01, -5.0855e-02,  1.7521e-01, -8.8600e-03,\n",
       "        -2.1211e-01, -1.6603e-01, -9.1632e-02, -1.8940e-01,  1.2483e-01,\n",
       "        -3.4137e-01,  1.7253e-01, -4.0481e-03, -2.5831e-01,  3.4354e-01,\n",
       "         7.2386e-02,  6.4229e-02, -1.0345e-01,  8.1469e-02,  1.2823e-01,\n",
       "         3.0450e-01,  1.2546e-02,  9.2171e-02,  7.6265e-02,  1.9233e-01,\n",
       "         2.5052e-02,  1.6779e-01, -1.1386e-01, -1.2343e-01,  2.1583e-01,\n",
       "         5.1995e-02, -1.1094e-01, -1.3655e-01, -2.2207e-02, -4.0817e-02,\n",
       "        -1.5961e-01, -2.5930e-01, -3.9237e-02,  1.4823e-01,  1.7264e-01,\n",
       "        -1.0340e-01, -7.3079e-02,  5.3891e-03,  4.6488e-02, -5.2854e-02,\n",
       "         2.3029e-01,  1.3836e-01, -2.3104e-01,  5.1622e-02, -2.5691e-02,\n",
       "        -7.3428e-02, -2.0090e-01,  8.6826e+00, -1.3597e-02, -1.5189e-01,\n",
       "        -2.2824e-02,  1.5231e-01, -1.7320e-01, -6.9214e-02,  1.3925e-02,\n",
       "         3.7048e-01,  6.3549e-01, -1.1657e-01,  2.5321e-01, -3.9477e-01,\n",
       "         2.1688e-02,  4.9023e-02, -1.9004e-01,  1.0255e-01, -3.4117e+00,\n",
       "        -1.6342e-02,  1.7833e-01, -2.9475e-03,  2.0511e-01,  2.2709e-02,\n",
       "        -1.5878e-01,  4.0416e-01,  2.8988e-01,  1.8286e-01, -8.9414e-02,\n",
       "         1.9508e-01, -2.8454e-01, -3.6217e-01, -2.0818e-01,  1.3445e-01,\n",
       "         1.0488e-01,  1.0607e-01, -4.8979e-02,  3.1894e-01,  4.3417e-02,\n",
       "        -9.3009e-02, -1.1065e-01,  6.5195e-02,  1.7126e-01,  6.9774e-03,\n",
       "         4.1325e-01,  2.0223e-01,  1.0159e-01, -2.1640e-03,  1.3869e-01,\n",
       "        -2.3206e-01,  1.6523e-02,  4.7522e-01,  3.5994e-01, -4.1203e-01,\n",
       "        -3.4080e-02, -1.8557e-01,  2.1812e-01, -1.1671e-01, -1.9644e-01,\n",
       "         3.0313e-02,  7.6663e-02, -1.4767e-01,  3.0242e-01, -3.8838e-01,\n",
       "         1.2630e-01,  8.6431e-04, -2.1858e-01, -3.0865e-01, -8.5571e-02,\n",
       "         4.7795e-03, -1.4999e-01,  1.9752e-02,  1.9733e-01,  8.4233e-02,\n",
       "        -1.1645e-01, -1.5909e-01, -4.3137e-02, -1.8891e-03, -1.1042e-01,\n",
       "        -8.6980e-02, -2.1983e-01, -2.5741e-02,  6.9247e-02, -1.7009e-01,\n",
       "         2.6890e-01, -3.8613e-01, -2.2737e-01,  7.8148e-02, -4.8904e-02,\n",
       "        -1.5376e-01, -1.6890e-01,  9.6796e-02, -9.0670e-02, -1.9516e-02,\n",
       "         1.0524e-01,  1.8782e-01,  3.2854e-02,  1.2531e-01, -1.3895e-02,\n",
       "        -1.0850e-02,  7.8530e-02,  1.2075e-01,  1.0289e-01,  9.0531e-02,\n",
       "        -1.0503e-01, -1.5543e-02, -1.0592e-01, -5.9506e-02,  4.2483e-01,\n",
       "        -3.3485e-01, -1.1832e-01, -1.0529e-01,  1.4116e-01,  7.1301e-02,\n",
       "         2.0267e-01,  1.3006e-01, -4.7153e-02, -1.9340e-01,  9.9480e-02,\n",
       "         3.2894e-01, -1.5424e-01, -2.4012e-01, -1.7370e-01,  1.0893e-02,\n",
       "         3.6016e-03, -1.7056e-01, -4.7541e-02,  9.2827e-02, -1.1986e-01,\n",
       "         9.8331e-03,  1.3779e-02, -1.0578e-01, -1.5484e-04, -1.4863e-02,\n",
       "         8.7218e-02, -1.3129e-01, -1.6176e-01,  1.8377e-01, -3.2393e-01,\n",
       "        -6.3812e-02,  1.1426e-01, -3.7811e-01,  1.4901e-01,  1.6303e-01,\n",
       "        -8.0644e-02, -2.5431e-02,  1.3871e-01, -2.2643e-01, -9.5727e-02,\n",
       "        -3.8660e-02, -1.0742e-01, -2.5748e-01,  3.4330e-03,  1.8189e-01,\n",
       "        -4.2146e-02,  9.7470e-03,  4.0985e-02, -1.6121e-01,  1.8116e-01,\n",
       "         9.7044e-02,  1.7077e-01,  4.1108e-01, -3.9961e-01,  3.8703e-02,\n",
       "         8.6714e-02,  2.4180e-01,  1.3050e-01, -2.0577e-01,  2.3869e-01,\n",
       "         7.2552e-02, -9.9135e-01, -2.5906e-02,  3.1244e-01, -9.2438e-02,\n",
       "        -3.2326e-02,  2.2206e-01,  3.5055e-01,  2.9333e-01, -5.4146e-02,\n",
       "        -1.0362e-01,  2.1373e-02,  5.3769e-02, -1.9133e-01,  3.8762e-02,\n",
       "        -1.2608e-01,  2.3885e-01, -2.3160e-01,  3.1447e-01,  2.7911e-01,\n",
       "        -3.7622e-02, -2.3407e-01,  4.1729e-02,  5.6719e-02, -1.3126e-02,\n",
       "         1.8311e-01,  6.9699e-03,  1.2088e-01, -2.6926e-01, -4.1645e-02,\n",
       "         6.8667e-02,  3.4110e-01])"
      ]
     },
     "execution_count": 8,
     "metadata": {},
     "output_type": "execute_result"
    }
   ],
   "source": [
    "text_model.predict('this is a test', one=True)"
   ]
  },
  {
   "cell_type": "code",
   "execution_count": 9,
   "id": "fc0f0cc2",
   "metadata": {
    "execution": {
     "iopub.execute_input": "2023-07-21T17:19:17.670850Z",
     "iopub.status.busy": "2023-07-21T17:19:17.670721Z",
     "iopub.status.idle": "2023-07-21T17:19:17.672756Z",
     "shell.execute_reply": "2023-07-21T17:19:17.672420Z"
    }
   },
   "outputs": [],
   "source": [
    "visual_model = TorchModel(\n",
    "    identifier='clip_image',\n",
    "    preprocess=preprocess,\n",
    "    object=model.visual,\n",
    "    encoder=t,\n",
    ")"
   ]
  },
  {
   "cell_type": "code",
   "execution_count": 10,
   "id": "9e3a7685",
   "metadata": {
    "execution": {
     "iopub.execute_input": "2023-07-21T17:19:17.674406Z",
     "iopub.status.busy": "2023-07-21T17:19:17.674276Z",
     "iopub.status.idle": "2023-07-21T17:19:17.686052Z",
     "shell.execute_reply": "2023-07-21T17:19:17.685643Z"
    }
   },
   "outputs": [
    {
     "ename": "NameError",
     "evalue": "name 'x' is not defined",
     "output_type": "error",
     "traceback": [
      "\u001b[0;31m---------------------------------------------------------------------------\u001b[0m",
      "\u001b[0;31mNameError\u001b[0m                                 Traceback (most recent call last)",
      "Cell \u001b[0;32mIn[10], line 1\u001b[0m\n\u001b[0;32m----> 1\u001b[0m visual_model\u001b[38;5;241m.\u001b[39mpredict(\u001b[43mx\u001b[49m, one\u001b[38;5;241m=\u001b[39m\u001b[38;5;28;01mTrue\u001b[39;00m)\n",
      "\u001b[0;31mNameError\u001b[0m: name 'x' is not defined"
     ]
    }
   ],
   "source": [
    "visual_model.predict(x, one=True)"
   ]
  },
  {
   "cell_type": "code",
   "execution_count": 11,
   "id": "74f607e3",
   "metadata": {
    "execution": {
     "iopub.execute_input": "2023-07-21T17:19:17.688824Z",
     "iopub.status.busy": "2023-07-21T17:19:17.688659Z",
     "iopub.status.idle": "2023-07-21T17:19:17.709023Z",
     "shell.execute_reply": "2023-07-21T17:19:17.707917Z"
    },
    "scrolled": false
   },
   "outputs": [
    {
     "ename": "NameError",
     "evalue": "name 'db' is not defined",
     "output_type": "error",
     "traceback": [
      "\u001b[0;31m---------------------------------------------------------------------------\u001b[0m",
      "\u001b[0;31mNameError\u001b[0m                                 Traceback (most recent call last)",
      "Cell \u001b[0;32mIn[11], line 4\u001b[0m\n\u001b[1;32m      1\u001b[0m \u001b[38;5;28;01mfrom\u001b[39;00m \u001b[38;5;21;01msuperduperdb\u001b[39;00m\u001b[38;5;21;01m.\u001b[39;00m\u001b[38;5;21;01mcore\u001b[39;00m\u001b[38;5;21;01m.\u001b[39;00m\u001b[38;5;21;01mvector_index\u001b[39;00m \u001b[38;5;28;01mimport\u001b[39;00m VectorIndex\n\u001b[1;32m      2\u001b[0m \u001b[38;5;28;01mfrom\u001b[39;00m \u001b[38;5;21;01msuperduperdb\u001b[39;00m\u001b[38;5;21;01m.\u001b[39;00m\u001b[38;5;21;01mcore\u001b[39;00m\u001b[38;5;21;01m.\u001b[39;00m\u001b[38;5;21;01mwatcher\u001b[39;00m \u001b[38;5;28;01mimport\u001b[39;00m Watcher\n\u001b[0;32m----> 4\u001b[0m \u001b[43mdb\u001b[49m\u001b[38;5;241m.\u001b[39madd(\n\u001b[1;32m      5\u001b[0m     VectorIndex(\n\u001b[1;32m      6\u001b[0m         \u001b[38;5;124m'\u001b[39m\u001b[38;5;124mmy-index\u001b[39m\u001b[38;5;124m'\u001b[39m,\n\u001b[1;32m      7\u001b[0m         indexing_watcher\u001b[38;5;241m=\u001b[39mWatcher(\n\u001b[1;32m      8\u001b[0m             model\u001b[38;5;241m=\u001b[39mvisual_model,\n\u001b[1;32m      9\u001b[0m             key\u001b[38;5;241m=\u001b[39m\u001b[38;5;124m'\u001b[39m\u001b[38;5;124mimage\u001b[39m\u001b[38;5;124m'\u001b[39m,\n\u001b[1;32m     10\u001b[0m             select\u001b[38;5;241m=\u001b[39mcollection\u001b[38;5;241m.\u001b[39mfind(),\n\u001b[1;32m     11\u001b[0m         ),\n\u001b[1;32m     12\u001b[0m         compatible_watcher\u001b[38;5;241m=\u001b[39mWatcher(\n\u001b[1;32m     13\u001b[0m             model\u001b[38;5;241m=\u001b[39mtext_model,\n\u001b[1;32m     14\u001b[0m             key\u001b[38;5;241m=\u001b[39m\u001b[38;5;124m'\u001b[39m\u001b[38;5;124mtext\u001b[39m\u001b[38;5;124m'\u001b[39m,\n\u001b[1;32m     15\u001b[0m             active\u001b[38;5;241m=\u001b[39m\u001b[38;5;28;01mFalse\u001b[39;00m,\n\u001b[1;32m     16\u001b[0m         )\n\u001b[1;32m     17\u001b[0m     )\n\u001b[1;32m     18\u001b[0m )\n",
      "\u001b[0;31mNameError\u001b[0m: name 'db' is not defined"
     ]
    }
   ],
   "source": [
    "from superduperdb.core.vector_index import VectorIndex\n",
    "from superduperdb.core.watcher import Watcher\n",
    "\n",
    "db.add(\n",
    "    VectorIndex(\n",
    "        'my-index',\n",
    "        indexing_watcher=Watcher(\n",
    "            model=visual_model,\n",
    "            key='image',\n",
    "            select=collection.find(),\n",
    "        ),\n",
    "        compatible_watcher=Watcher(\n",
    "            model=text_model,\n",
    "            key='text',\n",
    "            active=False,\n",
    "        )\n",
    "    )\n",
    ")"
   ]
  },
  {
   "cell_type": "code",
   "execution_count": 12,
   "id": "ab994b5e",
   "metadata": {
    "execution": {
     "iopub.execute_input": "2023-07-21T17:19:17.711833Z",
     "iopub.status.busy": "2023-07-21T17:19:17.711691Z",
     "iopub.status.idle": "2023-07-21T17:19:17.727175Z",
     "shell.execute_reply": "2023-07-21T17:19:17.726751Z"
    }
   },
   "outputs": [
    {
     "ename": "NameError",
     "evalue": "name 'db' is not defined",
     "output_type": "error",
     "traceback": [
      "\u001b[0;31m---------------------------------------------------------------------------\u001b[0m",
      "\u001b[0;31mNameError\u001b[0m                                 Traceback (most recent call last)",
      "Cell \u001b[0;32mIn[12], line 1\u001b[0m\n\u001b[0;32m----> 1\u001b[0m out \u001b[38;5;241m=\u001b[39m \u001b[43mdb\u001b[49m\u001b[38;5;241m.\u001b[39mexecute(\n\u001b[1;32m      2\u001b[0m     collection\u001b[38;5;241m.\u001b[39mlike(D({\u001b[38;5;124m'\u001b[39m\u001b[38;5;124mtext\u001b[39m\u001b[38;5;124m'\u001b[39m: \u001b[38;5;124m'\u001b[39m\u001b[38;5;124mmushroom\u001b[39m\u001b[38;5;124m'\u001b[39m}), vector_index\u001b[38;5;241m=\u001b[39m\u001b[38;5;124m'\u001b[39m\u001b[38;5;124mmy-index\u001b[39m\u001b[38;5;124m'\u001b[39m, n\u001b[38;5;241m=\u001b[39m\u001b[38;5;241m3\u001b[39m)\u001b[38;5;241m.\u001b[39mfind({})\n\u001b[1;32m      3\u001b[0m )\n",
      "\u001b[0;31mNameError\u001b[0m: name 'db' is not defined"
     ]
    }
   ],
   "source": [
    "out = db.execute(\n",
    "    collection.like(D({'text': 'mushroom'}), vector_index='my-index', n=3).find({})\n",
    ")"
   ]
  },
  {
   "cell_type": "code",
   "execution_count": 13,
   "id": "1e1a1ebd",
   "metadata": {
    "execution": {
     "iopub.execute_input": "2023-07-21T17:19:17.729268Z",
     "iopub.status.busy": "2023-07-21T17:19:17.729137Z",
     "iopub.status.idle": "2023-07-21T17:19:17.741124Z",
     "shell.execute_reply": "2023-07-21T17:19:17.740791Z"
    }
   },
   "outputs": [
    {
     "ename": "NameError",
     "evalue": "name 'out' is not defined",
     "output_type": "error",
     "traceback": [
      "\u001b[0;31m---------------------------------------------------------------------------\u001b[0m",
      "\u001b[0;31mNameError\u001b[0m                                 Traceback (most recent call last)",
      "Cell \u001b[0;32mIn[13], line 2\u001b[0m\n\u001b[1;32m      1\u001b[0m \u001b[38;5;28;01mfrom\u001b[39;00m \u001b[38;5;21;01mIPython\u001b[39;00m\u001b[38;5;21;01m.\u001b[39;00m\u001b[38;5;21;01mdisplay\u001b[39;00m \u001b[38;5;28;01mimport\u001b[39;00m display\n\u001b[0;32m----> 2\u001b[0m \u001b[38;5;28;01mfor\u001b[39;00m r \u001b[38;5;129;01min\u001b[39;00m \u001b[43mout\u001b[49m:\n\u001b[1;32m      3\u001b[0m     display(r[\u001b[38;5;124m'\u001b[39m\u001b[38;5;124mimage\u001b[39m\u001b[38;5;124m'\u001b[39m]\u001b[38;5;241m.\u001b[39mx)\n",
      "\u001b[0;31mNameError\u001b[0m: name 'out' is not defined"
     ]
    }
   ],
   "source": [
    "from IPython.display import display\n",
    "for r in out:\n",
    "    display(r['image'].x)"
   ]
  }
 ],
 "metadata": {
  "kernelspec": {
   "display_name": "Python 3 (ipykernel)",
   "language": "python",
   "name": "python3"
  },
  "language_info": {
   "codemirror_mode": {
    "name": "ipython",
    "version": 3
   },
   "file_extension": ".py",
   "mimetype": "text/x-python",
   "name": "python",
   "nbconvert_exporter": "python",
   "pygments_lexer": "ipython3",
   "version": "3.11.3"
  }
 },
 "nbformat": 4,
 "nbformat_minor": 5
}
